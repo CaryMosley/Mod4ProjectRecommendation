{
 "cells": [
  {
   "cell_type": "markdown",
   "metadata": {},
   "source": [
    "# Module 4 Project - Movie Recommendation System\n",
    "\n",
    "By: **Cary Mosley** and **Bryan Santos**"
   ]
  },
  {
   "cell_type": "markdown",
   "metadata": {},
   "source": [
    "For this project, we decided to build a recommendation system for movies. We want to ensure that our models are not biased towards popular movies. We want to be able to recommend \"hidden gems\" based on multiple criteria. Our goal is to build a hybrid model that will focus on content based recommendations when we do not have enough data for a user profile and weight our recommendations more towards similar users as we gather more data about our consumers. As ratings tend to be skewed towards popular movies we want to focus on movies that have high ratings but are not simply the most popular movies.\n",
    "\n",
    "Dataset: https://grouplens.org/datasets/movielens/100k\n",
    "\n",
    "***"
   ]
  },
  {
   "cell_type": "markdown",
   "metadata": {},
   "source": [
    "## Package Loads and Data Imports"
   ]
  },
  {
   "cell_type": "markdown",
   "metadata": {},
   "source": [
    "### Import necesary packages"
   ]
  },
  {
   "cell_type": "code",
   "execution_count": 160,
   "metadata": {},
   "outputs": [],
   "source": [
    "\n",
    "import pandas as pd\n",
    "import numpy as np\n",
    "\n",
    "import matplotlib.pyplot as plt\n",
    "import seaborn as sns\n",
    "sns.set()\n",
    "%matplotlib inline\n",
    "import surprise\n",
    "import sklearn\n",
    "import sklearn.metrics\n",
    "import datetime\n",
    "import nltk\n",
    "import matplotlib.pyplot as plt\n",
    "import string, re \n",
    "\n",
    "from scipy import stats\n",
    "from math import log\n",
    "from surprise import Reader, Dataset\n",
    "from surprise.model_selection import cross_validate\n",
    "from surprise.prediction_algorithms import SVD\n",
    "from surprise.prediction_algorithms import KNNWithMeans, KNNBasic, KNNBaseline\n",
    "from surprise.prediction_algorithms import knns\n",
    "from surprise.model_selection import GridSearchCV\n",
    "from sklearn.model_selection import train_test_split\n",
    "from surprise.model_selection import LeaveOneOut\n",
    "from sklearn.metrics.pairwise import linear_kernel\n",
    "from sklearn.metrics import pairwise_distances\n",
    "from scipy.spatial.distance import cosine, correlation\n",
    "from collections import defaultdict\n",
    "from nltk.tokenize import RegexpTokenizer\n",
    "from sklearn.feature_extraction.text import CountVectorizer\n",
    "from sklearn.feature_extraction.text import TfidfVectorizer\n",
    "from sklearn.feature_extraction.text import TfidfTransformer\n",
    "from nltk.probability import FreqDist\n",
    "from nltk.corpus import stopwords\n",
    "from sklearn.metrics.pairwise import cosine_similarity\n",
    "from sklearn.ensemble import RandomForestClassifier\n",
    "from sklearn.metrics import accuracy_score\n",
    "from sklearn.metrics import f1_score\n",
    "from nltk.tokenize import RegexpTokenizer\n",
    "from nltk.stem import PorterStemmer\n",
    "from nltk.stem import WordNetLemmatizer \n",
    "from nltk import word_tokenize\n",
    "from sklearn.pipeline import Pipeline\n",
    "from sklearn.metrics import classification_report\n",
    "from sklearn.naive_bayes import MultinomialNB\n",
    "from sklearn.linear_model import SGDClassifier\n",
    "from sklearn.linear_model import LogisticRegression\n",
    "from sklearn.metrics import confusion_matrix\n",
    "from sklearn.metrics.pairwise import linear_kernel, cosine_similarity\n",
    "lemmatizer = WordNetLemmatizer() \n",
    "from surprise import accuracy\n",
    "from surprise import Reader, Dataset, SVD\n",
    "\n",
    "import tensorflow as tf\n",
    "from scipy import sparse\n",
    "\n",
    "from keras.layers import Input, Embedding, Flatten, Dot, Dense\n",
    "from keras.models import Model, load_model as keras_load_model\n",
    "from keras import losses\n",
    "from keras.callbacks import EarlyStopping\n",
    "from keras.utils.np_utils import to_categorical\n",
    "from sklearn import preprocessing\n",
    "from keras.preprocessing.text import Tokenizer\n",
    "from keras import models\n",
    "from keras import layers\n",
    "from keras import optimizers\n",
    "import random\n",
    "from keras.models import Sequential\n",
    "\n",
    "\n",
    "\n",
    "# pd.set_option(\"display.max_rows\", None, \"display.max_columns\", None)\n",
    "\n",
    "import warnings\n",
    "warnings.filterwarnings(\"ignore\")"
   ]
  },
  {
   "cell_type": "code",
   "execution_count": 2,
   "metadata": {},
   "outputs": [],
   "source": [
    "%%capture\n",
    "\n",
    "from tqdm import tqdm_notebook as tqdm\n",
    "from tqdm import tnrange\n",
    "tqdm().pandas()"
   ]
  },
  {
   "cell_type": "markdown",
   "metadata": {},
   "source": [
    "### Data Load and Initial Cleaning"
   ]
  },
  {
   "cell_type": "code",
   "execution_count": 3,
   "metadata": {},
   "outputs": [],
   "source": [
    "#Import data files\n",
    "movies_df = pd.read_csv('movies.csv',index_col=False)\n",
    "ratings_df = pd.read_csv('ratings.csv',index_col=False)\n",
    "tags_df = pd.read_csv('tags.csv',index_col=False)\n",
    "links_df = pd.read_csv('links.csv', index_col=False)\n",
    "plot_df = pd.read_csv('plot.csv', index_col=False, engine='python')"
   ]
  },
  {
   "cell_type": "markdown",
   "metadata": {},
   "source": [
    "First thing is to look at each file to get an idea of what is contained. Then we will merge any relavent data sets and perform some EDA. We inspect each of the five csv files included."
   ]
  },
  {
   "cell_type": "code",
   "execution_count": 4,
   "metadata": {},
   "outputs": [
    {
     "data": {
      "text/html": [
       "<div>\n",
       "<style scoped>\n",
       "    .dataframe tbody tr th:only-of-type {\n",
       "        vertical-align: middle;\n",
       "    }\n",
       "\n",
       "    .dataframe tbody tr th {\n",
       "        vertical-align: top;\n",
       "    }\n",
       "\n",
       "    .dataframe thead th {\n",
       "        text-align: right;\n",
       "    }\n",
       "</style>\n",
       "<table border=\"1\" class=\"dataframe\">\n",
       "  <thead>\n",
       "    <tr style=\"text-align: right;\">\n",
       "      <th></th>\n",
       "      <th>movieId</th>\n",
       "      <th>title</th>\n",
       "      <th>genres</th>\n",
       "    </tr>\n",
       "  </thead>\n",
       "  <tbody>\n",
       "    <tr>\n",
       "      <td>0</td>\n",
       "      <td>1</td>\n",
       "      <td>Toy Story (1995)</td>\n",
       "      <td>Adventure|Animation|Children|Comedy|Fantasy</td>\n",
       "    </tr>\n",
       "    <tr>\n",
       "      <td>1</td>\n",
       "      <td>2</td>\n",
       "      <td>Jumanji (1995)</td>\n",
       "      <td>Adventure|Children|Fantasy</td>\n",
       "    </tr>\n",
       "    <tr>\n",
       "      <td>2</td>\n",
       "      <td>3</td>\n",
       "      <td>Grumpier Old Men (1995)</td>\n",
       "      <td>Comedy|Romance</td>\n",
       "    </tr>\n",
       "    <tr>\n",
       "      <td>3</td>\n",
       "      <td>4</td>\n",
       "      <td>Waiting to Exhale (1995)</td>\n",
       "      <td>Comedy|Drama|Romance</td>\n",
       "    </tr>\n",
       "    <tr>\n",
       "      <td>4</td>\n",
       "      <td>5</td>\n",
       "      <td>Father of the Bride Part II (1995)</td>\n",
       "      <td>Comedy</td>\n",
       "    </tr>\n",
       "  </tbody>\n",
       "</table>\n",
       "</div>"
      ],
      "text/plain": [
       "   movieId                               title  \\\n",
       "0        1                    Toy Story (1995)   \n",
       "1        2                      Jumanji (1995)   \n",
       "2        3             Grumpier Old Men (1995)   \n",
       "3        4            Waiting to Exhale (1995)   \n",
       "4        5  Father of the Bride Part II (1995)   \n",
       "\n",
       "                                        genres  \n",
       "0  Adventure|Animation|Children|Comedy|Fantasy  \n",
       "1                   Adventure|Children|Fantasy  \n",
       "2                               Comedy|Romance  \n",
       "3                         Comedy|Drama|Romance  \n",
       "4                                       Comedy  "
      ]
     },
     "execution_count": 4,
     "metadata": {},
     "output_type": "execute_result"
    }
   ],
   "source": [
    "movies_df.head()"
   ]
  },
  {
   "cell_type": "code",
   "execution_count": 5,
   "metadata": {},
   "outputs": [
    {
     "data": {
      "text/html": [
       "<div>\n",
       "<style scoped>\n",
       "    .dataframe tbody tr th:only-of-type {\n",
       "        vertical-align: middle;\n",
       "    }\n",
       "\n",
       "    .dataframe tbody tr th {\n",
       "        vertical-align: top;\n",
       "    }\n",
       "\n",
       "    .dataframe thead th {\n",
       "        text-align: right;\n",
       "    }\n",
       "</style>\n",
       "<table border=\"1\" class=\"dataframe\">\n",
       "  <thead>\n",
       "    <tr style=\"text-align: right;\">\n",
       "      <th></th>\n",
       "      <th>userId</th>\n",
       "      <th>movieId</th>\n",
       "      <th>rating</th>\n",
       "      <th>timestamp</th>\n",
       "    </tr>\n",
       "  </thead>\n",
       "  <tbody>\n",
       "    <tr>\n",
       "      <td>0</td>\n",
       "      <td>1</td>\n",
       "      <td>1</td>\n",
       "      <td>4.0</td>\n",
       "      <td>964982703</td>\n",
       "    </tr>\n",
       "    <tr>\n",
       "      <td>1</td>\n",
       "      <td>1</td>\n",
       "      <td>3</td>\n",
       "      <td>4.0</td>\n",
       "      <td>964981247</td>\n",
       "    </tr>\n",
       "    <tr>\n",
       "      <td>2</td>\n",
       "      <td>1</td>\n",
       "      <td>6</td>\n",
       "      <td>4.0</td>\n",
       "      <td>964982224</td>\n",
       "    </tr>\n",
       "    <tr>\n",
       "      <td>3</td>\n",
       "      <td>1</td>\n",
       "      <td>47</td>\n",
       "      <td>5.0</td>\n",
       "      <td>964983815</td>\n",
       "    </tr>\n",
       "    <tr>\n",
       "      <td>4</td>\n",
       "      <td>1</td>\n",
       "      <td>50</td>\n",
       "      <td>5.0</td>\n",
       "      <td>964982931</td>\n",
       "    </tr>\n",
       "  </tbody>\n",
       "</table>\n",
       "</div>"
      ],
      "text/plain": [
       "   userId  movieId  rating  timestamp\n",
       "0       1        1     4.0  964982703\n",
       "1       1        3     4.0  964981247\n",
       "2       1        6     4.0  964982224\n",
       "3       1       47     5.0  964983815\n",
       "4       1       50     5.0  964982931"
      ]
     },
     "execution_count": 5,
     "metadata": {},
     "output_type": "execute_result"
    }
   ],
   "source": [
    "ratings_df.head()"
   ]
  },
  {
   "cell_type": "code",
   "execution_count": 6,
   "metadata": {},
   "outputs": [
    {
     "data": {
      "text/html": [
       "<div>\n",
       "<style scoped>\n",
       "    .dataframe tbody tr th:only-of-type {\n",
       "        vertical-align: middle;\n",
       "    }\n",
       "\n",
       "    .dataframe tbody tr th {\n",
       "        vertical-align: top;\n",
       "    }\n",
       "\n",
       "    .dataframe thead th {\n",
       "        text-align: right;\n",
       "    }\n",
       "</style>\n",
       "<table border=\"1\" class=\"dataframe\">\n",
       "  <thead>\n",
       "    <tr style=\"text-align: right;\">\n",
       "      <th></th>\n",
       "      <th>userId</th>\n",
       "      <th>movieId</th>\n",
       "      <th>tag</th>\n",
       "      <th>timestamp</th>\n",
       "    </tr>\n",
       "  </thead>\n",
       "  <tbody>\n",
       "    <tr>\n",
       "      <td>0</td>\n",
       "      <td>2</td>\n",
       "      <td>60756</td>\n",
       "      <td>funny</td>\n",
       "      <td>1445714994</td>\n",
       "    </tr>\n",
       "    <tr>\n",
       "      <td>1</td>\n",
       "      <td>2</td>\n",
       "      <td>60756</td>\n",
       "      <td>Highly quotable</td>\n",
       "      <td>1445714996</td>\n",
       "    </tr>\n",
       "    <tr>\n",
       "      <td>2</td>\n",
       "      <td>2</td>\n",
       "      <td>60756</td>\n",
       "      <td>will ferrell</td>\n",
       "      <td>1445714992</td>\n",
       "    </tr>\n",
       "    <tr>\n",
       "      <td>3</td>\n",
       "      <td>2</td>\n",
       "      <td>89774</td>\n",
       "      <td>Boxing story</td>\n",
       "      <td>1445715207</td>\n",
       "    </tr>\n",
       "    <tr>\n",
       "      <td>4</td>\n",
       "      <td>2</td>\n",
       "      <td>89774</td>\n",
       "      <td>MMA</td>\n",
       "      <td>1445715200</td>\n",
       "    </tr>\n",
       "  </tbody>\n",
       "</table>\n",
       "</div>"
      ],
      "text/plain": [
       "   userId  movieId              tag   timestamp\n",
       "0       2    60756            funny  1445714994\n",
       "1       2    60756  Highly quotable  1445714996\n",
       "2       2    60756     will ferrell  1445714992\n",
       "3       2    89774     Boxing story  1445715207\n",
       "4       2    89774              MMA  1445715200"
      ]
     },
     "execution_count": 6,
     "metadata": {},
     "output_type": "execute_result"
    }
   ],
   "source": [
    "tags_df.head()"
   ]
  },
  {
   "cell_type": "code",
   "execution_count": 7,
   "metadata": {},
   "outputs": [
    {
     "data": {
      "text/html": [
       "<div>\n",
       "<style scoped>\n",
       "    .dataframe tbody tr th:only-of-type {\n",
       "        vertical-align: middle;\n",
       "    }\n",
       "\n",
       "    .dataframe tbody tr th {\n",
       "        vertical-align: top;\n",
       "    }\n",
       "\n",
       "    .dataframe thead th {\n",
       "        text-align: right;\n",
       "    }\n",
       "</style>\n",
       "<table border=\"1\" class=\"dataframe\">\n",
       "  <thead>\n",
       "    <tr style=\"text-align: right;\">\n",
       "      <th></th>\n",
       "      <th>movieId</th>\n",
       "      <th>imdbId</th>\n",
       "      <th>tmdbId</th>\n",
       "    </tr>\n",
       "  </thead>\n",
       "  <tbody>\n",
       "    <tr>\n",
       "      <td>0</td>\n",
       "      <td>1</td>\n",
       "      <td>114709</td>\n",
       "      <td>862.0</td>\n",
       "    </tr>\n",
       "    <tr>\n",
       "      <td>1</td>\n",
       "      <td>2</td>\n",
       "      <td>113497</td>\n",
       "      <td>8844.0</td>\n",
       "    </tr>\n",
       "    <tr>\n",
       "      <td>2</td>\n",
       "      <td>3</td>\n",
       "      <td>113228</td>\n",
       "      <td>15602.0</td>\n",
       "    </tr>\n",
       "    <tr>\n",
       "      <td>3</td>\n",
       "      <td>4</td>\n",
       "      <td>114885</td>\n",
       "      <td>31357.0</td>\n",
       "    </tr>\n",
       "    <tr>\n",
       "      <td>4</td>\n",
       "      <td>5</td>\n",
       "      <td>113041</td>\n",
       "      <td>11862.0</td>\n",
       "    </tr>\n",
       "  </tbody>\n",
       "</table>\n",
       "</div>"
      ],
      "text/plain": [
       "   movieId  imdbId   tmdbId\n",
       "0        1  114709    862.0\n",
       "1        2  113497   8844.0\n",
       "2        3  113228  15602.0\n",
       "3        4  114885  31357.0\n",
       "4        5  113041  11862.0"
      ]
     },
     "execution_count": 7,
     "metadata": {},
     "output_type": "execute_result"
    }
   ],
   "source": [
    "links_df.head()"
   ]
  },
  {
   "cell_type": "code",
   "execution_count": 8,
   "metadata": {},
   "outputs": [
    {
     "data": {
      "text/html": [
       "<div>\n",
       "<style scoped>\n",
       "    .dataframe tbody tr th:only-of-type {\n",
       "        vertical-align: middle;\n",
       "    }\n",
       "\n",
       "    .dataframe tbody tr th {\n",
       "        vertical-align: top;\n",
       "    }\n",
       "\n",
       "    .dataframe thead th {\n",
       "        text-align: right;\n",
       "    }\n",
       "</style>\n",
       "<table border=\"1\" class=\"dataframe\">\n",
       "  <thead>\n",
       "    <tr style=\"text-align: right;\">\n",
       "      <th></th>\n",
       "      <th>tmdbId</th>\n",
       "      <th>plot</th>\n",
       "    </tr>\n",
       "  </thead>\n",
       "  <tbody>\n",
       "    <tr>\n",
       "      <td>0</td>\n",
       "      <td>8844</td>\n",
       "      <td>When siblings Judy and Peter discover an encha...</td>\n",
       "    </tr>\n",
       "    <tr>\n",
       "      <td>1</td>\n",
       "      <td>15602</td>\n",
       "      <td>A family wedding reignites the ancient feud be...</td>\n",
       "    </tr>\n",
       "    <tr>\n",
       "      <td>2</td>\n",
       "      <td>31357</td>\n",
       "      <td>Cheated on, mistreated and stepped on, the wom...</td>\n",
       "    </tr>\n",
       "    <tr>\n",
       "      <td>3</td>\n",
       "      <td>11862</td>\n",
       "      <td>Just when George Banks has recovered from his ...</td>\n",
       "    </tr>\n",
       "    <tr>\n",
       "      <td>4</td>\n",
       "      <td>949</td>\n",
       "      <td>Obsessive master thief, Neil McCauley leads a ...</td>\n",
       "    </tr>\n",
       "  </tbody>\n",
       "</table>\n",
       "</div>"
      ],
      "text/plain": [
       "   tmdbId                                               plot\n",
       "0    8844  When siblings Judy and Peter discover an encha...\n",
       "1   15602  A family wedding reignites the ancient feud be...\n",
       "2   31357  Cheated on, mistreated and stepped on, the wom...\n",
       "3   11862  Just when George Banks has recovered from his ...\n",
       "4     949  Obsessive master thief, Neil McCauley leads a ..."
      ]
     },
     "execution_count": 8,
     "metadata": {},
     "output_type": "execute_result"
    }
   ],
   "source": [
    "del plot_df['Unnamed: 0']\n",
    "plot_df.head()"
   ]
  },
  {
   "cell_type": "code",
   "execution_count": 9,
   "metadata": {},
   "outputs": [
    {
     "name": "stdout",
     "output_type": "stream",
     "text": [
      "movie df - (9742, 3)\n",
      "ratings df - (100836, 4)\n",
      "links df - (9742, 3)\n",
      "plot df - (9741, 2)\n",
      "tags df - (3683, 4)\n"
     ]
    }
   ],
   "source": [
    "# Double check shape of each df prior to merging\n",
    "print(\"movie df - \" + str(movies_df.shape))\n",
    "print(\"ratings df - \" + str(ratings_df.shape))\n",
    "print(\"links df - \" + str(links_df.shape))\n",
    "print(\"plot df - \" + str(plot_df.shape))\n",
    "print(\"tags df - \" + str(tags_df.shape))"
   ]
  },
  {
   "cell_type": "code",
   "execution_count": 10,
   "metadata": {},
   "outputs": [
    {
     "data": {
      "text/html": [
       "<div>\n",
       "<style scoped>\n",
       "    .dataframe tbody tr th:only-of-type {\n",
       "        vertical-align: middle;\n",
       "    }\n",
       "\n",
       "    .dataframe tbody tr th {\n",
       "        vertical-align: top;\n",
       "    }\n",
       "\n",
       "    .dataframe thead th {\n",
       "        text-align: right;\n",
       "    }\n",
       "</style>\n",
       "<table border=\"1\" class=\"dataframe\">\n",
       "  <thead>\n",
       "    <tr style=\"text-align: right;\">\n",
       "      <th></th>\n",
       "      <th>title</th>\n",
       "      <th>genres</th>\n",
       "    </tr>\n",
       "    <tr>\n",
       "      <th>movieId</th>\n",
       "      <th></th>\n",
       "      <th></th>\n",
       "    </tr>\n",
       "  </thead>\n",
       "  <tbody>\n",
       "    <tr>\n",
       "      <td>1</td>\n",
       "      <td>Toy Story (1995)</td>\n",
       "      <td>Adventure|Animation|Children|Comedy|Fantasy</td>\n",
       "    </tr>\n",
       "    <tr>\n",
       "      <td>2</td>\n",
       "      <td>Jumanji (1995)</td>\n",
       "      <td>Adventure|Children|Fantasy</td>\n",
       "    </tr>\n",
       "    <tr>\n",
       "      <td>3</td>\n",
       "      <td>Grumpier Old Men (1995)</td>\n",
       "      <td>Comedy|Romance</td>\n",
       "    </tr>\n",
       "    <tr>\n",
       "      <td>4</td>\n",
       "      <td>Waiting to Exhale (1995)</td>\n",
       "      <td>Comedy|Drama|Romance</td>\n",
       "    </tr>\n",
       "    <tr>\n",
       "      <td>5</td>\n",
       "      <td>Father of the Bride Part II (1995)</td>\n",
       "      <td>Comedy</td>\n",
       "    </tr>\n",
       "    <tr>\n",
       "      <td>...</td>\n",
       "      <td>...</td>\n",
       "      <td>...</td>\n",
       "    </tr>\n",
       "    <tr>\n",
       "      <td>193581</td>\n",
       "      <td>Black Butler: Book of the Atlantic (2017)</td>\n",
       "      <td>Action|Animation|Comedy|Fantasy</td>\n",
       "    </tr>\n",
       "    <tr>\n",
       "      <td>193583</td>\n",
       "      <td>No Game No Life: Zero (2017)</td>\n",
       "      <td>Animation|Comedy|Fantasy</td>\n",
       "    </tr>\n",
       "    <tr>\n",
       "      <td>193585</td>\n",
       "      <td>Flint (2017)</td>\n",
       "      <td>Drama</td>\n",
       "    </tr>\n",
       "    <tr>\n",
       "      <td>193587</td>\n",
       "      <td>Bungo Stray Dogs: Dead Apple (2018)</td>\n",
       "      <td>Action|Animation</td>\n",
       "    </tr>\n",
       "    <tr>\n",
       "      <td>193609</td>\n",
       "      <td>Andrew Dice Clay: Dice Rules (1991)</td>\n",
       "      <td>Comedy</td>\n",
       "    </tr>\n",
       "  </tbody>\n",
       "</table>\n",
       "<p>9742 rows × 2 columns</p>\n",
       "</div>"
      ],
      "text/plain": [
       "                                             title  \\\n",
       "movieId                                              \n",
       "1                                 Toy Story (1995)   \n",
       "2                                   Jumanji (1995)   \n",
       "3                          Grumpier Old Men (1995)   \n",
       "4                         Waiting to Exhale (1995)   \n",
       "5               Father of the Bride Part II (1995)   \n",
       "...                                            ...   \n",
       "193581   Black Butler: Book of the Atlantic (2017)   \n",
       "193583                No Game No Life: Zero (2017)   \n",
       "193585                                Flint (2017)   \n",
       "193587         Bungo Stray Dogs: Dead Apple (2018)   \n",
       "193609         Andrew Dice Clay: Dice Rules (1991)   \n",
       "\n",
       "                                              genres  \n",
       "movieId                                               \n",
       "1        Adventure|Animation|Children|Comedy|Fantasy  \n",
       "2                         Adventure|Children|Fantasy  \n",
       "3                                     Comedy|Romance  \n",
       "4                               Comedy|Drama|Romance  \n",
       "5                                             Comedy  \n",
       "...                                              ...  \n",
       "193581               Action|Animation|Comedy|Fantasy  \n",
       "193583                      Animation|Comedy|Fantasy  \n",
       "193585                                         Drama  \n",
       "193587                              Action|Animation  \n",
       "193609                                        Comedy  \n",
       "\n",
       "[9742 rows x 2 columns]"
      ]
     },
     "execution_count": 10,
     "metadata": {},
     "output_type": "execute_result"
    }
   ],
   "source": [
    "movies_df.set_index('movieId')"
   ]
  },
  {
   "cell_type": "code",
   "execution_count": 11,
   "metadata": {},
   "outputs": [],
   "source": [
    "# Add IMDB/TMDB links for merging with movie plot gathered from API calls \n",
    "df = pd.merge(movies_df,links_df, on='movieId', how='left')"
   ]
  },
  {
   "cell_type": "code",
   "execution_count": 12,
   "metadata": {},
   "outputs": [],
   "source": [
    "df2 = df.copy()"
   ]
  },
  {
   "cell_type": "code",
   "execution_count": 13,
   "metadata": {},
   "outputs": [
    {
     "data": {
      "text/plain": [
       "(9742, 5)"
      ]
     },
     "execution_count": 13,
     "metadata": {},
     "output_type": "execute_result"
    }
   ],
   "source": [
    "df.shape"
   ]
  },
  {
   "cell_type": "code",
   "execution_count": 14,
   "metadata": {},
   "outputs": [
    {
     "data": {
      "text/html": [
       "<div>\n",
       "<style scoped>\n",
       "    .dataframe tbody tr th:only-of-type {\n",
       "        vertical-align: middle;\n",
       "    }\n",
       "\n",
       "    .dataframe tbody tr th {\n",
       "        vertical-align: top;\n",
       "    }\n",
       "\n",
       "    .dataframe thead th {\n",
       "        text-align: right;\n",
       "    }\n",
       "</style>\n",
       "<table border=\"1\" class=\"dataframe\">\n",
       "  <thead>\n",
       "    <tr style=\"text-align: right;\">\n",
       "      <th></th>\n",
       "      <th>movieId</th>\n",
       "      <th>title</th>\n",
       "      <th>genres</th>\n",
       "      <th>imdbId</th>\n",
       "      <th>tmdbId</th>\n",
       "    </tr>\n",
       "  </thead>\n",
       "  <tbody>\n",
       "    <tr>\n",
       "      <td>0</td>\n",
       "      <td>1</td>\n",
       "      <td>Toy Story (1995)</td>\n",
       "      <td>Adventure|Animation|Children|Comedy|Fantasy</td>\n",
       "      <td>114709</td>\n",
       "      <td>862.0</td>\n",
       "    </tr>\n",
       "    <tr>\n",
       "      <td>1</td>\n",
       "      <td>2</td>\n",
       "      <td>Jumanji (1995)</td>\n",
       "      <td>Adventure|Children|Fantasy</td>\n",
       "      <td>113497</td>\n",
       "      <td>8844.0</td>\n",
       "    </tr>\n",
       "    <tr>\n",
       "      <td>2</td>\n",
       "      <td>3</td>\n",
       "      <td>Grumpier Old Men (1995)</td>\n",
       "      <td>Comedy|Romance</td>\n",
       "      <td>113228</td>\n",
       "      <td>15602.0</td>\n",
       "    </tr>\n",
       "    <tr>\n",
       "      <td>3</td>\n",
       "      <td>4</td>\n",
       "      <td>Waiting to Exhale (1995)</td>\n",
       "      <td>Comedy|Drama|Romance</td>\n",
       "      <td>114885</td>\n",
       "      <td>31357.0</td>\n",
       "    </tr>\n",
       "    <tr>\n",
       "      <td>4</td>\n",
       "      <td>5</td>\n",
       "      <td>Father of the Bride Part II (1995)</td>\n",
       "      <td>Comedy</td>\n",
       "      <td>113041</td>\n",
       "      <td>11862.0</td>\n",
       "    </tr>\n",
       "  </tbody>\n",
       "</table>\n",
       "</div>"
      ],
      "text/plain": [
       "   movieId                               title  \\\n",
       "0        1                    Toy Story (1995)   \n",
       "1        2                      Jumanji (1995)   \n",
       "2        3             Grumpier Old Men (1995)   \n",
       "3        4            Waiting to Exhale (1995)   \n",
       "4        5  Father of the Bride Part II (1995)   \n",
       "\n",
       "                                        genres  imdbId   tmdbId  \n",
       "0  Adventure|Animation|Children|Comedy|Fantasy  114709    862.0  \n",
       "1                   Adventure|Children|Fantasy  113497   8844.0  \n",
       "2                               Comedy|Romance  113228  15602.0  \n",
       "3                         Comedy|Drama|Romance  114885  31357.0  \n",
       "4                                       Comedy  113041  11862.0  "
      ]
     },
     "execution_count": 14,
     "metadata": {},
     "output_type": "execute_result"
    }
   ],
   "source": [
    "df.head()"
   ]
  },
  {
   "cell_type": "code",
   "execution_count": 15,
   "metadata": {},
   "outputs": [],
   "source": [
    "nlp_df = pd.merge(df2,plot_df, on='tmdbId', how='left')"
   ]
  },
  {
   "cell_type": "code",
   "execution_count": 16,
   "metadata": {},
   "outputs": [],
   "source": [
    "# Merge all movie details with dataset that has ratings\n",
    "df = pd.merge(ratings_df,df, on=\"movieId\", how=\"inner\")"
   ]
  },
  {
   "cell_type": "code",
   "execution_count": 17,
   "metadata": {},
   "outputs": [],
   "source": [
    "# Merge to get each movie plot for NLP \n",
    "df = pd.merge(df,plot_df, on='tmdbId', how='left')"
   ]
  },
  {
   "cell_type": "code",
   "execution_count": 18,
   "metadata": {},
   "outputs": [
    {
     "data": {
      "text/html": [
       "<div>\n",
       "<style scoped>\n",
       "    .dataframe tbody tr th:only-of-type {\n",
       "        vertical-align: middle;\n",
       "    }\n",
       "\n",
       "    .dataframe tbody tr th {\n",
       "        vertical-align: top;\n",
       "    }\n",
       "\n",
       "    .dataframe thead th {\n",
       "        text-align: right;\n",
       "    }\n",
       "</style>\n",
       "<table border=\"1\" class=\"dataframe\">\n",
       "  <thead>\n",
       "    <tr style=\"text-align: right;\">\n",
       "      <th></th>\n",
       "      <th>movieId</th>\n",
       "      <th>title</th>\n",
       "      <th>genres</th>\n",
       "      <th>imdbId</th>\n",
       "      <th>tmdbId</th>\n",
       "      <th>plot</th>\n",
       "    </tr>\n",
       "  </thead>\n",
       "  <tbody>\n",
       "    <tr>\n",
       "      <td>0</td>\n",
       "      <td>1</td>\n",
       "      <td>Toy Story (1995)</td>\n",
       "      <td>Adventure|Animation|Children|Comedy|Fantasy</td>\n",
       "      <td>114709</td>\n",
       "      <td>862.0</td>\n",
       "      <td>Led by Woody, Andy's toys live happily in his ...</td>\n",
       "    </tr>\n",
       "    <tr>\n",
       "      <td>1</td>\n",
       "      <td>2</td>\n",
       "      <td>Jumanji (1995)</td>\n",
       "      <td>Adventure|Children|Fantasy</td>\n",
       "      <td>113497</td>\n",
       "      <td>8844.0</td>\n",
       "      <td>When siblings Judy and Peter discover an encha...</td>\n",
       "    </tr>\n",
       "    <tr>\n",
       "      <td>3</td>\n",
       "      <td>3</td>\n",
       "      <td>Grumpier Old Men (1995)</td>\n",
       "      <td>Comedy|Romance</td>\n",
       "      <td>113228</td>\n",
       "      <td>15602.0</td>\n",
       "      <td>A family wedding reignites the ancient feud be...</td>\n",
       "    </tr>\n",
       "    <tr>\n",
       "      <td>5</td>\n",
       "      <td>4</td>\n",
       "      <td>Waiting to Exhale (1995)</td>\n",
       "      <td>Comedy|Drama|Romance</td>\n",
       "      <td>114885</td>\n",
       "      <td>31357.0</td>\n",
       "      <td>Cheated on, mistreated and stepped on, the wom...</td>\n",
       "    </tr>\n",
       "    <tr>\n",
       "      <td>7</td>\n",
       "      <td>5</td>\n",
       "      <td>Father of the Bride Part II (1995)</td>\n",
       "      <td>Comedy</td>\n",
       "      <td>113041</td>\n",
       "      <td>11862.0</td>\n",
       "      <td>Just when George Banks has recovered from his ...</td>\n",
       "    </tr>\n",
       "    <tr>\n",
       "      <td>...</td>\n",
       "      <td>...</td>\n",
       "      <td>...</td>\n",
       "      <td>...</td>\n",
       "      <td>...</td>\n",
       "      <td>...</td>\n",
       "      <td>...</td>\n",
       "    </tr>\n",
       "    <tr>\n",
       "      <td>9762</td>\n",
       "      <td>193581</td>\n",
       "      <td>Black Butler: Book of the Atlantic (2017)</td>\n",
       "      <td>Action|Animation|Comedy|Fantasy</td>\n",
       "      <td>5476944</td>\n",
       "      <td>432131.0</td>\n",
       "      <td>Ciel learns of a \"Aurora Society\", that is rum...</td>\n",
       "    </tr>\n",
       "    <tr>\n",
       "      <td>9763</td>\n",
       "      <td>193583</td>\n",
       "      <td>No Game No Life: Zero (2017)</td>\n",
       "      <td>Animation|Comedy|Fantasy</td>\n",
       "      <td>5914996</td>\n",
       "      <td>445030.0</td>\n",
       "      <td>In ancient Disboard, Riku is an angry, young w...</td>\n",
       "    </tr>\n",
       "    <tr>\n",
       "      <td>9764</td>\n",
       "      <td>193585</td>\n",
       "      <td>Flint (2017)</td>\n",
       "      <td>Drama</td>\n",
       "      <td>6397426</td>\n",
       "      <td>479308.0</td>\n",
       "      <td>A woman deals with the toxic water scandal in ...</td>\n",
       "    </tr>\n",
       "    <tr>\n",
       "      <td>9765</td>\n",
       "      <td>193587</td>\n",
       "      <td>Bungo Stray Dogs: Dead Apple (2018)</td>\n",
       "      <td>Action|Animation</td>\n",
       "      <td>8391976</td>\n",
       "      <td>483455.0</td>\n",
       "      <td>Power users around the world are suddenly comm...</td>\n",
       "    </tr>\n",
       "    <tr>\n",
       "      <td>9766</td>\n",
       "      <td>193609</td>\n",
       "      <td>Andrew Dice Clay: Dice Rules (1991)</td>\n",
       "      <td>Comedy</td>\n",
       "      <td>101726</td>\n",
       "      <td>37891.0</td>\n",
       "      <td>Outrageous, misogynistic and vulgar-to-the-max...</td>\n",
       "    </tr>\n",
       "  </tbody>\n",
       "</table>\n",
       "<p>9742 rows × 6 columns</p>\n",
       "</div>"
      ],
      "text/plain": [
       "      movieId                                      title  \\\n",
       "0           1                           Toy Story (1995)   \n",
       "1           2                             Jumanji (1995)   \n",
       "3           3                    Grumpier Old Men (1995)   \n",
       "5           4                   Waiting to Exhale (1995)   \n",
       "7           5         Father of the Bride Part II (1995)   \n",
       "...       ...                                        ...   \n",
       "9762   193581  Black Butler: Book of the Atlantic (2017)   \n",
       "9763   193583               No Game No Life: Zero (2017)   \n",
       "9764   193585                               Flint (2017)   \n",
       "9765   193587        Bungo Stray Dogs: Dead Apple (2018)   \n",
       "9766   193609        Andrew Dice Clay: Dice Rules (1991)   \n",
       "\n",
       "                                           genres   imdbId    tmdbId  \\\n",
       "0     Adventure|Animation|Children|Comedy|Fantasy   114709     862.0   \n",
       "1                      Adventure|Children|Fantasy   113497    8844.0   \n",
       "3                                  Comedy|Romance   113228   15602.0   \n",
       "5                            Comedy|Drama|Romance   114885   31357.0   \n",
       "7                                          Comedy   113041   11862.0   \n",
       "...                                           ...      ...       ...   \n",
       "9762              Action|Animation|Comedy|Fantasy  5476944  432131.0   \n",
       "9763                     Animation|Comedy|Fantasy  5914996  445030.0   \n",
       "9764                                        Drama  6397426  479308.0   \n",
       "9765                             Action|Animation  8391976  483455.0   \n",
       "9766                                       Comedy   101726   37891.0   \n",
       "\n",
       "                                                   plot  \n",
       "0     Led by Woody, Andy's toys live happily in his ...  \n",
       "1     When siblings Judy and Peter discover an encha...  \n",
       "3     A family wedding reignites the ancient feud be...  \n",
       "5     Cheated on, mistreated and stepped on, the wom...  \n",
       "7     Just when George Banks has recovered from his ...  \n",
       "...                                                 ...  \n",
       "9762  Ciel learns of a \"Aurora Society\", that is rum...  \n",
       "9763  In ancient Disboard, Riku is an angry, young w...  \n",
       "9764  A woman deals with the toxic water scandal in ...  \n",
       "9765  Power users around the world are suddenly comm...  \n",
       "9766  Outrageous, misogynistic and vulgar-to-the-max...  \n",
       "\n",
       "[9742 rows x 6 columns]"
      ]
     },
     "execution_count": 18,
     "metadata": {},
     "output_type": "execute_result"
    }
   ],
   "source": [
    "nlp_df = nlp_df.drop_duplicates(subset=['movieId'], keep='first')\n",
    "nlp_df"
   ]
  },
  {
   "cell_type": "markdown",
   "metadata": {},
   "source": [
    "## EDA"
   ]
  },
  {
   "cell_type": "markdown",
   "metadata": {},
   "source": [
    "### Ratings"
   ]
  },
  {
   "cell_type": "markdown",
   "metadata": {},
   "source": [
    "**Count per User Rating**"
   ]
  },
  {
   "cell_type": "markdown",
   "metadata": {},
   "source": [
    "The first data we'll look at is for the collaborative model will just be using the ratings dataframe"
   ]
  },
  {
   "cell_type": "code",
   "execution_count": 19,
   "metadata": {},
   "outputs": [
    {
     "name": "stdout",
     "output_type": "stream",
     "text": [
      "<class 'pandas.core.frame.DataFrame'>\n",
      "RangeIndex: 100836 entries, 0 to 100835\n",
      "Data columns (total 4 columns):\n",
      "userId       100836 non-null int64\n",
      "movieId      100836 non-null int64\n",
      "rating       100836 non-null float64\n",
      "timestamp    100836 non-null int64\n",
      "dtypes: float64(1), int64(3)\n",
      "memory usage: 3.1 MB\n"
     ]
    }
   ],
   "source": [
    "#Look at column types\n",
    "ratings_df.info()"
   ]
  },
  {
   "cell_type": "code",
   "execution_count": 20,
   "metadata": {},
   "outputs": [
    {
     "data": {
      "text/plain": [
       "userId       0\n",
       "movieId      0\n",
       "rating       0\n",
       "timestamp    0\n",
       "dtype: int64"
      ]
     },
     "execution_count": 20,
     "metadata": {},
     "output_type": "execute_result"
    }
   ],
   "source": [
    "#Check for null values\n",
    "ratings_df.isnull().sum()"
   ]
  },
  {
   "cell_type": "code",
   "execution_count": 21,
   "metadata": {},
   "outputs": [
    {
     "data": {
      "text/plain": [
       "4.0    26818\n",
       "3.0    20047\n",
       "5.0    13211\n",
       "3.5    13136\n",
       "4.5     8551\n",
       "2.0     7551\n",
       "2.5     5550\n",
       "1.0     2811\n",
       "1.5     1791\n",
       "0.5     1370\n",
       "Name: rating, dtype: int64"
      ]
     },
     "execution_count": 21,
     "metadata": {},
     "output_type": "execute_result"
    }
   ],
   "source": [
    "ratings_df['rating'].value_counts()"
   ]
  },
  {
   "cell_type": "code",
   "execution_count": 22,
   "metadata": {},
   "outputs": [
    {
     "data": {
      "image/png": "[encoded data removed]",
      "text/plain": [
       "<Figure size 432x288 with 1 Axes>"
      ]
     },
     "metadata": {
      "needs_background": "light"
     },
     "output_type": "display_data"
    }
   ],
   "source": [
    "\n",
    "fig, ax = plt.subplots()\n",
    "ax = ratings_df['rating'].value_counts().plot(kind='bar')\n",
    "ax.set_xlabel('Rating Value')  # Add an x-label to the axes.\n",
    "ax.set_ylabel('Ratings Count')  # Add a y-label to the axes.\n",
    "ax.set_title(\"Count of Ratings by Value\")  # Add a title to the axes.\n",
    "plt.show()"
   ]
  },
  {
   "cell_type": "markdown",
   "metadata": {},
   "source": [
    "*Observations:*\n",
    "\n",
    "We can see that majority of the movies are rated either 3 or 4 out of 5 stars. It is important to note that movies with perfect ratings placed third with 13,211 ratings."
   ]
  },
  {
   "cell_type": "markdown",
   "metadata": {},
   "source": [
    "**Rating Distribution**"
   ]
  },
  {
   "cell_type": "code",
   "execution_count": 23,
   "metadata": {
    "scrolled": true
   },
   "outputs": [
    {
     "data": {
      "text/plain": [
       "Text(0, 0.5, 'Ratings Count')"
      ]
     },
     "execution_count": 23,
     "metadata": {},
     "output_type": "execute_result"
    },
    {
     "data": {
      "image/png": "[encoded data removed]",
      "text/plain": [
       "<Figure size 720x432 with 1 Axes>"
      ]
     },
     "metadata": {
      "needs_background": "light"
     },
     "output_type": "display_data"
    }
   ],
   "source": [
    "plt.figure(figsize=(10,6))\n",
    "plt.hist(ratings_df['rating'], bins = 5)\n",
    "plt.title('Rating Distribution')\n",
    "plt.xlabel('Rating Value')\n",
    "plt.ylabel('Ratings Count')"
   ]
  },
  {
   "cell_type": "markdown",
   "metadata": {},
   "source": [
    "*Observations:*\n",
    "    \n",
    "We can see that majority of the movies are rated either 3 or 4 out of 5 stars. There are more perfectly rated movies versus those with the minimum rating."
   ]
  },
  {
   "cell_type": "markdown",
   "metadata": {},
   "source": [
    "### Users"
   ]
  },
  {
   "cell_type": "markdown",
   "metadata": {},
   "source": [
    "**Distribution of User Behavior**"
   ]
  },
  {
   "cell_type": "code",
   "execution_count": 24,
   "metadata": {},
   "outputs": [],
   "source": [
    "x = ratings_df['userId'].value_counts()\n",
    "users = x.index[:]\n",
    "counts = x.iloc[:]"
   ]
  },
  {
   "cell_type": "code",
   "execution_count": 25,
   "metadata": {},
   "outputs": [
    {
     "data": {
      "image/png": "[encoded data removed]",
      "text/plain": [
       "<Figure size 1080x576 with 1 Axes>"
      ]
     },
     "metadata": {
      "needs_background": "light"
     },
     "output_type": "display_data"
    }
   ],
   "source": [
    "plt.figure(figsize=(15,8))\n",
    "plt.hist(counts, 50, density=False, alpha=0.75)\n",
    "plt.xlabel('Number of Movies Rated')\n",
    "plt.ylabel('Number of Users')\n",
    "plt.title('Fig 1.2 Distribution of User Behavior')\n",
    "plt.grid(True)\n",
    "plt.show()"
   ]
  },
  {
   "cell_type": "markdown",
   "metadata": {},
   "source": [
    "*Observations:*\n",
    "\n",
    "It is strange that the vast majority of the users have reviewed very few movies. Yet, there are outliers who have reviewed more than 2,000 movies. This may present a challenge when using User-User similarity as we don't have many points of comparison for the majority of users."
   ]
  },
  {
   "cell_type": "code",
   "execution_count": 26,
   "metadata": {},
   "outputs": [
    {
     "data": {
      "image/png": "[encoded data removed]",
      "text/plain": [
       "<Figure size 432x360 with 1 Axes>"
      ]
     },
     "metadata": {
      "needs_background": "light"
     },
     "output_type": "display_data"
    }
   ],
   "source": [
    "plt.figure(figsize=(6,5))\n",
    "sns.boxplot(ratings_df['rating'])\n",
    "plt.xlabel('Users')\n",
    "plt.ylabel('Rating Scale')\n",
    "plt.title('Distibution of Ratings')\n",
    "plt.show()"
   ]
  },
  {
   "cell_type": "markdown",
   "metadata": {},
   "source": [
    "*Observations:*\n",
    "\n",
    "We see that the average rating is centred around the 3.5 and the interquartile range is between 3-4. A lot of movies have been highly rated. This may present a difficulty with Item-Item similarity as there is not enough difference in many items to form an accurate picture of the distance between them."
   ]
  },
  {
   "cell_type": "markdown",
   "metadata": {},
   "source": [
    "### Genres"
   ]
  },
  {
   "cell_type": "markdown",
   "metadata": {},
   "source": [
    "We now look into the different genres of the movies reviewed. In order to that, some pre-processing is necessary because each movie has multiple genres listed. This needs to be fleshed out."
   ]
  },
  {
   "cell_type": "code",
   "execution_count": 27,
   "metadata": {},
   "outputs": [],
   "source": [
    "def splitDataFrameList(df,target_column,separator):\n",
    "    ''' df = dataframe to split,\n",
    "    target_column = the column containing the values to split\n",
    "    separator = the symbol used to perform the split\n",
    "    returns: a dataframe with each entry for the target column separated, with each element moved into a new row. \n",
    "    The values in the other columns are duplicated across the newly divided rows.\n",
    "    '''\n",
    "    def splitListToRows(row,row_accumulator,target_column,separator):\n",
    "        split_row = row[target_column].split(separator)\n",
    "        for s in split_row:\n",
    "            new_row = row.to_dict()\n",
    "            new_row[target_column] = s\n",
    "            row_accumulator.append(new_row)\n",
    "    new_rows = []\n",
    "    df.apply(splitListToRows,axis=1,args = (new_rows,target_column,separator))\n",
    "    new_df = pd.DataFrame(new_rows)\n",
    "    return new_df"
   ]
  },
  {
   "cell_type": "code",
   "execution_count": 28,
   "metadata": {},
   "outputs": [],
   "source": [
    "genres_df = splitDataFrameList(df,\"genres\",\"|\")"
   ]
  },
  {
   "cell_type": "code",
   "execution_count": 29,
   "metadata": {},
   "outputs": [
    {
     "data": {
      "text/html": [
       "<div>\n",
       "<style scoped>\n",
       "    .dataframe tbody tr th:only-of-type {\n",
       "        vertical-align: middle;\n",
       "    }\n",
       "\n",
       "    .dataframe tbody tr th {\n",
       "        vertical-align: top;\n",
       "    }\n",
       "\n",
       "    .dataframe thead th {\n",
       "        text-align: right;\n",
       "    }\n",
       "</style>\n",
       "<table border=\"1\" class=\"dataframe\">\n",
       "  <thead>\n",
       "    <tr style=\"text-align: right;\">\n",
       "      <th></th>\n",
       "      <th>userId</th>\n",
       "      <th>movieId</th>\n",
       "      <th>rating</th>\n",
       "      <th>timestamp</th>\n",
       "      <th>title</th>\n",
       "      <th>genres</th>\n",
       "      <th>imdbId</th>\n",
       "      <th>tmdbId</th>\n",
       "      <th>plot</th>\n",
       "    </tr>\n",
       "  </thead>\n",
       "  <tbody>\n",
       "    <tr>\n",
       "      <td>0</td>\n",
       "      <td>1</td>\n",
       "      <td>1</td>\n",
       "      <td>4.0</td>\n",
       "      <td>964982703</td>\n",
       "      <td>Toy Story (1995)</td>\n",
       "      <td>Adventure</td>\n",
       "      <td>114709</td>\n",
       "      <td>862.0</td>\n",
       "      <td>Led by Woody, Andy's toys live happily in his ...</td>\n",
       "    </tr>\n",
       "    <tr>\n",
       "      <td>1</td>\n",
       "      <td>1</td>\n",
       "      <td>1</td>\n",
       "      <td>4.0</td>\n",
       "      <td>964982703</td>\n",
       "      <td>Toy Story (1995)</td>\n",
       "      <td>Animation</td>\n",
       "      <td>114709</td>\n",
       "      <td>862.0</td>\n",
       "      <td>Led by Woody, Andy's toys live happily in his ...</td>\n",
       "    </tr>\n",
       "    <tr>\n",
       "      <td>2</td>\n",
       "      <td>1</td>\n",
       "      <td>1</td>\n",
       "      <td>4.0</td>\n",
       "      <td>964982703</td>\n",
       "      <td>Toy Story (1995)</td>\n",
       "      <td>Children</td>\n",
       "      <td>114709</td>\n",
       "      <td>862.0</td>\n",
       "      <td>Led by Woody, Andy's toys live happily in his ...</td>\n",
       "    </tr>\n",
       "    <tr>\n",
       "      <td>3</td>\n",
       "      <td>1</td>\n",
       "      <td>1</td>\n",
       "      <td>4.0</td>\n",
       "      <td>964982703</td>\n",
       "      <td>Toy Story (1995)</td>\n",
       "      <td>Comedy</td>\n",
       "      <td>114709</td>\n",
       "      <td>862.0</td>\n",
       "      <td>Led by Woody, Andy's toys live happily in his ...</td>\n",
       "    </tr>\n",
       "    <tr>\n",
       "      <td>4</td>\n",
       "      <td>1</td>\n",
       "      <td>1</td>\n",
       "      <td>4.0</td>\n",
       "      <td>964982703</td>\n",
       "      <td>Toy Story (1995)</td>\n",
       "      <td>Fantasy</td>\n",
       "      <td>114709</td>\n",
       "      <td>862.0</td>\n",
       "      <td>Led by Woody, Andy's toys live happily in his ...</td>\n",
       "    </tr>\n",
       "  </tbody>\n",
       "</table>\n",
       "</div>"
      ],
      "text/plain": [
       "   userId  movieId  rating  timestamp             title     genres  imdbId  \\\n",
       "0       1        1     4.0  964982703  Toy Story (1995)  Adventure  114709   \n",
       "1       1        1     4.0  964982703  Toy Story (1995)  Animation  114709   \n",
       "2       1        1     4.0  964982703  Toy Story (1995)   Children  114709   \n",
       "3       1        1     4.0  964982703  Toy Story (1995)     Comedy  114709   \n",
       "4       1        1     4.0  964982703  Toy Story (1995)    Fantasy  114709   \n",
       "\n",
       "   tmdbId                                               plot  \n",
       "0   862.0  Led by Woody, Andy's toys live happily in his ...  \n",
       "1   862.0  Led by Woody, Andy's toys live happily in his ...  \n",
       "2   862.0  Led by Woody, Andy's toys live happily in his ...  \n",
       "3   862.0  Led by Woody, Andy's toys live happily in his ...  \n",
       "4   862.0  Led by Woody, Andy's toys live happily in his ...  "
      ]
     },
     "execution_count": 29,
     "metadata": {},
     "output_type": "execute_result"
    }
   ],
   "source": [
    "genres_df.head(5)"
   ]
  },
  {
   "cell_type": "code",
   "execution_count": 30,
   "metadata": {},
   "outputs": [],
   "source": [
    "genres_mean_df = genres_df.groupby('genres', as_index=False).agg({'rating': ['mean','count']})\n",
    "genres_mean_df.columns = genres_mean_df.columns.droplevel(0)"
   ]
  },
  {
   "cell_type": "code",
   "execution_count": 31,
   "metadata": {},
   "outputs": [],
   "source": [
    "genres_mean_df.columns = ['Genre', 'Mean', 'Count']\n",
    "genres_mean_df = genres_mean_df.sort_values(\"Mean\", ascending=False)"
   ]
  },
  {
   "cell_type": "code",
   "execution_count": 32,
   "metadata": {},
   "outputs": [
    {
     "data": {
      "text/html": [
       "<div>\n",
       "<style scoped>\n",
       "    .dataframe tbody tr th:only-of-type {\n",
       "        vertical-align: middle;\n",
       "    }\n",
       "\n",
       "    .dataframe tbody tr th {\n",
       "        vertical-align: top;\n",
       "    }\n",
       "\n",
       "    .dataframe thead th {\n",
       "        text-align: right;\n",
       "    }\n",
       "</style>\n",
       "<table border=\"1\" class=\"dataframe\">\n",
       "  <thead>\n",
       "    <tr style=\"text-align: right;\">\n",
       "      <th></th>\n",
       "      <th>Genre</th>\n",
       "      <th>Mean</th>\n",
       "      <th>Count</th>\n",
       "    </tr>\n",
       "  </thead>\n",
       "  <tbody>\n",
       "    <tr>\n",
       "      <td>10</td>\n",
       "      <td>Film-Noir</td>\n",
       "      <td>3.920115</td>\n",
       "      <td>870</td>\n",
       "    </tr>\n",
       "    <tr>\n",
       "      <td>18</td>\n",
       "      <td>War</td>\n",
       "      <td>3.808294</td>\n",
       "      <td>4859</td>\n",
       "    </tr>\n",
       "    <tr>\n",
       "      <td>7</td>\n",
       "      <td>Documentary</td>\n",
       "      <td>3.797785</td>\n",
       "      <td>1219</td>\n",
       "    </tr>\n",
       "    <tr>\n",
       "      <td>6</td>\n",
       "      <td>Crime</td>\n",
       "      <td>3.657980</td>\n",
       "      <td>17037</td>\n",
       "    </tr>\n",
       "    <tr>\n",
       "      <td>8</td>\n",
       "      <td>Drama</td>\n",
       "      <td>3.655642</td>\n",
       "      <td>42267</td>\n",
       "    </tr>\n",
       "  </tbody>\n",
       "</table>\n",
       "</div>"
      ],
      "text/plain": [
       "          Genre      Mean  Count\n",
       "10    Film-Noir  3.920115    870\n",
       "18          War  3.808294   4859\n",
       "7   Documentary  3.797785   1219\n",
       "6         Crime  3.657980  17037\n",
       "8         Drama  3.655642  42267"
      ]
     },
     "execution_count": 32,
     "metadata": {},
     "output_type": "execute_result"
    }
   ],
   "source": [
    "genres_mean_df.head(5)"
   ]
  },
  {
   "cell_type": "code",
   "execution_count": 33,
   "metadata": {},
   "outputs": [
    {
     "data": {
      "image/png": "[encoded data removed]",
      "text/plain": [
       "<Figure size 1080x720 with 1 Axes>"
      ]
     },
     "metadata": {},
     "output_type": "display_data"
    }
   ],
   "source": [
    "plt.style.use('fivethirtyeight')\n",
    "plt.rcParams.update({'font.size': 18})\n",
    "\n",
    "\n",
    "fig, ax = plt.subplots(figsize=(15,10))\n",
    "\n",
    "ax.bar(genres_mean_df[\"Genre\"],genres_mean_df[\"Mean\"])\n",
    "ax.axhline(genres_mean_df[\"Mean\"].mean(), color=\"red\", label=\"Average rating of all genres\")\n",
    "\n",
    "ax.set_xticklabels(genres_mean_df[\"Genre\"], rotation=80, fontsize=12)\n",
    "\n",
    "ax.set_ylabel(\"Average rating of each genre\")\n",
    "ax.set_title('Average ratings')\n",
    "ax.legend()\n",
    "\n",
    "plt.show()"
   ]
  },
  {
   "cell_type": "markdown",
   "metadata": {},
   "source": [
    "*Observations:*\n",
    "    \n",
    "Film-Noir genre has the highest rating of all genres followed by War, Documentary and Crime. Comedy and Horror are the last placers."
   ]
  },
  {
   "cell_type": "code",
   "execution_count": 34,
   "metadata": {},
   "outputs": [
    {
     "data": {
      "image/png": "[encoded data removed]",
      "text/plain": [
       "<Figure size 1080x720 with 1 Axes>"
      ]
     },
     "metadata": {},
     "output_type": "display_data"
    }
   ],
   "source": [
    "genres_mean_df = genres_mean_df.sort_values(\"Count\", ascending=False)\n",
    "\n",
    "plt.style.use('fivethirtyeight')\n",
    "plt.rcParams.update({'font.size': 18})\n",
    "\n",
    "\n",
    "fig, ax = plt.subplots(figsize=(15,10))\n",
    "\n",
    "ax.bar(genres_mean_df[\"Genre\"],genres_mean_df[\"Count\"])\n",
    "ax.axhline(genres_mean_df[\"Count\"].mean(), color=\"red\", label=\"Average count of all genres\")\n",
    "\n",
    "ax.set_xticklabels(genres_mean_df[\"Genre\"], rotation=80, fontsize=12)\n",
    "\n",
    "ax.set_ylabel(\"Average count of each genre\")\n",
    "ax.set_title('Average count')\n",
    "ax.legend()\n",
    "\n",
    "plt.show()"
   ]
  },
  {
   "cell_type": "markdown",
   "metadata": {},
   "source": [
    "*Observations:*\n",
    "\n",
    "There are much more Drama movies reviewed versus other genres. The highest-reviewed genre has one of the fewest movies reviewed. Although not many people seem to watch or review Film-Noir movies they are very well regarded. This strikes us as a type of film we might want to be reccommending to people who are not discovering them on their own."
   ]
  },
  {
   "cell_type": "markdown",
   "metadata": {},
   "source": [
    "### Year"
   ]
  },
  {
   "cell_type": "code",
   "execution_count": 35,
   "metadata": {},
   "outputs": [
    {
     "data": {
      "application/vnd.jupyter.widget-view+json": {
       "model_id": "98f2d593361d4a18a1a9c9452f7de2f3",
       "version_major": 2,
       "version_minor": 0
      },
      "text/plain": [
       "HBox(children=(IntProgress(value=0, max=101951), HTML(value='')))"
      ]
     },
     "metadata": {},
     "output_type": "display_data"
    },
    {
     "name": "stdout",
     "output_type": "stream",
     "text": [
      "\n"
     ]
    }
   ],
   "source": [
    "date = []\n",
    "for i in tqdm(df['timestamp']):\n",
    "    date.append(datetime.datetime.fromtimestamp(i).strftime('%Y'))"
   ]
  },
  {
   "cell_type": "code",
   "execution_count": 36,
   "metadata": {},
   "outputs": [
    {
     "data": {
      "text/plain": [
       "(101951, 10)"
      ]
     },
     "execution_count": 36,
     "metadata": {},
     "output_type": "execute_result"
    }
   ],
   "source": [
    "df['ratedYear'] = date\n",
    "df.shape"
   ]
  },
  {
   "cell_type": "code",
   "execution_count": 37,
   "metadata": {},
   "outputs": [],
   "source": [
    "z = df['ratedYear'].value_counts()\n",
    "ycounts = z.iloc[:]\n",
    "years = z.index[:]"
   ]
  },
  {
   "cell_type": "code",
   "execution_count": 38,
   "metadata": {},
   "outputs": [],
   "source": [
    "year_df = pd.DataFrame({'Year':years,'counts':ycounts})\n",
    "year_df.reset_index(drop =True)\n",
    "year_df.sort_values(by=['Year'],inplace = True)"
   ]
  },
  {
   "cell_type": "code",
   "execution_count": 39,
   "metadata": {},
   "outputs": [
    {
     "data": {
      "image/png": "[encoded data removed]",
      "text/plain": [
       "<Figure size 1080x720 with 1 Axes>"
      ]
     },
     "metadata": {},
     "output_type": "display_data"
    }
   ],
   "source": [
    "plt.style.use('fivethirtyeight')\n",
    "plt.rcParams.update({'font.size': 18})\n",
    "\n",
    "\n",
    "fig, ax = plt.subplots(figsize=(15,10))\n",
    "\n",
    "ax.bar(year_df.Year,year_df.counts )\n",
    "ax.axhline(year_df.counts.mean(), color=\"red\", label=\"Average rating across all years\")\n",
    "\n",
    "ax.set_xticklabels(year_df.Year, rotation=80, fontsize=12)\n",
    "\n",
    "ax.set_ylabel(\"Number of Ratings\")\n",
    "ax.set_title(\"Distribution of Rating Data over the Years\")\n",
    "ax.legend()\n",
    "\n",
    "plt.show()"
   ]
  },
  {
   "cell_type": "markdown",
   "metadata": {},
   "source": [
    "*Observations:*\n",
    "\n",
    "In this particular sample of dataset provided from Movielens, we see a sudden resurgence in the number of available ratings beginning from the year 2015."
   ]
  },
  {
   "cell_type": "markdown",
   "metadata": {},
   "source": [
    "### Popularity Index"
   ]
  },
  {
   "cell_type": "code",
   "execution_count": 40,
   "metadata": {},
   "outputs": [],
   "source": [
    "pc = df['movieId'].value_counts()[:1000]\n",
    "xax = list(range(0,1000))"
   ]
  },
  {
   "cell_type": "code",
   "execution_count": 41,
   "metadata": {},
   "outputs": [
    {
     "data": {
      "image/png": "[encoded data removed]",
      "text/plain": [
       "<Figure size 1080x576 with 1 Axes>"
      ]
     },
     "metadata": {},
     "output_type": "display_data"
    }
   ],
   "source": [
    "plt.figure(figsize=(15,8))\n",
    "plt.plot(xax, pc)\n",
    "plt.xlabel('Popularity Index')\n",
    "plt.ylabel('Number of User Ratings')\n",
    "plt.title('Movie Popularity Long Tail Distribution')\n",
    "plt.show()"
   ]
  },
  {
   "cell_type": "markdown",
   "metadata": {},
   "source": [
    "*Observations:*\n",
    "\n",
    "The Popularity of Movies follow the long tail distibution which exemplifies the phenomenon of rich gets richer. More Popular movies get more ratings.\n",
    "\n",
    "The need for Recommender Systems are represented by a concept called the \"Long Tail,\" which is visualized in the figure above. In the context of movies, there are some movies that everyone is going to watch: A-list movies, superheroes etc. There are also movies that are far more obscure: indies and foreign films, low budget flicks etc. Recommendation systems are made to help consumers tap into this long tail to assist them in picking from the endless number of options that are made available to them via the internet."
   ]
  },
  {
   "cell_type": "markdown",
   "metadata": {},
   "source": [
    "## Train Test Split Data"
   ]
  },
  {
   "cell_type": "code",
   "execution_count": 42,
   "metadata": {},
   "outputs": [
    {
     "data": {
      "text/plain": [
       "Index(['userId', 'movieId', 'rating', 'timestamp', 'title', 'genres', 'imdbId',\n",
       "       'tmdbId', 'plot', 'ratedYear'],\n",
       "      dtype='object')"
      ]
     },
     "execution_count": 42,
     "metadata": {},
     "output_type": "execute_result"
    }
   ],
   "source": [
    "df.columns"
   ]
  },
  {
   "cell_type": "code",
   "execution_count": 43,
   "metadata": {},
   "outputs": [],
   "source": [
    "#ratings_df.drop(columns='timestamp',inplace=True)\n",
    "reader = Reader(rating_scale=(1, 5))\n",
    "data = Dataset.load_from_df(df[['userId','title','rating']], reader)\n",
    "trainset, testset = surprise.model_selection.train_test_split(data, test_size=.25, random_state=42)"
   ]
  },
  {
   "cell_type": "markdown",
   "metadata": {},
   "source": [
    "## Collaborative Filtering"
   ]
  },
  {
   "cell_type": "markdown",
   "metadata": {},
   "source": [
    "### Item-Item Filtering"
   ]
  },
  {
   "cell_type": "markdown",
   "metadata": {},
   "source": [
    "\n",
    "The Pivot table created below is used to map 1:1 relationship between movies, users and their ratings. By default, the pivot_table method takes average if there are multiple values of one combination."
   ]
  },
  {
   "cell_type": "code",
   "execution_count": 44,
   "metadata": {},
   "outputs": [
    {
     "data": {
      "text/plain": [
       "(9724, 610)"
      ]
     },
     "execution_count": 44,
     "metadata": {},
     "output_type": "execute_result"
    }
   ],
   "source": [
    "ratings_matrix_items = ratings_df.pivot_table(index=['movieId'],columns=['userId'],values='rating').reset_index(drop=True)\n",
    "ratings_matrix_items.fillna(0, inplace = True )\n",
    "ratings_matrix_items.shape"
   ]
  },
  {
   "cell_type": "code",
   "execution_count": 45,
   "metadata": {},
   "outputs": [
    {
     "data": {
      "text/html": [
       "<div>\n",
       "<style scoped>\n",
       "    .dataframe tbody tr th:only-of-type {\n",
       "        vertical-align: middle;\n",
       "    }\n",
       "\n",
       "    .dataframe tbody tr th {\n",
       "        vertical-align: top;\n",
       "    }\n",
       "\n",
       "    .dataframe thead th {\n",
       "        text-align: right;\n",
       "    }\n",
       "</style>\n",
       "<table border=\"1\" class=\"dataframe\">\n",
       "  <thead>\n",
       "    <tr style=\"text-align: right;\">\n",
       "      <th>userId</th>\n",
       "      <th>1</th>\n",
       "      <th>2</th>\n",
       "      <th>3</th>\n",
       "      <th>4</th>\n",
       "      <th>5</th>\n",
       "      <th>6</th>\n",
       "      <th>7</th>\n",
       "      <th>8</th>\n",
       "      <th>9</th>\n",
       "      <th>10</th>\n",
       "      <th>...</th>\n",
       "      <th>601</th>\n",
       "      <th>602</th>\n",
       "      <th>603</th>\n",
       "      <th>604</th>\n",
       "      <th>605</th>\n",
       "      <th>606</th>\n",
       "      <th>607</th>\n",
       "      <th>608</th>\n",
       "      <th>609</th>\n",
       "      <th>610</th>\n",
       "    </tr>\n",
       "  </thead>\n",
       "  <tbody>\n",
       "    <tr>\n",
       "      <td>0</td>\n",
       "      <td>4.0</td>\n",
       "      <td>0.0</td>\n",
       "      <td>0.0</td>\n",
       "      <td>0.0</td>\n",
       "      <td>4.0</td>\n",
       "      <td>0.0</td>\n",
       "      <td>4.5</td>\n",
       "      <td>0.0</td>\n",
       "      <td>0.0</td>\n",
       "      <td>0.0</td>\n",
       "      <td>...</td>\n",
       "      <td>4.0</td>\n",
       "      <td>0.0</td>\n",
       "      <td>4.0</td>\n",
       "      <td>3.0</td>\n",
       "      <td>4.0</td>\n",
       "      <td>2.5</td>\n",
       "      <td>4.0</td>\n",
       "      <td>2.5</td>\n",
       "      <td>3.0</td>\n",
       "      <td>5.0</td>\n",
       "    </tr>\n",
       "    <tr>\n",
       "      <td>1</td>\n",
       "      <td>0.0</td>\n",
       "      <td>0.0</td>\n",
       "      <td>0.0</td>\n",
       "      <td>0.0</td>\n",
       "      <td>0.0</td>\n",
       "      <td>4.0</td>\n",
       "      <td>0.0</td>\n",
       "      <td>4.0</td>\n",
       "      <td>0.0</td>\n",
       "      <td>0.0</td>\n",
       "      <td>...</td>\n",
       "      <td>0.0</td>\n",
       "      <td>4.0</td>\n",
       "      <td>0.0</td>\n",
       "      <td>5.0</td>\n",
       "      <td>3.5</td>\n",
       "      <td>0.0</td>\n",
       "      <td>0.0</td>\n",
       "      <td>2.0</td>\n",
       "      <td>0.0</td>\n",
       "      <td>0.0</td>\n",
       "    </tr>\n",
       "    <tr>\n",
       "      <td>2</td>\n",
       "      <td>4.0</td>\n",
       "      <td>0.0</td>\n",
       "      <td>0.0</td>\n",
       "      <td>0.0</td>\n",
       "      <td>0.0</td>\n",
       "      <td>5.0</td>\n",
       "      <td>0.0</td>\n",
       "      <td>0.0</td>\n",
       "      <td>0.0</td>\n",
       "      <td>0.0</td>\n",
       "      <td>...</td>\n",
       "      <td>0.0</td>\n",
       "      <td>0.0</td>\n",
       "      <td>0.0</td>\n",
       "      <td>0.0</td>\n",
       "      <td>0.0</td>\n",
       "      <td>0.0</td>\n",
       "      <td>0.0</td>\n",
       "      <td>2.0</td>\n",
       "      <td>0.0</td>\n",
       "      <td>0.0</td>\n",
       "    </tr>\n",
       "    <tr>\n",
       "      <td>3</td>\n",
       "      <td>0.0</td>\n",
       "      <td>0.0</td>\n",
       "      <td>0.0</td>\n",
       "      <td>0.0</td>\n",
       "      <td>0.0</td>\n",
       "      <td>3.0</td>\n",
       "      <td>0.0</td>\n",
       "      <td>0.0</td>\n",
       "      <td>0.0</td>\n",
       "      <td>0.0</td>\n",
       "      <td>...</td>\n",
       "      <td>0.0</td>\n",
       "      <td>0.0</td>\n",
       "      <td>0.0</td>\n",
       "      <td>0.0</td>\n",
       "      <td>0.0</td>\n",
       "      <td>0.0</td>\n",
       "      <td>0.0</td>\n",
       "      <td>0.0</td>\n",
       "      <td>0.0</td>\n",
       "      <td>0.0</td>\n",
       "    </tr>\n",
       "    <tr>\n",
       "      <td>4</td>\n",
       "      <td>0.0</td>\n",
       "      <td>0.0</td>\n",
       "      <td>0.0</td>\n",
       "      <td>0.0</td>\n",
       "      <td>0.0</td>\n",
       "      <td>5.0</td>\n",
       "      <td>0.0</td>\n",
       "      <td>0.0</td>\n",
       "      <td>0.0</td>\n",
       "      <td>0.0</td>\n",
       "      <td>...</td>\n",
       "      <td>0.0</td>\n",
       "      <td>0.0</td>\n",
       "      <td>0.0</td>\n",
       "      <td>3.0</td>\n",
       "      <td>0.0</td>\n",
       "      <td>0.0</td>\n",
       "      <td>0.0</td>\n",
       "      <td>0.0</td>\n",
       "      <td>0.0</td>\n",
       "      <td>0.0</td>\n",
       "    </tr>\n",
       "    <tr>\n",
       "      <td>...</td>\n",
       "      <td>...</td>\n",
       "      <td>...</td>\n",
       "      <td>...</td>\n",
       "      <td>...</td>\n",
       "      <td>...</td>\n",
       "      <td>...</td>\n",
       "      <td>...</td>\n",
       "      <td>...</td>\n",
       "      <td>...</td>\n",
       "      <td>...</td>\n",
       "      <td>...</td>\n",
       "      <td>...</td>\n",
       "      <td>...</td>\n",
       "      <td>...</td>\n",
       "      <td>...</td>\n",
       "      <td>...</td>\n",
       "      <td>...</td>\n",
       "      <td>...</td>\n",
       "      <td>...</td>\n",
       "      <td>...</td>\n",
       "      <td>...</td>\n",
       "    </tr>\n",
       "    <tr>\n",
       "      <td>9719</td>\n",
       "      <td>0.0</td>\n",
       "      <td>0.0</td>\n",
       "      <td>0.0</td>\n",
       "      <td>0.0</td>\n",
       "      <td>0.0</td>\n",
       "      <td>0.0</td>\n",
       "      <td>0.0</td>\n",
       "      <td>0.0</td>\n",
       "      <td>0.0</td>\n",
       "      <td>0.0</td>\n",
       "      <td>...</td>\n",
       "      <td>0.0</td>\n",
       "      <td>0.0</td>\n",
       "      <td>0.0</td>\n",
       "      <td>0.0</td>\n",
       "      <td>0.0</td>\n",
       "      <td>0.0</td>\n",
       "      <td>0.0</td>\n",
       "      <td>0.0</td>\n",
       "      <td>0.0</td>\n",
       "      <td>0.0</td>\n",
       "    </tr>\n",
       "    <tr>\n",
       "      <td>9720</td>\n",
       "      <td>0.0</td>\n",
       "      <td>0.0</td>\n",
       "      <td>0.0</td>\n",
       "      <td>0.0</td>\n",
       "      <td>0.0</td>\n",
       "      <td>0.0</td>\n",
       "      <td>0.0</td>\n",
       "      <td>0.0</td>\n",
       "      <td>0.0</td>\n",
       "      <td>0.0</td>\n",
       "      <td>...</td>\n",
       "      <td>0.0</td>\n",
       "      <td>0.0</td>\n",
       "      <td>0.0</td>\n",
       "      <td>0.0</td>\n",
       "      <td>0.0</td>\n",
       "      <td>0.0</td>\n",
       "      <td>0.0</td>\n",
       "      <td>0.0</td>\n",
       "      <td>0.0</td>\n",
       "      <td>0.0</td>\n",
       "    </tr>\n",
       "    <tr>\n",
       "      <td>9721</td>\n",
       "      <td>0.0</td>\n",
       "      <td>0.0</td>\n",
       "      <td>0.0</td>\n",
       "      <td>0.0</td>\n",
       "      <td>0.0</td>\n",
       "      <td>0.0</td>\n",
       "      <td>0.0</td>\n",
       "      <td>0.0</td>\n",
       "      <td>0.0</td>\n",
       "      <td>0.0</td>\n",
       "      <td>...</td>\n",
       "      <td>0.0</td>\n",
       "      <td>0.0</td>\n",
       "      <td>0.0</td>\n",
       "      <td>0.0</td>\n",
       "      <td>0.0</td>\n",
       "      <td>0.0</td>\n",
       "      <td>0.0</td>\n",
       "      <td>0.0</td>\n",
       "      <td>0.0</td>\n",
       "      <td>0.0</td>\n",
       "    </tr>\n",
       "    <tr>\n",
       "      <td>9722</td>\n",
       "      <td>0.0</td>\n",
       "      <td>0.0</td>\n",
       "      <td>0.0</td>\n",
       "      <td>0.0</td>\n",
       "      <td>0.0</td>\n",
       "      <td>0.0</td>\n",
       "      <td>0.0</td>\n",
       "      <td>0.0</td>\n",
       "      <td>0.0</td>\n",
       "      <td>0.0</td>\n",
       "      <td>...</td>\n",
       "      <td>0.0</td>\n",
       "      <td>0.0</td>\n",
       "      <td>0.0</td>\n",
       "      <td>0.0</td>\n",
       "      <td>0.0</td>\n",
       "      <td>0.0</td>\n",
       "      <td>0.0</td>\n",
       "      <td>0.0</td>\n",
       "      <td>0.0</td>\n",
       "      <td>0.0</td>\n",
       "    </tr>\n",
       "    <tr>\n",
       "      <td>9723</td>\n",
       "      <td>0.0</td>\n",
       "      <td>0.0</td>\n",
       "      <td>0.0</td>\n",
       "      <td>0.0</td>\n",
       "      <td>0.0</td>\n",
       "      <td>0.0</td>\n",
       "      <td>0.0</td>\n",
       "      <td>0.0</td>\n",
       "      <td>0.0</td>\n",
       "      <td>0.0</td>\n",
       "      <td>...</td>\n",
       "      <td>0.0</td>\n",
       "      <td>0.0</td>\n",
       "      <td>0.0</td>\n",
       "      <td>0.0</td>\n",
       "      <td>0.0</td>\n",
       "      <td>0.0</td>\n",
       "      <td>0.0</td>\n",
       "      <td>0.0</td>\n",
       "      <td>0.0</td>\n",
       "      <td>0.0</td>\n",
       "    </tr>\n",
       "  </tbody>\n",
       "</table>\n",
       "<p>9724 rows × 610 columns</p>\n",
       "</div>"
      ],
      "text/plain": [
       "userId  1    2    3    4    5    6    7    8    9    10   ...  601  602  603  \\\n",
       "0       4.0  0.0  0.0  0.0  4.0  0.0  4.5  0.0  0.0  0.0  ...  4.0  0.0  4.0   \n",
       "1       0.0  0.0  0.0  0.0  0.0  4.0  0.0  4.0  0.0  0.0  ...  0.0  4.0  0.0   \n",
       "2       4.0  0.0  0.0  0.0  0.0  5.0  0.0  0.0  0.0  0.0  ...  0.0  0.0  0.0   \n",
       "3       0.0  0.0  0.0  0.0  0.0  3.0  0.0  0.0  0.0  0.0  ...  0.0  0.0  0.0   \n",
       "4       0.0  0.0  0.0  0.0  0.0  5.0  0.0  0.0  0.0  0.0  ...  0.0  0.0  0.0   \n",
       "...     ...  ...  ...  ...  ...  ...  ...  ...  ...  ...  ...  ...  ...  ...   \n",
       "9719    0.0  0.0  0.0  0.0  0.0  0.0  0.0  0.0  0.0  0.0  ...  0.0  0.0  0.0   \n",
       "9720    0.0  0.0  0.0  0.0  0.0  0.0  0.0  0.0  0.0  0.0  ...  0.0  0.0  0.0   \n",
       "9721    0.0  0.0  0.0  0.0  0.0  0.0  0.0  0.0  0.0  0.0  ...  0.0  0.0  0.0   \n",
       "9722    0.0  0.0  0.0  0.0  0.0  0.0  0.0  0.0  0.0  0.0  ...  0.0  0.0  0.0   \n",
       "9723    0.0  0.0  0.0  0.0  0.0  0.0  0.0  0.0  0.0  0.0  ...  0.0  0.0  0.0   \n",
       "\n",
       "userId  604  605  606  607  608  609  610  \n",
       "0       3.0  4.0  2.5  4.0  2.5  3.0  5.0  \n",
       "1       5.0  3.5  0.0  0.0  2.0  0.0  0.0  \n",
       "2       0.0  0.0  0.0  0.0  2.0  0.0  0.0  \n",
       "3       0.0  0.0  0.0  0.0  0.0  0.0  0.0  \n",
       "4       3.0  0.0  0.0  0.0  0.0  0.0  0.0  \n",
       "...     ...  ...  ...  ...  ...  ...  ...  \n",
       "9719    0.0  0.0  0.0  0.0  0.0  0.0  0.0  \n",
       "9720    0.0  0.0  0.0  0.0  0.0  0.0  0.0  \n",
       "9721    0.0  0.0  0.0  0.0  0.0  0.0  0.0  \n",
       "9722    0.0  0.0  0.0  0.0  0.0  0.0  0.0  \n",
       "9723    0.0  0.0  0.0  0.0  0.0  0.0  0.0  \n",
       "\n",
       "[9724 rows x 610 columns]"
      ]
     },
     "execution_count": 45,
     "metadata": {},
     "output_type": "execute_result"
    }
   ],
   "source": [
    "ratings_matrix_items"
   ]
  },
  {
   "cell_type": "code",
   "execution_count": 46,
   "metadata": {},
   "outputs": [
    {
     "data": {
      "text/html": [
       "<div>\n",
       "<style scoped>\n",
       "    .dataframe tbody tr th:only-of-type {\n",
       "        vertical-align: middle;\n",
       "    }\n",
       "\n",
       "    .dataframe tbody tr th {\n",
       "        vertical-align: top;\n",
       "    }\n",
       "\n",
       "    .dataframe thead th {\n",
       "        text-align: right;\n",
       "    }\n",
       "</style>\n",
       "<table border=\"1\" class=\"dataframe\">\n",
       "  <thead>\n",
       "    <tr style=\"text-align: right;\">\n",
       "      <th></th>\n",
       "      <th>0</th>\n",
       "      <th>1</th>\n",
       "      <th>2</th>\n",
       "      <th>3</th>\n",
       "      <th>4</th>\n",
       "      <th>5</th>\n",
       "      <th>6</th>\n",
       "      <th>7</th>\n",
       "      <th>8</th>\n",
       "      <th>9</th>\n",
       "      <th>...</th>\n",
       "      <th>9714</th>\n",
       "      <th>9715</th>\n",
       "      <th>9716</th>\n",
       "      <th>9717</th>\n",
       "      <th>9718</th>\n",
       "      <th>9719</th>\n",
       "      <th>9720</th>\n",
       "      <th>9721</th>\n",
       "      <th>9722</th>\n",
       "      <th>9723</th>\n",
       "    </tr>\n",
       "  </thead>\n",
       "  <tbody>\n",
       "    <tr>\n",
       "      <td>0</td>\n",
       "      <td>0.000000</td>\n",
       "      <td>0.410562</td>\n",
       "      <td>0.296917</td>\n",
       "      <td>0.035573</td>\n",
       "      <td>0.308762</td>\n",
       "      <td>0.376316</td>\n",
       "      <td>0.277491</td>\n",
       "      <td>0.131629</td>\n",
       "      <td>0.232586</td>\n",
       "      <td>0.395573</td>\n",
       "      <td>...</td>\n",
       "      <td>0.0</td>\n",
       "      <td>0.0</td>\n",
       "      <td>0.0</td>\n",
       "      <td>0.0</td>\n",
       "      <td>0.0</td>\n",
       "      <td>0.0</td>\n",
       "      <td>0.0</td>\n",
       "      <td>0.0</td>\n",
       "      <td>0.0</td>\n",
       "      <td>0.0</td>\n",
       "    </tr>\n",
       "    <tr>\n",
       "      <td>1</td>\n",
       "      <td>0.410562</td>\n",
       "      <td>0.000000</td>\n",
       "      <td>0.282438</td>\n",
       "      <td>0.106415</td>\n",
       "      <td>0.287795</td>\n",
       "      <td>0.297009</td>\n",
       "      <td>0.228576</td>\n",
       "      <td>0.172498</td>\n",
       "      <td>0.044835</td>\n",
       "      <td>0.417693</td>\n",
       "      <td>...</td>\n",
       "      <td>0.0</td>\n",
       "      <td>0.0</td>\n",
       "      <td>0.0</td>\n",
       "      <td>0.0</td>\n",
       "      <td>0.0</td>\n",
       "      <td>0.0</td>\n",
       "      <td>0.0</td>\n",
       "      <td>0.0</td>\n",
       "      <td>0.0</td>\n",
       "      <td>0.0</td>\n",
       "    </tr>\n",
       "    <tr>\n",
       "      <td>2</td>\n",
       "      <td>0.296917</td>\n",
       "      <td>0.282438</td>\n",
       "      <td>0.000000</td>\n",
       "      <td>0.092406</td>\n",
       "      <td>0.417802</td>\n",
       "      <td>0.284257</td>\n",
       "      <td>0.402831</td>\n",
       "      <td>0.313434</td>\n",
       "      <td>0.304840</td>\n",
       "      <td>0.242954</td>\n",
       "      <td>...</td>\n",
       "      <td>0.0</td>\n",
       "      <td>0.0</td>\n",
       "      <td>0.0</td>\n",
       "      <td>0.0</td>\n",
       "      <td>0.0</td>\n",
       "      <td>0.0</td>\n",
       "      <td>0.0</td>\n",
       "      <td>0.0</td>\n",
       "      <td>0.0</td>\n",
       "      <td>0.0</td>\n",
       "    </tr>\n",
       "    <tr>\n",
       "      <td>3</td>\n",
       "      <td>0.035573</td>\n",
       "      <td>0.106415</td>\n",
       "      <td>0.092406</td>\n",
       "      <td>0.000000</td>\n",
       "      <td>0.188376</td>\n",
       "      <td>0.089685</td>\n",
       "      <td>0.275035</td>\n",
       "      <td>0.158022</td>\n",
       "      <td>0.000000</td>\n",
       "      <td>0.095598</td>\n",
       "      <td>...</td>\n",
       "      <td>0.0</td>\n",
       "      <td>0.0</td>\n",
       "      <td>0.0</td>\n",
       "      <td>0.0</td>\n",
       "      <td>0.0</td>\n",
       "      <td>0.0</td>\n",
       "      <td>0.0</td>\n",
       "      <td>0.0</td>\n",
       "      <td>0.0</td>\n",
       "      <td>0.0</td>\n",
       "    </tr>\n",
       "    <tr>\n",
       "      <td>4</td>\n",
       "      <td>0.308762</td>\n",
       "      <td>0.287795</td>\n",
       "      <td>0.417802</td>\n",
       "      <td>0.188376</td>\n",
       "      <td>0.000000</td>\n",
       "      <td>0.298969</td>\n",
       "      <td>0.474002</td>\n",
       "      <td>0.283523</td>\n",
       "      <td>0.335058</td>\n",
       "      <td>0.218061</td>\n",
       "      <td>...</td>\n",
       "      <td>0.0</td>\n",
       "      <td>0.0</td>\n",
       "      <td>0.0</td>\n",
       "      <td>0.0</td>\n",
       "      <td>0.0</td>\n",
       "      <td>0.0</td>\n",
       "      <td>0.0</td>\n",
       "      <td>0.0</td>\n",
       "      <td>0.0</td>\n",
       "      <td>0.0</td>\n",
       "    </tr>\n",
       "    <tr>\n",
       "      <td>...</td>\n",
       "      <td>...</td>\n",
       "      <td>...</td>\n",
       "      <td>...</td>\n",
       "      <td>...</td>\n",
       "      <td>...</td>\n",
       "      <td>...</td>\n",
       "      <td>...</td>\n",
       "      <td>...</td>\n",
       "      <td>...</td>\n",
       "      <td>...</td>\n",
       "      <td>...</td>\n",
       "      <td>...</td>\n",
       "      <td>...</td>\n",
       "      <td>...</td>\n",
       "      <td>...</td>\n",
       "      <td>...</td>\n",
       "      <td>...</td>\n",
       "      <td>...</td>\n",
       "      <td>...</td>\n",
       "      <td>...</td>\n",
       "      <td>...</td>\n",
       "    </tr>\n",
       "    <tr>\n",
       "      <td>9719</td>\n",
       "      <td>0.000000</td>\n",
       "      <td>0.000000</td>\n",
       "      <td>0.000000</td>\n",
       "      <td>0.000000</td>\n",
       "      <td>0.000000</td>\n",
       "      <td>0.000000</td>\n",
       "      <td>0.000000</td>\n",
       "      <td>0.000000</td>\n",
       "      <td>0.000000</td>\n",
       "      <td>0.000000</td>\n",
       "      <td>...</td>\n",
       "      <td>1.0</td>\n",
       "      <td>1.0</td>\n",
       "      <td>1.0</td>\n",
       "      <td>1.0</td>\n",
       "      <td>1.0</td>\n",
       "      <td>0.0</td>\n",
       "      <td>1.0</td>\n",
       "      <td>1.0</td>\n",
       "      <td>1.0</td>\n",
       "      <td>0.0</td>\n",
       "    </tr>\n",
       "    <tr>\n",
       "      <td>9720</td>\n",
       "      <td>0.000000</td>\n",
       "      <td>0.000000</td>\n",
       "      <td>0.000000</td>\n",
       "      <td>0.000000</td>\n",
       "      <td>0.000000</td>\n",
       "      <td>0.000000</td>\n",
       "      <td>0.000000</td>\n",
       "      <td>0.000000</td>\n",
       "      <td>0.000000</td>\n",
       "      <td>0.000000</td>\n",
       "      <td>...</td>\n",
       "      <td>1.0</td>\n",
       "      <td>1.0</td>\n",
       "      <td>1.0</td>\n",
       "      <td>1.0</td>\n",
       "      <td>1.0</td>\n",
       "      <td>1.0</td>\n",
       "      <td>0.0</td>\n",
       "      <td>1.0</td>\n",
       "      <td>1.0</td>\n",
       "      <td>0.0</td>\n",
       "    </tr>\n",
       "    <tr>\n",
       "      <td>9721</td>\n",
       "      <td>0.000000</td>\n",
       "      <td>0.000000</td>\n",
       "      <td>0.000000</td>\n",
       "      <td>0.000000</td>\n",
       "      <td>0.000000</td>\n",
       "      <td>0.000000</td>\n",
       "      <td>0.000000</td>\n",
       "      <td>0.000000</td>\n",
       "      <td>0.000000</td>\n",
       "      <td>0.000000</td>\n",
       "      <td>...</td>\n",
       "      <td>1.0</td>\n",
       "      <td>1.0</td>\n",
       "      <td>1.0</td>\n",
       "      <td>1.0</td>\n",
       "      <td>1.0</td>\n",
       "      <td>1.0</td>\n",
       "      <td>1.0</td>\n",
       "      <td>0.0</td>\n",
       "      <td>1.0</td>\n",
       "      <td>0.0</td>\n",
       "    </tr>\n",
       "    <tr>\n",
       "      <td>9722</td>\n",
       "      <td>0.000000</td>\n",
       "      <td>0.000000</td>\n",
       "      <td>0.000000</td>\n",
       "      <td>0.000000</td>\n",
       "      <td>0.000000</td>\n",
       "      <td>0.000000</td>\n",
       "      <td>0.000000</td>\n",
       "      <td>0.000000</td>\n",
       "      <td>0.000000</td>\n",
       "      <td>0.000000</td>\n",
       "      <td>...</td>\n",
       "      <td>1.0</td>\n",
       "      <td>1.0</td>\n",
       "      <td>1.0</td>\n",
       "      <td>1.0</td>\n",
       "      <td>1.0</td>\n",
       "      <td>1.0</td>\n",
       "      <td>1.0</td>\n",
       "      <td>1.0</td>\n",
       "      <td>0.0</td>\n",
       "      <td>0.0</td>\n",
       "    </tr>\n",
       "    <tr>\n",
       "      <td>9723</td>\n",
       "      <td>0.000000</td>\n",
       "      <td>0.000000</td>\n",
       "      <td>0.000000</td>\n",
       "      <td>0.000000</td>\n",
       "      <td>0.000000</td>\n",
       "      <td>0.000000</td>\n",
       "      <td>0.000000</td>\n",
       "      <td>0.000000</td>\n",
       "      <td>0.000000</td>\n",
       "      <td>0.072542</td>\n",
       "      <td>...</td>\n",
       "      <td>0.0</td>\n",
       "      <td>0.0</td>\n",
       "      <td>0.0</td>\n",
       "      <td>0.0</td>\n",
       "      <td>0.0</td>\n",
       "      <td>0.0</td>\n",
       "      <td>0.0</td>\n",
       "      <td>0.0</td>\n",
       "      <td>0.0</td>\n",
       "      <td>0.0</td>\n",
       "    </tr>\n",
       "  </tbody>\n",
       "</table>\n",
       "<p>9724 rows × 9724 columns</p>\n",
       "</div>"
      ],
      "text/plain": [
       "          0         1         2         3         4         5         6     \\\n",
       "0     0.000000  0.410562  0.296917  0.035573  0.308762  0.376316  0.277491   \n",
       "1     0.410562  0.000000  0.282438  0.106415  0.287795  0.297009  0.228576   \n",
       "2     0.296917  0.282438  0.000000  0.092406  0.417802  0.284257  0.402831   \n",
       "3     0.035573  0.106415  0.092406  0.000000  0.188376  0.089685  0.275035   \n",
       "4     0.308762  0.287795  0.417802  0.188376  0.000000  0.298969  0.474002   \n",
       "...        ...       ...       ...       ...       ...       ...       ...   \n",
       "9719  0.000000  0.000000  0.000000  0.000000  0.000000  0.000000  0.000000   \n",
       "9720  0.000000  0.000000  0.000000  0.000000  0.000000  0.000000  0.000000   \n",
       "9721  0.000000  0.000000  0.000000  0.000000  0.000000  0.000000  0.000000   \n",
       "9722  0.000000  0.000000  0.000000  0.000000  0.000000  0.000000  0.000000   \n",
       "9723  0.000000  0.000000  0.000000  0.000000  0.000000  0.000000  0.000000   \n",
       "\n",
       "          7         8         9     ...  9714  9715  9716  9717  9718  9719  \\\n",
       "0     0.131629  0.232586  0.395573  ...   0.0   0.0   0.0   0.0   0.0   0.0   \n",
       "1     0.172498  0.044835  0.417693  ...   0.0   0.0   0.0   0.0   0.0   0.0   \n",
       "2     0.313434  0.304840  0.242954  ...   0.0   0.0   0.0   0.0   0.0   0.0   \n",
       "3     0.158022  0.000000  0.095598  ...   0.0   0.0   0.0   0.0   0.0   0.0   \n",
       "4     0.283523  0.335058  0.218061  ...   0.0   0.0   0.0   0.0   0.0   0.0   \n",
       "...        ...       ...       ...  ...   ...   ...   ...   ...   ...   ...   \n",
       "9719  0.000000  0.000000  0.000000  ...   1.0   1.0   1.0   1.0   1.0   0.0   \n",
       "9720  0.000000  0.000000  0.000000  ...   1.0   1.0   1.0   1.0   1.0   1.0   \n",
       "9721  0.000000  0.000000  0.000000  ...   1.0   1.0   1.0   1.0   1.0   1.0   \n",
       "9722  0.000000  0.000000  0.000000  ...   1.0   1.0   1.0   1.0   1.0   1.0   \n",
       "9723  0.000000  0.000000  0.072542  ...   0.0   0.0   0.0   0.0   0.0   0.0   \n",
       "\n",
       "      9720  9721  9722  9723  \n",
       "0      0.0   0.0   0.0   0.0  \n",
       "1      0.0   0.0   0.0   0.0  \n",
       "2      0.0   0.0   0.0   0.0  \n",
       "3      0.0   0.0   0.0   0.0  \n",
       "4      0.0   0.0   0.0   0.0  \n",
       "...    ...   ...   ...   ...  \n",
       "9719   1.0   1.0   1.0   0.0  \n",
       "9720   0.0   1.0   1.0   0.0  \n",
       "9721   1.0   0.0   1.0   0.0  \n",
       "9722   1.0   1.0   0.0   0.0  \n",
       "9723   0.0   0.0   0.0   0.0  \n",
       "\n",
       "[9724 rows x 9724 columns]"
      ]
     },
     "execution_count": 46,
     "metadata": {},
     "output_type": "execute_result"
    }
   ],
   "source": [
    "movie_similarity = 1 - pairwise_distances( ratings_matrix_items.as_matrix(), metric=\"cosine\" )\n",
    "np.fill_diagonal( movie_similarity, 0 ) \n",
    "ratings_matrix_items = pd.DataFrame( movie_similarity )\n",
    "collab_matrix = ratings_matrix_items\n",
    "ratings_matrix_items"
   ]
  },
  {
   "cell_type": "code",
   "execution_count": 47,
   "metadata": {},
   "outputs": [],
   "source": [
    "ratings_matrix_items['movie'] = movies_df['title']\n",
    "ratings_matrix_items.set_index('movie', inplace = True)\n"
   ]
  },
  {
   "cell_type": "code",
   "execution_count": 48,
   "metadata": {},
   "outputs": [
    {
     "data": {
      "text/html": [
       "<div>\n",
       "<style scoped>\n",
       "    .dataframe tbody tr th:only-of-type {\n",
       "        vertical-align: middle;\n",
       "    }\n",
       "\n",
       "    .dataframe tbody tr th {\n",
       "        vertical-align: top;\n",
       "    }\n",
       "\n",
       "    .dataframe thead th {\n",
       "        text-align: right;\n",
       "    }\n",
       "</style>\n",
       "<table border=\"1\" class=\"dataframe\">\n",
       "  <thead>\n",
       "    <tr style=\"text-align: right;\">\n",
       "      <th></th>\n",
       "      <th>0</th>\n",
       "      <th>1</th>\n",
       "      <th>2</th>\n",
       "      <th>3</th>\n",
       "      <th>4</th>\n",
       "      <th>5</th>\n",
       "      <th>6</th>\n",
       "      <th>7</th>\n",
       "      <th>8</th>\n",
       "      <th>9</th>\n",
       "      <th>...</th>\n",
       "      <th>9714</th>\n",
       "      <th>9715</th>\n",
       "      <th>9716</th>\n",
       "      <th>9717</th>\n",
       "      <th>9718</th>\n",
       "      <th>9719</th>\n",
       "      <th>9720</th>\n",
       "      <th>9721</th>\n",
       "      <th>9722</th>\n",
       "      <th>9723</th>\n",
       "    </tr>\n",
       "    <tr>\n",
       "      <th>movie</th>\n",
       "      <th></th>\n",
       "      <th></th>\n",
       "      <th></th>\n",
       "      <th></th>\n",
       "      <th></th>\n",
       "      <th></th>\n",
       "      <th></th>\n",
       "      <th></th>\n",
       "      <th></th>\n",
       "      <th></th>\n",
       "      <th></th>\n",
       "      <th></th>\n",
       "      <th></th>\n",
       "      <th></th>\n",
       "      <th></th>\n",
       "      <th></th>\n",
       "      <th></th>\n",
       "      <th></th>\n",
       "      <th></th>\n",
       "      <th></th>\n",
       "      <th></th>\n",
       "    </tr>\n",
       "  </thead>\n",
       "  <tbody>\n",
       "    <tr>\n",
       "      <td>Toy Story (1995)</td>\n",
       "      <td>0.000000</td>\n",
       "      <td>0.410562</td>\n",
       "      <td>0.296917</td>\n",
       "      <td>0.035573</td>\n",
       "      <td>0.308762</td>\n",
       "      <td>0.376316</td>\n",
       "      <td>0.277491</td>\n",
       "      <td>0.131629</td>\n",
       "      <td>0.232586</td>\n",
       "      <td>0.395573</td>\n",
       "      <td>...</td>\n",
       "      <td>0.0</td>\n",
       "      <td>0.0</td>\n",
       "      <td>0.0</td>\n",
       "      <td>0.0</td>\n",
       "      <td>0.0</td>\n",
       "      <td>0.0</td>\n",
       "      <td>0.0</td>\n",
       "      <td>0.0</td>\n",
       "      <td>0.0</td>\n",
       "      <td>0.0</td>\n",
       "    </tr>\n",
       "    <tr>\n",
       "      <td>Jumanji (1995)</td>\n",
       "      <td>0.410562</td>\n",
       "      <td>0.000000</td>\n",
       "      <td>0.282438</td>\n",
       "      <td>0.106415</td>\n",
       "      <td>0.287795</td>\n",
       "      <td>0.297009</td>\n",
       "      <td>0.228576</td>\n",
       "      <td>0.172498</td>\n",
       "      <td>0.044835</td>\n",
       "      <td>0.417693</td>\n",
       "      <td>...</td>\n",
       "      <td>0.0</td>\n",
       "      <td>0.0</td>\n",
       "      <td>0.0</td>\n",
       "      <td>0.0</td>\n",
       "      <td>0.0</td>\n",
       "      <td>0.0</td>\n",
       "      <td>0.0</td>\n",
       "      <td>0.0</td>\n",
       "      <td>0.0</td>\n",
       "      <td>0.0</td>\n",
       "    </tr>\n",
       "    <tr>\n",
       "      <td>Grumpier Old Men (1995)</td>\n",
       "      <td>0.296917</td>\n",
       "      <td>0.282438</td>\n",
       "      <td>0.000000</td>\n",
       "      <td>0.092406</td>\n",
       "      <td>0.417802</td>\n",
       "      <td>0.284257</td>\n",
       "      <td>0.402831</td>\n",
       "      <td>0.313434</td>\n",
       "      <td>0.304840</td>\n",
       "      <td>0.242954</td>\n",
       "      <td>...</td>\n",
       "      <td>0.0</td>\n",
       "      <td>0.0</td>\n",
       "      <td>0.0</td>\n",
       "      <td>0.0</td>\n",
       "      <td>0.0</td>\n",
       "      <td>0.0</td>\n",
       "      <td>0.0</td>\n",
       "      <td>0.0</td>\n",
       "      <td>0.0</td>\n",
       "      <td>0.0</td>\n",
       "    </tr>\n",
       "    <tr>\n",
       "      <td>Waiting to Exhale (1995)</td>\n",
       "      <td>0.035573</td>\n",
       "      <td>0.106415</td>\n",
       "      <td>0.092406</td>\n",
       "      <td>0.000000</td>\n",
       "      <td>0.188376</td>\n",
       "      <td>0.089685</td>\n",
       "      <td>0.275035</td>\n",
       "      <td>0.158022</td>\n",
       "      <td>0.000000</td>\n",
       "      <td>0.095598</td>\n",
       "      <td>...</td>\n",
       "      <td>0.0</td>\n",
       "      <td>0.0</td>\n",
       "      <td>0.0</td>\n",
       "      <td>0.0</td>\n",
       "      <td>0.0</td>\n",
       "      <td>0.0</td>\n",
       "      <td>0.0</td>\n",
       "      <td>0.0</td>\n",
       "      <td>0.0</td>\n",
       "      <td>0.0</td>\n",
       "    </tr>\n",
       "    <tr>\n",
       "      <td>Father of the Bride Part II (1995)</td>\n",
       "      <td>0.308762</td>\n",
       "      <td>0.287795</td>\n",
       "      <td>0.417802</td>\n",
       "      <td>0.188376</td>\n",
       "      <td>0.000000</td>\n",
       "      <td>0.298969</td>\n",
       "      <td>0.474002</td>\n",
       "      <td>0.283523</td>\n",
       "      <td>0.335058</td>\n",
       "      <td>0.218061</td>\n",
       "      <td>...</td>\n",
       "      <td>0.0</td>\n",
       "      <td>0.0</td>\n",
       "      <td>0.0</td>\n",
       "      <td>0.0</td>\n",
       "      <td>0.0</td>\n",
       "      <td>0.0</td>\n",
       "      <td>0.0</td>\n",
       "      <td>0.0</td>\n",
       "      <td>0.0</td>\n",
       "      <td>0.0</td>\n",
       "    </tr>\n",
       "  </tbody>\n",
       "</table>\n",
       "<p>5 rows × 9724 columns</p>\n",
       "</div>"
      ],
      "text/plain": [
       "                                        0         1         2         3     \\\n",
       "movie                                                                        \n",
       "Toy Story (1995)                    0.000000  0.410562  0.296917  0.035573   \n",
       "Jumanji (1995)                      0.410562  0.000000  0.282438  0.106415   \n",
       "Grumpier Old Men (1995)             0.296917  0.282438  0.000000  0.092406   \n",
       "Waiting to Exhale (1995)            0.035573  0.106415  0.092406  0.000000   \n",
       "Father of the Bride Part II (1995)  0.308762  0.287795  0.417802  0.188376   \n",
       "\n",
       "                                        4         5         6         7     \\\n",
       "movie                                                                        \n",
       "Toy Story (1995)                    0.308762  0.376316  0.277491  0.131629   \n",
       "Jumanji (1995)                      0.287795  0.297009  0.228576  0.172498   \n",
       "Grumpier Old Men (1995)             0.417802  0.284257  0.402831  0.313434   \n",
       "Waiting to Exhale (1995)            0.188376  0.089685  0.275035  0.158022   \n",
       "Father of the Bride Part II (1995)  0.000000  0.298969  0.474002  0.283523   \n",
       "\n",
       "                                        8         9     ...  9714  9715  9716  \\\n",
       "movie                                                   ...                     \n",
       "Toy Story (1995)                    0.232586  0.395573  ...   0.0   0.0   0.0   \n",
       "Jumanji (1995)                      0.044835  0.417693  ...   0.0   0.0   0.0   \n",
       "Grumpier Old Men (1995)             0.304840  0.242954  ...   0.0   0.0   0.0   \n",
       "Waiting to Exhale (1995)            0.000000  0.095598  ...   0.0   0.0   0.0   \n",
       "Father of the Bride Part II (1995)  0.335058  0.218061  ...   0.0   0.0   0.0   \n",
       "\n",
       "                                    9717  9718  9719  9720  9721  9722  9723  \n",
       "movie                                                                         \n",
       "Toy Story (1995)                     0.0   0.0   0.0   0.0   0.0   0.0   0.0  \n",
       "Jumanji (1995)                       0.0   0.0   0.0   0.0   0.0   0.0   0.0  \n",
       "Grumpier Old Men (1995)              0.0   0.0   0.0   0.0   0.0   0.0   0.0  \n",
       "Waiting to Exhale (1995)             0.0   0.0   0.0   0.0   0.0   0.0   0.0  \n",
       "Father of the Bride Part II (1995)   0.0   0.0   0.0   0.0   0.0   0.0   0.0  \n",
       "\n",
       "[5 rows x 9724 columns]"
      ]
     },
     "execution_count": 48,
     "metadata": {},
     "output_type": "execute_result"
    }
   ],
   "source": [
    "ratings_matrix_items.head(5)"
   ]
  },
  {
   "cell_type": "code",
   "execution_count": 49,
   "metadata": {
    "scrolled": true
   },
   "outputs": [
    {
     "data": {
      "text/html": [
       "<div>\n",
       "<style scoped>\n",
       "    .dataframe tbody tr th:only-of-type {\n",
       "        vertical-align: middle;\n",
       "    }\n",
       "\n",
       "    .dataframe tbody tr th {\n",
       "        vertical-align: top;\n",
       "    }\n",
       "\n",
       "    .dataframe thead th {\n",
       "        text-align: right;\n",
       "    }\n",
       "</style>\n",
       "<table border=\"1\" class=\"dataframe\">\n",
       "  <thead>\n",
       "    <tr style=\"text-align: right;\">\n",
       "      <th>movie</th>\n",
       "      <th>Toy Story (1995)</th>\n",
       "      <th>Jumanji (1995)</th>\n",
       "      <th>Grumpier Old Men (1995)</th>\n",
       "      <th>Waiting to Exhale (1995)</th>\n",
       "      <th>Father of the Bride Part II (1995)</th>\n",
       "      <th>Heat (1995)</th>\n",
       "      <th>Sabrina (1995)</th>\n",
       "      <th>Tom and Huck (1995)</th>\n",
       "      <th>Sudden Death (1995)</th>\n",
       "      <th>GoldenEye (1995)</th>\n",
       "      <th>...</th>\n",
       "      <th>Dogman (2018)</th>\n",
       "      <th>Mamma Mia: Here We Go Again! (2018)</th>\n",
       "      <th>Tag (2018)</th>\n",
       "      <th>The Man Who Killed Don Quixote (2018)</th>\n",
       "      <th>Boundaries (2018)</th>\n",
       "      <th>Spiral (2018)</th>\n",
       "      <th>Mission: Impossible - Fallout (2018)</th>\n",
       "      <th>SuperFly (2018)</th>\n",
       "      <th>Iron Soldier (2010)</th>\n",
       "      <th>BlacKkKlansman (2018)</th>\n",
       "    </tr>\n",
       "    <tr>\n",
       "      <th>movie</th>\n",
       "      <th></th>\n",
       "      <th></th>\n",
       "      <th></th>\n",
       "      <th></th>\n",
       "      <th></th>\n",
       "      <th></th>\n",
       "      <th></th>\n",
       "      <th></th>\n",
       "      <th></th>\n",
       "      <th></th>\n",
       "      <th></th>\n",
       "      <th></th>\n",
       "      <th></th>\n",
       "      <th></th>\n",
       "      <th></th>\n",
       "      <th></th>\n",
       "      <th></th>\n",
       "      <th></th>\n",
       "      <th></th>\n",
       "      <th></th>\n",
       "      <th></th>\n",
       "    </tr>\n",
       "  </thead>\n",
       "  <tbody>\n",
       "    <tr>\n",
       "      <td>Toy Story (1995)</td>\n",
       "      <td>0.000000</td>\n",
       "      <td>0.410562</td>\n",
       "      <td>0.296917</td>\n",
       "      <td>0.035573</td>\n",
       "      <td>0.308762</td>\n",
       "      <td>0.376316</td>\n",
       "      <td>0.277491</td>\n",
       "      <td>0.131629</td>\n",
       "      <td>0.232586</td>\n",
       "      <td>0.395573</td>\n",
       "      <td>...</td>\n",
       "      <td>0.0</td>\n",
       "      <td>0.0</td>\n",
       "      <td>0.0</td>\n",
       "      <td>0.0</td>\n",
       "      <td>0.0</td>\n",
       "      <td>0.0</td>\n",
       "      <td>0.0</td>\n",
       "      <td>0.0</td>\n",
       "      <td>0.0</td>\n",
       "      <td>0.0</td>\n",
       "    </tr>\n",
       "    <tr>\n",
       "      <td>Jumanji (1995)</td>\n",
       "      <td>0.410562</td>\n",
       "      <td>0.000000</td>\n",
       "      <td>0.282438</td>\n",
       "      <td>0.106415</td>\n",
       "      <td>0.287795</td>\n",
       "      <td>0.297009</td>\n",
       "      <td>0.228576</td>\n",
       "      <td>0.172498</td>\n",
       "      <td>0.044835</td>\n",
       "      <td>0.417693</td>\n",
       "      <td>...</td>\n",
       "      <td>0.0</td>\n",
       "      <td>0.0</td>\n",
       "      <td>0.0</td>\n",
       "      <td>0.0</td>\n",
       "      <td>0.0</td>\n",
       "      <td>0.0</td>\n",
       "      <td>0.0</td>\n",
       "      <td>0.0</td>\n",
       "      <td>0.0</td>\n",
       "      <td>0.0</td>\n",
       "    </tr>\n",
       "    <tr>\n",
       "      <td>Grumpier Old Men (1995)</td>\n",
       "      <td>0.296917</td>\n",
       "      <td>0.282438</td>\n",
       "      <td>0.000000</td>\n",
       "      <td>0.092406</td>\n",
       "      <td>0.417802</td>\n",
       "      <td>0.284257</td>\n",
       "      <td>0.402831</td>\n",
       "      <td>0.313434</td>\n",
       "      <td>0.304840</td>\n",
       "      <td>0.242954</td>\n",
       "      <td>...</td>\n",
       "      <td>0.0</td>\n",
       "      <td>0.0</td>\n",
       "      <td>0.0</td>\n",
       "      <td>0.0</td>\n",
       "      <td>0.0</td>\n",
       "      <td>0.0</td>\n",
       "      <td>0.0</td>\n",
       "      <td>0.0</td>\n",
       "      <td>0.0</td>\n",
       "      <td>0.0</td>\n",
       "    </tr>\n",
       "    <tr>\n",
       "      <td>Waiting to Exhale (1995)</td>\n",
       "      <td>0.035573</td>\n",
       "      <td>0.106415</td>\n",
       "      <td>0.092406</td>\n",
       "      <td>0.000000</td>\n",
       "      <td>0.188376</td>\n",
       "      <td>0.089685</td>\n",
       "      <td>0.275035</td>\n",
       "      <td>0.158022</td>\n",
       "      <td>0.000000</td>\n",
       "      <td>0.095598</td>\n",
       "      <td>...</td>\n",
       "      <td>0.0</td>\n",
       "      <td>0.0</td>\n",
       "      <td>0.0</td>\n",
       "      <td>0.0</td>\n",
       "      <td>0.0</td>\n",
       "      <td>0.0</td>\n",
       "      <td>0.0</td>\n",
       "      <td>0.0</td>\n",
       "      <td>0.0</td>\n",
       "      <td>0.0</td>\n",
       "    </tr>\n",
       "    <tr>\n",
       "      <td>Father of the Bride Part II (1995)</td>\n",
       "      <td>0.308762</td>\n",
       "      <td>0.287795</td>\n",
       "      <td>0.417802</td>\n",
       "      <td>0.188376</td>\n",
       "      <td>0.000000</td>\n",
       "      <td>0.298969</td>\n",
       "      <td>0.474002</td>\n",
       "      <td>0.283523</td>\n",
       "      <td>0.335058</td>\n",
       "      <td>0.218061</td>\n",
       "      <td>...</td>\n",
       "      <td>0.0</td>\n",
       "      <td>0.0</td>\n",
       "      <td>0.0</td>\n",
       "      <td>0.0</td>\n",
       "      <td>0.0</td>\n",
       "      <td>0.0</td>\n",
       "      <td>0.0</td>\n",
       "      <td>0.0</td>\n",
       "      <td>0.0</td>\n",
       "      <td>0.0</td>\n",
       "    </tr>\n",
       "    <tr>\n",
       "      <td>...</td>\n",
       "      <td>...</td>\n",
       "      <td>...</td>\n",
       "      <td>...</td>\n",
       "      <td>...</td>\n",
       "      <td>...</td>\n",
       "      <td>...</td>\n",
       "      <td>...</td>\n",
       "      <td>...</td>\n",
       "      <td>...</td>\n",
       "      <td>...</td>\n",
       "      <td>...</td>\n",
       "      <td>...</td>\n",
       "      <td>...</td>\n",
       "      <td>...</td>\n",
       "      <td>...</td>\n",
       "      <td>...</td>\n",
       "      <td>...</td>\n",
       "      <td>...</td>\n",
       "      <td>...</td>\n",
       "      <td>...</td>\n",
       "      <td>...</td>\n",
       "    </tr>\n",
       "    <tr>\n",
       "      <td>Spiral (2018)</td>\n",
       "      <td>0.000000</td>\n",
       "      <td>0.000000</td>\n",
       "      <td>0.000000</td>\n",
       "      <td>0.000000</td>\n",
       "      <td>0.000000</td>\n",
       "      <td>0.000000</td>\n",
       "      <td>0.000000</td>\n",
       "      <td>0.000000</td>\n",
       "      <td>0.000000</td>\n",
       "      <td>0.000000</td>\n",
       "      <td>...</td>\n",
       "      <td>1.0</td>\n",
       "      <td>1.0</td>\n",
       "      <td>1.0</td>\n",
       "      <td>1.0</td>\n",
       "      <td>1.0</td>\n",
       "      <td>0.0</td>\n",
       "      <td>1.0</td>\n",
       "      <td>1.0</td>\n",
       "      <td>1.0</td>\n",
       "      <td>0.0</td>\n",
       "    </tr>\n",
       "    <tr>\n",
       "      <td>Mission: Impossible - Fallout (2018)</td>\n",
       "      <td>0.000000</td>\n",
       "      <td>0.000000</td>\n",
       "      <td>0.000000</td>\n",
       "      <td>0.000000</td>\n",
       "      <td>0.000000</td>\n",
       "      <td>0.000000</td>\n",
       "      <td>0.000000</td>\n",
       "      <td>0.000000</td>\n",
       "      <td>0.000000</td>\n",
       "      <td>0.000000</td>\n",
       "      <td>...</td>\n",
       "      <td>1.0</td>\n",
       "      <td>1.0</td>\n",
       "      <td>1.0</td>\n",
       "      <td>1.0</td>\n",
       "      <td>1.0</td>\n",
       "      <td>1.0</td>\n",
       "      <td>0.0</td>\n",
       "      <td>1.0</td>\n",
       "      <td>1.0</td>\n",
       "      <td>0.0</td>\n",
       "    </tr>\n",
       "    <tr>\n",
       "      <td>SuperFly (2018)</td>\n",
       "      <td>0.000000</td>\n",
       "      <td>0.000000</td>\n",
       "      <td>0.000000</td>\n",
       "      <td>0.000000</td>\n",
       "      <td>0.000000</td>\n",
       "      <td>0.000000</td>\n",
       "      <td>0.000000</td>\n",
       "      <td>0.000000</td>\n",
       "      <td>0.000000</td>\n",
       "      <td>0.000000</td>\n",
       "      <td>...</td>\n",
       "      <td>1.0</td>\n",
       "      <td>1.0</td>\n",
       "      <td>1.0</td>\n",
       "      <td>1.0</td>\n",
       "      <td>1.0</td>\n",
       "      <td>1.0</td>\n",
       "      <td>1.0</td>\n",
       "      <td>0.0</td>\n",
       "      <td>1.0</td>\n",
       "      <td>0.0</td>\n",
       "    </tr>\n",
       "    <tr>\n",
       "      <td>Iron Soldier (2010)</td>\n",
       "      <td>0.000000</td>\n",
       "      <td>0.000000</td>\n",
       "      <td>0.000000</td>\n",
       "      <td>0.000000</td>\n",
       "      <td>0.000000</td>\n",
       "      <td>0.000000</td>\n",
       "      <td>0.000000</td>\n",
       "      <td>0.000000</td>\n",
       "      <td>0.000000</td>\n",
       "      <td>0.000000</td>\n",
       "      <td>...</td>\n",
       "      <td>1.0</td>\n",
       "      <td>1.0</td>\n",
       "      <td>1.0</td>\n",
       "      <td>1.0</td>\n",
       "      <td>1.0</td>\n",
       "      <td>1.0</td>\n",
       "      <td>1.0</td>\n",
       "      <td>1.0</td>\n",
       "      <td>0.0</td>\n",
       "      <td>0.0</td>\n",
       "    </tr>\n",
       "    <tr>\n",
       "      <td>BlacKkKlansman (2018)</td>\n",
       "      <td>0.000000</td>\n",
       "      <td>0.000000</td>\n",
       "      <td>0.000000</td>\n",
       "      <td>0.000000</td>\n",
       "      <td>0.000000</td>\n",
       "      <td>0.000000</td>\n",
       "      <td>0.000000</td>\n",
       "      <td>0.000000</td>\n",
       "      <td>0.000000</td>\n",
       "      <td>0.072542</td>\n",
       "      <td>...</td>\n",
       "      <td>0.0</td>\n",
       "      <td>0.0</td>\n",
       "      <td>0.0</td>\n",
       "      <td>0.0</td>\n",
       "      <td>0.0</td>\n",
       "      <td>0.0</td>\n",
       "      <td>0.0</td>\n",
       "      <td>0.0</td>\n",
       "      <td>0.0</td>\n",
       "      <td>0.0</td>\n",
       "    </tr>\n",
       "  </tbody>\n",
       "</table>\n",
       "<p>9724 rows × 9724 columns</p>\n",
       "</div>"
      ],
      "text/plain": [
       "movie                                 Toy Story (1995)  Jumanji (1995)  \\\n",
       "movie                                                                    \n",
       "Toy Story (1995)                              0.000000        0.410562   \n",
       "Jumanji (1995)                                0.410562        0.000000   \n",
       "Grumpier Old Men (1995)                       0.296917        0.282438   \n",
       "Waiting to Exhale (1995)                      0.035573        0.106415   \n",
       "Father of the Bride Part II (1995)            0.308762        0.287795   \n",
       "...                                                ...             ...   \n",
       "Spiral (2018)                                 0.000000        0.000000   \n",
       "Mission: Impossible - Fallout (2018)          0.000000        0.000000   \n",
       "SuperFly (2018)                               0.000000        0.000000   \n",
       "Iron Soldier (2010)                           0.000000        0.000000   \n",
       "BlacKkKlansman (2018)                         0.000000        0.000000   \n",
       "\n",
       "movie                                 Grumpier Old Men (1995)  \\\n",
       "movie                                                           \n",
       "Toy Story (1995)                                     0.296917   \n",
       "Jumanji (1995)                                       0.282438   \n",
       "Grumpier Old Men (1995)                              0.000000   \n",
       "Waiting to Exhale (1995)                             0.092406   \n",
       "Father of the Bride Part II (1995)                   0.417802   \n",
       "...                                                       ...   \n",
       "Spiral (2018)                                        0.000000   \n",
       "Mission: Impossible - Fallout (2018)                 0.000000   \n",
       "SuperFly (2018)                                      0.000000   \n",
       "Iron Soldier (2010)                                  0.000000   \n",
       "BlacKkKlansman (2018)                                0.000000   \n",
       "\n",
       "movie                                 Waiting to Exhale (1995)  \\\n",
       "movie                                                            \n",
       "Toy Story (1995)                                      0.035573   \n",
       "Jumanji (1995)                                        0.106415   \n",
       "Grumpier Old Men (1995)                               0.092406   \n",
       "Waiting to Exhale (1995)                              0.000000   \n",
       "Father of the Bride Part II (1995)                    0.188376   \n",
       "...                                                        ...   \n",
       "Spiral (2018)                                         0.000000   \n",
       "Mission: Impossible - Fallout (2018)                  0.000000   \n",
       "SuperFly (2018)                                       0.000000   \n",
       "Iron Soldier (2010)                                   0.000000   \n",
       "BlacKkKlansman (2018)                                 0.000000   \n",
       "\n",
       "movie                                 Father of the Bride Part II (1995)  \\\n",
       "movie                                                                      \n",
       "Toy Story (1995)                                                0.308762   \n",
       "Jumanji (1995)                                                  0.287795   \n",
       "Grumpier Old Men (1995)                                         0.417802   \n",
       "Waiting to Exhale (1995)                                        0.188376   \n",
       "Father of the Bride Part II (1995)                              0.000000   \n",
       "...                                                                  ...   \n",
       "Spiral (2018)                                                   0.000000   \n",
       "Mission: Impossible - Fallout (2018)                            0.000000   \n",
       "SuperFly (2018)                                                 0.000000   \n",
       "Iron Soldier (2010)                                             0.000000   \n",
       "BlacKkKlansman (2018)                                           0.000000   \n",
       "\n",
       "movie                                 Heat (1995)  Sabrina (1995)  \\\n",
       "movie                                                               \n",
       "Toy Story (1995)                         0.376316        0.277491   \n",
       "Jumanji (1995)                           0.297009        0.228576   \n",
       "Grumpier Old Men (1995)                  0.284257        0.402831   \n",
       "Waiting to Exhale (1995)                 0.089685        0.275035   \n",
       "Father of the Bride Part II (1995)       0.298969        0.474002   \n",
       "...                                           ...             ...   \n",
       "Spiral (2018)                            0.000000        0.000000   \n",
       "Mission: Impossible - Fallout (2018)     0.000000        0.000000   \n",
       "SuperFly (2018)                          0.000000        0.000000   \n",
       "Iron Soldier (2010)                      0.000000        0.000000   \n",
       "BlacKkKlansman (2018)                    0.000000        0.000000   \n",
       "\n",
       "movie                                 Tom and Huck (1995)  \\\n",
       "movie                                                       \n",
       "Toy Story (1995)                                 0.131629   \n",
       "Jumanji (1995)                                   0.172498   \n",
       "Grumpier Old Men (1995)                          0.313434   \n",
       "Waiting to Exhale (1995)                         0.158022   \n",
       "Father of the Bride Part II (1995)               0.283523   \n",
       "...                                                   ...   \n",
       "Spiral (2018)                                    0.000000   \n",
       "Mission: Impossible - Fallout (2018)             0.000000   \n",
       "SuperFly (2018)                                  0.000000   \n",
       "Iron Soldier (2010)                              0.000000   \n",
       "BlacKkKlansman (2018)                            0.000000   \n",
       "\n",
       "movie                                 Sudden Death (1995)  GoldenEye (1995)  \\\n",
       "movie                                                                         \n",
       "Toy Story (1995)                                 0.232586          0.395573   \n",
       "Jumanji (1995)                                   0.044835          0.417693   \n",
       "Grumpier Old Men (1995)                          0.304840          0.242954   \n",
       "Waiting to Exhale (1995)                         0.000000          0.095598   \n",
       "Father of the Bride Part II (1995)               0.335058          0.218061   \n",
       "...                                                   ...               ...   \n",
       "Spiral (2018)                                    0.000000          0.000000   \n",
       "Mission: Impossible - Fallout (2018)             0.000000          0.000000   \n",
       "SuperFly (2018)                                  0.000000          0.000000   \n",
       "Iron Soldier (2010)                              0.000000          0.000000   \n",
       "BlacKkKlansman (2018)                            0.000000          0.072542   \n",
       "\n",
       "movie                                 ...  Dogman (2018)  \\\n",
       "movie                                 ...                  \n",
       "Toy Story (1995)                      ...            0.0   \n",
       "Jumanji (1995)                        ...            0.0   \n",
       "Grumpier Old Men (1995)               ...            0.0   \n",
       "Waiting to Exhale (1995)              ...            0.0   \n",
       "Father of the Bride Part II (1995)    ...            0.0   \n",
       "...                                   ...            ...   \n",
       "Spiral (2018)                         ...            1.0   \n",
       "Mission: Impossible - Fallout (2018)  ...            1.0   \n",
       "SuperFly (2018)                       ...            1.0   \n",
       "Iron Soldier (2010)                   ...            1.0   \n",
       "BlacKkKlansman (2018)                 ...            0.0   \n",
       "\n",
       "movie                                 Mamma Mia: Here We Go Again! (2018)  \\\n",
       "movie                                                                       \n",
       "Toy Story (1995)                                                      0.0   \n",
       "Jumanji (1995)                                                        0.0   \n",
       "Grumpier Old Men (1995)                                               0.0   \n",
       "Waiting to Exhale (1995)                                              0.0   \n",
       "Father of the Bride Part II (1995)                                    0.0   \n",
       "...                                                                   ...   \n",
       "Spiral (2018)                                                         1.0   \n",
       "Mission: Impossible - Fallout (2018)                                  1.0   \n",
       "SuperFly (2018)                                                       1.0   \n",
       "Iron Soldier (2010)                                                   1.0   \n",
       "BlacKkKlansman (2018)                                                 0.0   \n",
       "\n",
       "movie                                 Tag (2018)  \\\n",
       "movie                                              \n",
       "Toy Story (1995)                             0.0   \n",
       "Jumanji (1995)                               0.0   \n",
       "Grumpier Old Men (1995)                      0.0   \n",
       "Waiting to Exhale (1995)                     0.0   \n",
       "Father of the Bride Part II (1995)           0.0   \n",
       "...                                          ...   \n",
       "Spiral (2018)                                1.0   \n",
       "Mission: Impossible - Fallout (2018)         1.0   \n",
       "SuperFly (2018)                              1.0   \n",
       "Iron Soldier (2010)                          1.0   \n",
       "BlacKkKlansman (2018)                        0.0   \n",
       "\n",
       "movie                                 The Man Who Killed Don Quixote (2018)  \\\n",
       "movie                                                                         \n",
       "Toy Story (1995)                                                        0.0   \n",
       "Jumanji (1995)                                                          0.0   \n",
       "Grumpier Old Men (1995)                                                 0.0   \n",
       "Waiting to Exhale (1995)                                                0.0   \n",
       "Father of the Bride Part II (1995)                                      0.0   \n",
       "...                                                                     ...   \n",
       "Spiral (2018)                                                           1.0   \n",
       "Mission: Impossible - Fallout (2018)                                    1.0   \n",
       "SuperFly (2018)                                                         1.0   \n",
       "Iron Soldier (2010)                                                     1.0   \n",
       "BlacKkKlansman (2018)                                                   0.0   \n",
       "\n",
       "movie                                 Boundaries (2018)  Spiral (2018)  \\\n",
       "movie                                                                    \n",
       "Toy Story (1995)                                    0.0            0.0   \n",
       "Jumanji (1995)                                      0.0            0.0   \n",
       "Grumpier Old Men (1995)                             0.0            0.0   \n",
       "Waiting to Exhale (1995)                            0.0            0.0   \n",
       "Father of the Bride Part II (1995)                  0.0            0.0   \n",
       "...                                                 ...            ...   \n",
       "Spiral (2018)                                       1.0            0.0   \n",
       "Mission: Impossible - Fallout (2018)                1.0            1.0   \n",
       "SuperFly (2018)                                     1.0            1.0   \n",
       "Iron Soldier (2010)                                 1.0            1.0   \n",
       "BlacKkKlansman (2018)                               0.0            0.0   \n",
       "\n",
       "movie                                 Mission: Impossible - Fallout (2018)  \\\n",
       "movie                                                                        \n",
       "Toy Story (1995)                                                       0.0   \n",
       "Jumanji (1995)                                                         0.0   \n",
       "Grumpier Old Men (1995)                                                0.0   \n",
       "Waiting to Exhale (1995)                                               0.0   \n",
       "Father of the Bride Part II (1995)                                     0.0   \n",
       "...                                                                    ...   \n",
       "Spiral (2018)                                                          1.0   \n",
       "Mission: Impossible - Fallout (2018)                                   0.0   \n",
       "SuperFly (2018)                                                        1.0   \n",
       "Iron Soldier (2010)                                                    1.0   \n",
       "BlacKkKlansman (2018)                                                  0.0   \n",
       "\n",
       "movie                                 SuperFly (2018)  Iron Soldier (2010)  \\\n",
       "movie                                                                        \n",
       "Toy Story (1995)                                  0.0                  0.0   \n",
       "Jumanji (1995)                                    0.0                  0.0   \n",
       "Grumpier Old Men (1995)                           0.0                  0.0   \n",
       "Waiting to Exhale (1995)                          0.0                  0.0   \n",
       "Father of the Bride Part II (1995)                0.0                  0.0   \n",
       "...                                               ...                  ...   \n",
       "Spiral (2018)                                     1.0                  1.0   \n",
       "Mission: Impossible - Fallout (2018)              1.0                  1.0   \n",
       "SuperFly (2018)                                   0.0                  1.0   \n",
       "Iron Soldier (2010)                               1.0                  0.0   \n",
       "BlacKkKlansman (2018)                             0.0                  0.0   \n",
       "\n",
       "movie                                 BlacKkKlansman (2018)  \n",
       "movie                                                        \n",
       "Toy Story (1995)                                        0.0  \n",
       "Jumanji (1995)                                          0.0  \n",
       "Grumpier Old Men (1995)                                 0.0  \n",
       "Waiting to Exhale (1995)                                0.0  \n",
       "Father of the Bride Part II (1995)                      0.0  \n",
       "...                                                     ...  \n",
       "Spiral (2018)                                           0.0  \n",
       "Mission: Impossible - Fallout (2018)                    0.0  \n",
       "SuperFly (2018)                                         0.0  \n",
       "Iron Soldier (2010)                                     0.0  \n",
       "BlacKkKlansman (2018)                                   0.0  \n",
       "\n",
       "[9724 rows x 9724 columns]"
      ]
     },
     "execution_count": 49,
     "metadata": {},
     "output_type": "execute_result"
    }
   ],
   "source": [
    "ratings_matrix_items.columns = ratings_matrix_items.index\n",
    "ratings_matrix_items"
   ]
  },
  {
   "cell_type": "code",
   "execution_count": 50,
   "metadata": {},
   "outputs": [
    {
     "data": {
      "text/plain": [
       "movie\n",
       "Die Hard: With a Vengeance (1995)    0.615794\n",
       "True Lies (1994)                     0.576175\n",
       "Clear and Present Danger (1994)      0.573650\n",
       "Speed (1994)                         0.571704\n",
       "Batman (1989)                        0.563148\n",
       "Stargate (1994)                      0.562580\n",
       "Name: GoldenEye (1995), dtype: float64"
      ]
     },
     "execution_count": 50,
     "metadata": {},
     "output_type": "execute_result"
    }
   ],
   "source": [
    "ratings_matrix_items.iloc[9].sort_values(ascending=False).head(6)"
   ]
  },
  {
   "cell_type": "code",
   "execution_count": 51,
   "metadata": {},
   "outputs": [
    {
     "name": "stdout",
     "output_type": "stream",
     "text": [
      "Give a movie name?\n"
     ]
    }
   ],
   "source": [
    "# create a box to let user input movie name (need a space after book name)\n",
    "user_movie = str(input(\"Give a movie name?\"))"
   ]
  },
  {
   "cell_type": "code",
   "execution_count": 52,
   "metadata": {},
   "outputs": [],
   "source": [
    "# create a function to return top 5 recommendations based on given movie\n",
    "def get_rec(user_movie,ratings_matrix_items):\n",
    "    for i in ratings_matrix_items.index:\n",
    "        if user_movie == i:\n",
    "            return ratings_matrix_items[user_movie].sort_values(ascending= False)[1:6]"
   ]
  },
  {
   "cell_type": "code",
   "execution_count": 53,
   "metadata": {},
   "outputs": [
    {
     "name": "stdout",
     "output_type": "stream",
     "text": [
      "Top 5 movie recommendations for you:\n",
      "None\n"
     ]
    }
   ],
   "source": [
    "# show recommendation results\n",
    "print('Top 5 movie recommendations for you:')\n",
    "print(get_rec(user_movie,ratings_matrix_items))"
   ]
  },
  {
   "cell_type": "markdown",
   "metadata": {},
   "source": [
    "#### Evaluation"
   ]
  },
  {
   "cell_type": "code",
   "execution_count": 54,
   "metadata": {},
   "outputs": [
    {
     "name": "stdout",
     "output_type": "stream",
     "text": [
      "Computing the cosine similarity matrix...\n",
      "Done computing similarity matrix.\n",
      "RMSE: 0.9754\n",
      "0.9753547688025954\n"
     ]
    }
   ],
   "source": [
    "# Try two similarity metrics\n",
    "sim_pear = {'name':'pearson','user_based':False}\n",
    "sim_cos = {'name':'cosine','user_based':False}\n",
    "\n",
    "# Fit the model using KNN \n",
    "basic = knns.KNNBasic(sim_options=sim_cos)\n",
    "basic.fit(trainset)\n",
    "predictions_knn = basic.test(testset)\n",
    "print(accuracy.rmse(predictions_knn))"
   ]
  },
  {
   "cell_type": "code",
   "execution_count": 55,
   "metadata": {},
   "outputs": [
    {
     "name": "stdout",
     "output_type": "stream",
     "text": [
      "Computing the pearson similarity matrix...\n",
      "Done computing similarity matrix.\n",
      "RMSE: 0.9709\n",
      "0.9708690766611539\n"
     ]
    }
   ],
   "source": [
    "# Fit the model using KNN \n",
    "basic = knns.KNNBasic(sim_options=sim_pear)\n",
    "basic.fit(trainset)\n",
    "predictions_knn = basic.test(testset)\n",
    "print(accuracy.rmse(predictions_knn))"
   ]
  },
  {
   "cell_type": "markdown",
   "metadata": {},
   "source": [
    "### User-User Filtering"
   ]
  },
  {
   "cell_type": "markdown",
   "metadata": {},
   "source": [
    "In this method, we recommend movies to a user based on his preferences compared to preferences of other users. This algorithm is very effective but takes a lot of time and resources. "
   ]
  },
  {
   "cell_type": "code",
   "execution_count": 56,
   "metadata": {},
   "outputs": [
    {
     "data": {
      "text/html": [
       "<div>\n",
       "<style scoped>\n",
       "    .dataframe tbody tr th:only-of-type {\n",
       "        vertical-align: middle;\n",
       "    }\n",
       "\n",
       "    .dataframe tbody tr th {\n",
       "        vertical-align: top;\n",
       "    }\n",
       "\n",
       "    .dataframe thead th {\n",
       "        text-align: right;\n",
       "    }\n",
       "</style>\n",
       "<table border=\"1\" class=\"dataframe\">\n",
       "  <thead>\n",
       "    <tr style=\"text-align: right;\">\n",
       "      <th></th>\n",
       "      <th>0</th>\n",
       "      <th>1</th>\n",
       "      <th>2</th>\n",
       "      <th>3</th>\n",
       "      <th>4</th>\n",
       "      <th>5</th>\n",
       "      <th>6</th>\n",
       "      <th>7</th>\n",
       "      <th>8</th>\n",
       "      <th>9</th>\n",
       "      <th>...</th>\n",
       "      <th>600</th>\n",
       "      <th>601</th>\n",
       "      <th>602</th>\n",
       "      <th>603</th>\n",
       "      <th>604</th>\n",
       "      <th>605</th>\n",
       "      <th>606</th>\n",
       "      <th>607</th>\n",
       "      <th>608</th>\n",
       "      <th>609</th>\n",
       "    </tr>\n",
       "  </thead>\n",
       "  <tbody>\n",
       "    <tr>\n",
       "      <td>0</td>\n",
       "      <td>0.000000</td>\n",
       "      <td>0.027283</td>\n",
       "      <td>0.059720</td>\n",
       "      <td>0.194395</td>\n",
       "      <td>0.129080</td>\n",
       "      <td>0.128152</td>\n",
       "      <td>0.158744</td>\n",
       "      <td>0.136968</td>\n",
       "      <td>0.064263</td>\n",
       "      <td>0.016875</td>\n",
       "      <td>...</td>\n",
       "      <td>0.080554</td>\n",
       "      <td>0.164455</td>\n",
       "      <td>0.221486</td>\n",
       "      <td>0.070669</td>\n",
       "      <td>0.153625</td>\n",
       "      <td>0.164191</td>\n",
       "      <td>0.269389</td>\n",
       "      <td>0.291097</td>\n",
       "      <td>0.093572</td>\n",
       "      <td>0.145321</td>\n",
       "    </tr>\n",
       "    <tr>\n",
       "      <td>1</td>\n",
       "      <td>0.027283</td>\n",
       "      <td>0.000000</td>\n",
       "      <td>0.000000</td>\n",
       "      <td>0.003726</td>\n",
       "      <td>0.016614</td>\n",
       "      <td>0.025333</td>\n",
       "      <td>0.027585</td>\n",
       "      <td>0.027257</td>\n",
       "      <td>0.000000</td>\n",
       "      <td>0.067445</td>\n",
       "      <td>...</td>\n",
       "      <td>0.202671</td>\n",
       "      <td>0.016866</td>\n",
       "      <td>0.011997</td>\n",
       "      <td>0.000000</td>\n",
       "      <td>0.000000</td>\n",
       "      <td>0.028429</td>\n",
       "      <td>0.012948</td>\n",
       "      <td>0.046211</td>\n",
       "      <td>0.027565</td>\n",
       "      <td>0.102427</td>\n",
       "    </tr>\n",
       "    <tr>\n",
       "      <td>2</td>\n",
       "      <td>0.059720</td>\n",
       "      <td>0.000000</td>\n",
       "      <td>0.000000</td>\n",
       "      <td>0.002251</td>\n",
       "      <td>0.005020</td>\n",
       "      <td>0.003936</td>\n",
       "      <td>0.000000</td>\n",
       "      <td>0.004941</td>\n",
       "      <td>0.000000</td>\n",
       "      <td>0.000000</td>\n",
       "      <td>...</td>\n",
       "      <td>0.005048</td>\n",
       "      <td>0.004892</td>\n",
       "      <td>0.024992</td>\n",
       "      <td>0.000000</td>\n",
       "      <td>0.010694</td>\n",
       "      <td>0.012993</td>\n",
       "      <td>0.019247</td>\n",
       "      <td>0.021128</td>\n",
       "      <td>0.000000</td>\n",
       "      <td>0.032119</td>\n",
       "    </tr>\n",
       "    <tr>\n",
       "      <td>3</td>\n",
       "      <td>0.194395</td>\n",
       "      <td>0.003726</td>\n",
       "      <td>0.002251</td>\n",
       "      <td>0.000000</td>\n",
       "      <td>0.128659</td>\n",
       "      <td>0.088491</td>\n",
       "      <td>0.115120</td>\n",
       "      <td>0.062969</td>\n",
       "      <td>0.011361</td>\n",
       "      <td>0.031163</td>\n",
       "      <td>...</td>\n",
       "      <td>0.085938</td>\n",
       "      <td>0.128273</td>\n",
       "      <td>0.307973</td>\n",
       "      <td>0.052985</td>\n",
       "      <td>0.084584</td>\n",
       "      <td>0.200395</td>\n",
       "      <td>0.131746</td>\n",
       "      <td>0.149858</td>\n",
       "      <td>0.032198</td>\n",
       "      <td>0.107683</td>\n",
       "    </tr>\n",
       "    <tr>\n",
       "      <td>4</td>\n",
       "      <td>0.129080</td>\n",
       "      <td>0.016614</td>\n",
       "      <td>0.005020</td>\n",
       "      <td>0.128659</td>\n",
       "      <td>0.000000</td>\n",
       "      <td>0.300349</td>\n",
       "      <td>0.108342</td>\n",
       "      <td>0.429075</td>\n",
       "      <td>0.000000</td>\n",
       "      <td>0.030611</td>\n",
       "      <td>...</td>\n",
       "      <td>0.068048</td>\n",
       "      <td>0.418747</td>\n",
       "      <td>0.110148</td>\n",
       "      <td>0.258773</td>\n",
       "      <td>0.148758</td>\n",
       "      <td>0.106435</td>\n",
       "      <td>0.152866</td>\n",
       "      <td>0.135535</td>\n",
       "      <td>0.261232</td>\n",
       "      <td>0.060792</td>\n",
       "    </tr>\n",
       "    <tr>\n",
       "      <td>...</td>\n",
       "      <td>...</td>\n",
       "      <td>...</td>\n",
       "      <td>...</td>\n",
       "      <td>...</td>\n",
       "      <td>...</td>\n",
       "      <td>...</td>\n",
       "      <td>...</td>\n",
       "      <td>...</td>\n",
       "      <td>...</td>\n",
       "      <td>...</td>\n",
       "      <td>...</td>\n",
       "      <td>...</td>\n",
       "      <td>...</td>\n",
       "      <td>...</td>\n",
       "      <td>...</td>\n",
       "      <td>...</td>\n",
       "      <td>...</td>\n",
       "      <td>...</td>\n",
       "      <td>...</td>\n",
       "      <td>...</td>\n",
       "      <td>...</td>\n",
       "    </tr>\n",
       "    <tr>\n",
       "      <td>605</td>\n",
       "      <td>0.164191</td>\n",
       "      <td>0.028429</td>\n",
       "      <td>0.012993</td>\n",
       "      <td>0.200395</td>\n",
       "      <td>0.106435</td>\n",
       "      <td>0.102123</td>\n",
       "      <td>0.200035</td>\n",
       "      <td>0.099388</td>\n",
       "      <td>0.075898</td>\n",
       "      <td>0.088963</td>\n",
       "      <td>...</td>\n",
       "      <td>0.178084</td>\n",
       "      <td>0.116534</td>\n",
       "      <td>0.300669</td>\n",
       "      <td>0.066032</td>\n",
       "      <td>0.148141</td>\n",
       "      <td>0.000000</td>\n",
       "      <td>0.153063</td>\n",
       "      <td>0.262558</td>\n",
       "      <td>0.069622</td>\n",
       "      <td>0.201104</td>\n",
       "    </tr>\n",
       "    <tr>\n",
       "      <td>606</td>\n",
       "      <td>0.269389</td>\n",
       "      <td>0.012948</td>\n",
       "      <td>0.019247</td>\n",
       "      <td>0.131746</td>\n",
       "      <td>0.152866</td>\n",
       "      <td>0.162182</td>\n",
       "      <td>0.186114</td>\n",
       "      <td>0.185142</td>\n",
       "      <td>0.011844</td>\n",
       "      <td>0.010451</td>\n",
       "      <td>...</td>\n",
       "      <td>0.092525</td>\n",
       "      <td>0.199910</td>\n",
       "      <td>0.203540</td>\n",
       "      <td>0.137834</td>\n",
       "      <td>0.118780</td>\n",
       "      <td>0.153063</td>\n",
       "      <td>0.000000</td>\n",
       "      <td>0.283081</td>\n",
       "      <td>0.149190</td>\n",
       "      <td>0.139114</td>\n",
       "    </tr>\n",
       "    <tr>\n",
       "      <td>607</td>\n",
       "      <td>0.291097</td>\n",
       "      <td>0.046211</td>\n",
       "      <td>0.021128</td>\n",
       "      <td>0.149858</td>\n",
       "      <td>0.135535</td>\n",
       "      <td>0.178809</td>\n",
       "      <td>0.323541</td>\n",
       "      <td>0.187233</td>\n",
       "      <td>0.100435</td>\n",
       "      <td>0.077424</td>\n",
       "      <td>...</td>\n",
       "      <td>0.158355</td>\n",
       "      <td>0.197514</td>\n",
       "      <td>0.232771</td>\n",
       "      <td>0.155306</td>\n",
       "      <td>0.178142</td>\n",
       "      <td>0.262558</td>\n",
       "      <td>0.283081</td>\n",
       "      <td>0.000000</td>\n",
       "      <td>0.121993</td>\n",
       "      <td>0.322055</td>\n",
       "    </tr>\n",
       "    <tr>\n",
       "      <td>608</td>\n",
       "      <td>0.093572</td>\n",
       "      <td>0.027565</td>\n",
       "      <td>0.000000</td>\n",
       "      <td>0.032198</td>\n",
       "      <td>0.261232</td>\n",
       "      <td>0.214234</td>\n",
       "      <td>0.090840</td>\n",
       "      <td>0.423993</td>\n",
       "      <td>0.000000</td>\n",
       "      <td>0.021766</td>\n",
       "      <td>...</td>\n",
       "      <td>0.035653</td>\n",
       "      <td>0.335231</td>\n",
       "      <td>0.061941</td>\n",
       "      <td>0.236601</td>\n",
       "      <td>0.097610</td>\n",
       "      <td>0.069622</td>\n",
       "      <td>0.149190</td>\n",
       "      <td>0.121993</td>\n",
       "      <td>0.000000</td>\n",
       "      <td>0.053225</td>\n",
       "    </tr>\n",
       "    <tr>\n",
       "      <td>609</td>\n",
       "      <td>0.145321</td>\n",
       "      <td>0.102427</td>\n",
       "      <td>0.032119</td>\n",
       "      <td>0.107683</td>\n",
       "      <td>0.060792</td>\n",
       "      <td>0.052668</td>\n",
       "      <td>0.193219</td>\n",
       "      <td>0.078153</td>\n",
       "      <td>0.074399</td>\n",
       "      <td>0.121072</td>\n",
       "      <td>...</td>\n",
       "      <td>0.222491</td>\n",
       "      <td>0.087528</td>\n",
       "      <td>0.163094</td>\n",
       "      <td>0.052552</td>\n",
       "      <td>0.119295</td>\n",
       "      <td>0.201104</td>\n",
       "      <td>0.139114</td>\n",
       "      <td>0.322055</td>\n",
       "      <td>0.053225</td>\n",
       "      <td>0.000000</td>\n",
       "    </tr>\n",
       "  </tbody>\n",
       "</table>\n",
       "<p>610 rows × 610 columns</p>\n",
       "</div>"
      ],
      "text/plain": [
       "          0         1         2         3         4         5         6    \\\n",
       "0    0.000000  0.027283  0.059720  0.194395  0.129080  0.128152  0.158744   \n",
       "1    0.027283  0.000000  0.000000  0.003726  0.016614  0.025333  0.027585   \n",
       "2    0.059720  0.000000  0.000000  0.002251  0.005020  0.003936  0.000000   \n",
       "3    0.194395  0.003726  0.002251  0.000000  0.128659  0.088491  0.115120   \n",
       "4    0.129080  0.016614  0.005020  0.128659  0.000000  0.300349  0.108342   \n",
       "..        ...       ...       ...       ...       ...       ...       ...   \n",
       "605  0.164191  0.028429  0.012993  0.200395  0.106435  0.102123  0.200035   \n",
       "606  0.269389  0.012948  0.019247  0.131746  0.152866  0.162182  0.186114   \n",
       "607  0.291097  0.046211  0.021128  0.149858  0.135535  0.178809  0.323541   \n",
       "608  0.093572  0.027565  0.000000  0.032198  0.261232  0.214234  0.090840   \n",
       "609  0.145321  0.102427  0.032119  0.107683  0.060792  0.052668  0.193219   \n",
       "\n",
       "          7         8         9    ...       600       601       602  \\\n",
       "0    0.136968  0.064263  0.016875  ...  0.080554  0.164455  0.221486   \n",
       "1    0.027257  0.000000  0.067445  ...  0.202671  0.016866  0.011997   \n",
       "2    0.004941  0.000000  0.000000  ...  0.005048  0.004892  0.024992   \n",
       "3    0.062969  0.011361  0.031163  ...  0.085938  0.128273  0.307973   \n",
       "4    0.429075  0.000000  0.030611  ...  0.068048  0.418747  0.110148   \n",
       "..        ...       ...       ...  ...       ...       ...       ...   \n",
       "605  0.099388  0.075898  0.088963  ...  0.178084  0.116534  0.300669   \n",
       "606  0.185142  0.011844  0.010451  ...  0.092525  0.199910  0.203540   \n",
       "607  0.187233  0.100435  0.077424  ...  0.158355  0.197514  0.232771   \n",
       "608  0.423993  0.000000  0.021766  ...  0.035653  0.335231  0.061941   \n",
       "609  0.078153  0.074399  0.121072  ...  0.222491  0.087528  0.163094   \n",
       "\n",
       "          603       604       605       606       607       608       609  \n",
       "0    0.070669  0.153625  0.164191  0.269389  0.291097  0.093572  0.145321  \n",
       "1    0.000000  0.000000  0.028429  0.012948  0.046211  0.027565  0.102427  \n",
       "2    0.000000  0.010694  0.012993  0.019247  0.021128  0.000000  0.032119  \n",
       "3    0.052985  0.084584  0.200395  0.131746  0.149858  0.032198  0.107683  \n",
       "4    0.258773  0.148758  0.106435  0.152866  0.135535  0.261232  0.060792  \n",
       "..        ...       ...       ...       ...       ...       ...       ...  \n",
       "605  0.066032  0.148141  0.000000  0.153063  0.262558  0.069622  0.201104  \n",
       "606  0.137834  0.118780  0.153063  0.000000  0.283081  0.149190  0.139114  \n",
       "607  0.155306  0.178142  0.262558  0.283081  0.000000  0.121993  0.322055  \n",
       "608  0.236601  0.097610  0.069622  0.149190  0.121993  0.000000  0.053225  \n",
       "609  0.052552  0.119295  0.201104  0.139114  0.322055  0.053225  0.000000  \n",
       "\n",
       "[610 rows x 610 columns]"
      ]
     },
     "execution_count": 56,
     "metadata": {},
     "output_type": "execute_result"
    }
   ],
   "source": [
    "ratings_matrix_users = df.pivot_table(index=['userId'],columns=['movieId'],values='rating').reset_index(drop=True)\n",
    "ratings_matrix_users.fillna( 0, inplace = True )\n",
    "movie_similarity = 1 - pairwise_distances( ratings_matrix_users.as_matrix(), metric=\"cosine\" )\n",
    "np.fill_diagonal( movie_similarity, 0 ) #Filling diagonals with 0s for future use when sorting is done\n",
    "ratings_matrix_users = pd.DataFrame( movie_similarity )\n",
    "ratings_matrix_users"
   ]
  },
  {
   "cell_type": "markdown",
   "metadata": {},
   "source": [
    "\n",
    "Here now we have similarity of users in colums with respective users in row. So if we find maximum value in a column we will get the user with highest similarity. So now we can have a pair of users which are similar."
   ]
  },
  {
   "cell_type": "code",
   "execution_count": 57,
   "metadata": {},
   "outputs": [
    {
     "data": {
      "text/plain": [
       "0      265\n",
       "1      365\n",
       "2      312\n",
       "3      390\n",
       "4      469\n",
       "      ... \n",
       "605    473\n",
       "606    569\n",
       "607    479\n",
       "608    339\n",
       "609    248\n",
       "Length: 610, dtype: int64"
      ]
     },
     "execution_count": 57,
     "metadata": {},
     "output_type": "execute_result"
    }
   ],
   "source": [
    "ratings_matrix_users.idxmax(axis=1)"
   ]
  },
  {
   "cell_type": "code",
   "execution_count": 58,
   "metadata": {},
   "outputs": [
    {
     "data": {
      "text/plain": [
       "81     437\n",
       "218    238\n",
       "55      93\n",
       "598    413\n",
       "264    201\n",
       "155    274\n",
       "482     67\n",
       "321    329\n",
       "580    299\n",
       "291     20\n",
       "dtype: int64"
      ]
     },
     "execution_count": 58,
     "metadata": {},
     "output_type": "execute_result"
    }
   ],
   "source": [
    "ratings_matrix_users.idxmax(axis=1).sample( 10, random_state = 42)"
   ]
  },
  {
   "cell_type": "code",
   "execution_count": 59,
   "metadata": {},
   "outputs": [
    {
     "data": {
      "text/html": [
       "<div>\n",
       "<style scoped>\n",
       "    .dataframe tbody tr th:only-of-type {\n",
       "        vertical-align: middle;\n",
       "    }\n",
       "\n",
       "    .dataframe tbody tr th {\n",
       "        vertical-align: top;\n",
       "    }\n",
       "\n",
       "    .dataframe thead th {\n",
       "        text-align: right;\n",
       "    }\n",
       "</style>\n",
       "<table border=\"1\" class=\"dataframe\">\n",
       "  <thead>\n",
       "    <tr style=\"text-align: right;\">\n",
       "      <th></th>\n",
       "      <th>similarUser</th>\n",
       "    </tr>\n",
       "  </thead>\n",
       "  <tbody>\n",
       "    <tr>\n",
       "      <td>0</td>\n",
       "      <td>265</td>\n",
       "    </tr>\n",
       "    <tr>\n",
       "      <td>1</td>\n",
       "      <td>365</td>\n",
       "    </tr>\n",
       "    <tr>\n",
       "      <td>2</td>\n",
       "      <td>312</td>\n",
       "    </tr>\n",
       "    <tr>\n",
       "      <td>3</td>\n",
       "      <td>390</td>\n",
       "    </tr>\n",
       "    <tr>\n",
       "      <td>4</td>\n",
       "      <td>469</td>\n",
       "    </tr>\n",
       "  </tbody>\n",
       "</table>\n",
       "</div>"
      ],
      "text/plain": [
       "   similarUser\n",
       "0          265\n",
       "1          365\n",
       "2          312\n",
       "3          390\n",
       "4          469"
      ]
     },
     "execution_count": 59,
     "metadata": {},
     "output_type": "execute_result"
    }
   ],
   "source": [
    "similar_user_series= ratings_matrix_users.idxmax(axis=1)\n",
    "df_similar_user= similar_user_series.to_frame()\n",
    "df_similar_user.columns=['similarUser']\n",
    "df_similar_user.head(5)"
   ]
  },
  {
   "cell_type": "markdown",
   "metadata": {},
   "source": [
    "The function belows takes in a user id then looks at the similarUser dataframe to check the most similar user. Then this automatically outputs five recommendations that are highly-rated by the similar user."
   ]
  },
  {
   "cell_type": "code",
   "execution_count": 60,
   "metadata": {},
   "outputs": [],
   "source": [
    "def similar_user_rec(user_id):\n",
    "    similar_user = df_similar_user['similarUser'].iloc[user_id]\n",
    "    new_df = df.loc[(df['userId'] == similar_user)]\n",
    "    new_df = new_df.sort_values('rating', ascending=False).head(5)\n",
    "    rec_list = new_df['title'].to_list()\n",
    "    print(\"Based on users with similar tastes, you will also like the following movies:\")\n",
    "    return rec_list[0:6]"
   ]
  },
  {
   "cell_type": "code",
   "execution_count": 61,
   "metadata": {},
   "outputs": [
    {
     "name": "stdout",
     "output_type": "stream",
     "text": [
      "Based on users with similar tastes, you will also like the following movies:\n"
     ]
    },
    {
     "data": {
      "text/plain": [
       "['Immortals (2011)',\n",
       " 'Watchmen (2009)',\n",
       " 'Lord of the Rings: The Return of the King, The (2003)',\n",
       " 'Matrix Revolutions, The (2003)',\n",
       " 'Pirates of the Caribbean: The Curse of the Black Pearl (2003)']"
      ]
     },
     "execution_count": 61,
     "metadata": {},
     "output_type": "execute_result"
    }
   ],
   "source": [
    "similar_user_rec(581)"
   ]
  },
  {
   "cell_type": "markdown",
   "metadata": {},
   "source": [
    "#### Evaluation"
   ]
  },
  {
   "cell_type": "code",
   "execution_count": 62,
   "metadata": {},
   "outputs": [
    {
     "name": "stdout",
     "output_type": "stream",
     "text": [
      "Computing the cosine similarity matrix...\n",
      "Done computing similarity matrix.\n",
      "RMSE: 0.9764\n",
      "0.9763937746323682\n"
     ]
    }
   ],
   "source": [
    "# Try two similarity metrics\n",
    "sim_pear = {'name':'pearson','user_based':True}\n",
    "sim_cos = {'name':'cosine','user_based':True}\n",
    "\n",
    "# Fit the model using KNN \n",
    "basic = knns.KNNBasic(sim_options=sim_cos)\n",
    "basic.fit(trainset)\n",
    "predictions_knn = basic.test(testset)\n",
    "print(accuracy.rmse(predictions_knn))"
   ]
  },
  {
   "cell_type": "code",
   "execution_count": 63,
   "metadata": {},
   "outputs": [
    {
     "name": "stdout",
     "output_type": "stream",
     "text": [
      "Computing the pearson similarity matrix...\n",
      "Done computing similarity matrix.\n",
      "RMSE: 0.9774\n",
      "0.977433834462353\n"
     ]
    }
   ],
   "source": [
    "# Fit the model using KNN \n",
    "basic = knns.KNNBasic(sim_options=sim_pear)\n",
    "basic.fit(trainset)\n",
    "predictions_knn = basic.test(testset)\n",
    "print(accuracy.rmse(predictions_knn))"
   ]
  },
  {
   "cell_type": "markdown",
   "metadata": {},
   "source": [
    "### Memory-Based Methods (Neighborhood-Based)"
   ]
  },
  {
   "cell_type": "markdown",
   "metadata": {},
   "source": [
    "The first thing we are going to do is build some baseline Collaborative Recommendation models. We will begin with Surprise and loading in our data. We'll first look at RMSE for evaluation but then expand to other metrics."
   ]
  },
  {
   "cell_type": "code",
   "execution_count": 64,
   "metadata": {},
   "outputs": [],
   "source": [
    "ratings_df.drop(columns='timestamp',inplace=True)\n",
    "\n",
    "reader = Reader(rating_scale=(1, 5))\n",
    "data = Dataset.load_from_df(ratings_df, reader)"
   ]
  },
  {
   "cell_type": "markdown",
   "metadata": {},
   "source": [
    "Let's look at how many users and items we have in our dataset. If using neighborhood-based methods, this will help us determine whether or not we should perform user-user or item-item similarity"
   ]
  },
  {
   "cell_type": "code",
   "execution_count": 65,
   "metadata": {},
   "outputs": [
    {
     "name": "stdout",
     "output_type": "stream",
     "text": [
      "Number of users:  610 \n",
      "\n",
      "Number of items:  9724\n"
     ]
    }
   ],
   "source": [
    "dataset = data.build_full_trainset()\n",
    "print('Number of users: ', dataset.n_users, '\\n')\n",
    "print('Number of items: ', dataset.n_items)"
   ]
  },
  {
   "cell_type": "code",
   "execution_count": 66,
   "metadata": {},
   "outputs": [
    {
     "name": "stdout",
     "output_type": "stream",
     "text": [
      "{'rmse': 0.8686866240735671, 'mae': 0.667830306321747}\n",
      "{'rmse': {'n_factors': 100, 'reg_all': 0.05}, 'mae': {'n_factors': 20, 'reg_all': 0.02}}\n"
     ]
    }
   ],
   "source": [
    "#Creating SVD Model and showing RMSE\n",
    "params = {'n_factors': [20, 50, 100],\n",
    "         'reg_all': [0.02, 0.05, 0.1]}\n",
    "g_s_svd = GridSearchCV(SVD,param_grid=params,n_jobs=-1)\n",
    "g_s_svd.fit(data)\n",
    "print(g_s_svd.best_score)\n",
    "print(g_s_svd.best_params)"
   ]
  },
  {
   "cell_type": "code",
   "execution_count": 67,
   "metadata": {},
   "outputs": [
    {
     "name": "stdout",
     "output_type": "stream",
     "text": [
      "Similarity Metric =  pearson --- test_rmse =  0.9721065124845177 \n",
      "\n",
      "Similarity Metric =  MSD --- test_rmse =  0.9463385866985202 \n",
      "\n",
      "Similarity Metric =  cosine --- test_rmse =  0.9707065939537095 \n",
      "\n",
      "Similarity Metric =  pearson_baseline --- test_rmse =  0.9703466268983174 \n",
      "\n"
     ]
    }
   ],
   "source": [
    "sim_metrics = ['pearson','MSD','cosine','pearson_baseline']\n",
    "#Creating Basic KNN Model and showing RMSE, checking all distance metrics\n",
    "for metric in sim_metrics:\n",
    "    knn_basic = KNNBasic(sim_options={'name': metric, 'user_based':True})\n",
    "    cv_knn_basic = cross_validate(knn_basic, data, n_jobs=-1)\n",
    "    print('Similarity Metric = ', metric,'---', 'test_rmse = ', np.mean(cv_knn_basic['test_rmse']),'\\n')\n",
    "    \n",
    "    "
   ]
  },
  {
   "cell_type": "code",
   "execution_count": 68,
   "metadata": {},
   "outputs": [
    {
     "name": "stdout",
     "output_type": "stream",
     "text": [
      "Estimating biases using als...\n",
      "Computing the pearson similarity matrix...\n",
      "Done computing similarity matrix.\n",
      "Estimating biases using als...\n",
      "Computing the pearson similarity matrix...\n",
      "Done computing similarity matrix.\n",
      "Estimating biases using als...\n",
      "Computing the pearson similarity matrix...\n",
      "Done computing similarity matrix.\n",
      "Estimating biases using als...\n",
      "Computing the pearson similarity matrix...\n",
      "Done computing similarity matrix.\n",
      "Estimating biases using als...\n",
      "Computing the pearson similarity matrix...\n",
      "Done computing similarity matrix.\n",
      "Similarity Metric =  pearson --- test_rmse =  0.8768372913505778 \n",
      "\n",
      "Estimating biases using als...\n",
      "Computing the pearson similarity matrix...\n",
      "Done computing similarity matrix.\n",
      "Estimating biases using als...\n",
      "Computing the pearson similarity matrix...\n",
      "Done computing similarity matrix.\n",
      "Estimating biases using als...\n",
      "Computing the pearson similarity matrix...\n",
      "Done computing similarity matrix.\n",
      "Estimating biases using als...\n",
      "Computing the pearson similarity matrix...\n",
      "Done computing similarity matrix.\n",
      "Estimating biases using als...\n",
      "Computing the pearson similarity matrix...\n",
      "Done computing similarity matrix.\n",
      "Similarity Metric =  MSD --- test_rmse =  0.8763533026333082 \n",
      "\n",
      "Estimating biases using als...\n",
      "Computing the pearson similarity matrix...\n",
      "Done computing similarity matrix.\n",
      "Estimating biases using als...\n",
      "Computing the pearson similarity matrix...\n",
      "Done computing similarity matrix.\n",
      "Estimating biases using als...\n",
      "Computing the pearson similarity matrix...\n",
      "Done computing similarity matrix.\n",
      "Estimating biases using als...\n",
      "Computing the pearson similarity matrix...\n",
      "Done computing similarity matrix.\n",
      "Estimating biases using als...\n",
      "Computing the pearson similarity matrix...\n",
      "Done computing similarity matrix.\n",
      "Similarity Metric =  cosine --- test_rmse =  0.8777123792237903 \n",
      "\n",
      "Estimating biases using als...\n",
      "Computing the pearson similarity matrix...\n",
      "Done computing similarity matrix.\n",
      "Estimating biases using als...\n",
      "Computing the pearson similarity matrix...\n",
      "Done computing similarity matrix.\n",
      "Estimating biases using als...\n",
      "Computing the pearson similarity matrix...\n",
      "Done computing similarity matrix.\n",
      "Estimating biases using als...\n",
      "Computing the pearson similarity matrix...\n",
      "Done computing similarity matrix.\n",
      "Estimating biases using als...\n",
      "Computing the pearson similarity matrix...\n",
      "Done computing similarity matrix.\n",
      "Similarity Metric =  pearson_baseline --- test_rmse =  0.8771444716742683 \n",
      "\n"
     ]
    }
   ],
   "source": [
    "# cross validating with KNNBaseline\n",
    "for metric in sim_metrics:\n",
    "    knn_baseline = KNNBaseline(sim_options={'name':'pearson', 'user_based':True})\n",
    "    cv_knn_baseline = cross_validate(knn_baseline,data)\n",
    "    print('Similarity Metric = ', metric,'---', 'test_rmse = ', np.mean(cv_knn_baseline['test_rmse']),'\\n')"
   ]
  },
  {
   "cell_type": "markdown",
   "metadata": {},
   "source": [
    "#### Hit rate as an evaluation"
   ]
  },
  {
   "cell_type": "code",
   "execution_count": 69,
   "metadata": {},
   "outputs": [],
   "source": [
    "trainSet, testSet = surprise.model_selection.train_test_split(data, test_size=.25, random_state=0)"
   ]
  },
  {
   "cell_type": "code",
   "execution_count": 70,
   "metadata": {},
   "outputs": [],
   "source": [
    "#Get top N predictions for ratings above 4\n",
    "def GetTopN(predictions, n=10, minimumRating=4.0):\n",
    "    topN = defaultdict(list)\n",
    "    for userID, movieID, actualRating, estimatedRating, _ in predictions:\n",
    "        if (estimatedRating >= minimumRating):\n",
    "            topN[int(userID)].append((int(movieID), estimatedRating))\n",
    "\n",
    "    for userID, ratings in topN.items():\n",
    "        ratings.sort(key=lambda x: x[1], reverse=True)\n",
    "        topN[int(userID)] = ratings[:n]\n",
    "\n",
    "    return topN\n",
    "    \n",
    "LOOCV = LeaveOneOut(n_splits=1, random_state=1)\n",
    "\n"
   ]
  },
  {
   "cell_type": "code",
   "execution_count": 71,
   "metadata": {},
   "outputs": [
    {
     "name": "stdout",
     "output_type": "stream",
     "text": [
      "Estimating biases using als...\n",
      "Computing the pearson similarity matrix...\n",
      "Done computing similarity matrix.\n"
     ]
    }
   ],
   "source": [
    "#Get top predictions \n",
    "#When I use n=10 for knn it gets 0 hits, expanding to 50 it got a positive non-zero amount\n",
    "#so I am confident it is working just doing a worse job likely due to sparseness. I expanded\n",
    "#both to 50 for now\n",
    "svd_model= SVD(n_factors=50,reg_all=0.05)\n",
    "KNN_model= KNNBaseline(sim_options={'name':'pearson', 'user_based':True})\n",
    "\n",
    "for trainSet, testSet in LOOCV.split(data):\n",
    "    # Train model without left-out ratings\n",
    "    svd_model.fit(trainSet)\n",
    "    leftOutPredictionsSVD = svd_model.test(testSet)\n",
    "    bigTestSet = trainSet.build_anti_testset()\n",
    "    allPredictionsSVD = svd_model.test(bigTestSet)\n",
    "    \n",
    "    KNN_model.fit(trainSet)\n",
    "    leftOutPredictionsKNN = KNN_model.test(testSet)\n",
    "    bigTestSet = trainSet.build_anti_testset()\n",
    "    allPredictionsKNN = KNN_model.test(bigTestSet)\n",
    "   \n",
    "  \n",
    "    # Compute top 50 recs for each user\n",
    "    topNPredictedSVD = GetTopN(allPredictionsSVD, n=50)\n",
    "    topNPredictedKNN = GetTopN(allPredictionsKNN, n=50)"
   ]
  },
  {
   "cell_type": "code",
   "execution_count": 72,
   "metadata": {},
   "outputs": [],
   "source": [
    "def HitRate(topNPredicted, leftOutPredictions):\n",
    "    hits = 0\n",
    "    total = 0\n",
    "\n",
    " # For each left-out rating\n",
    "    for leftOut in leftOutPredictions:\n",
    "        userID = leftOut[0]\n",
    "        leftOutMovieID = leftOut[1]\n",
    "        # Is it in the predicted top 50 for this user?\n",
    "        hit = False\n",
    "        for movieID, predictedRating in topNPredicted[int(userID)]:\n",
    "            if (int(leftOutMovieID) == int(movieID)):\n",
    "                hit = True\n",
    "                break\n",
    "        if (hit) :\n",
    "            hits += 1\n",
    "\n",
    "        total += 1\n",
    "\n",
    "    # Compute overall precision\n",
    "    return hits/total\n"
   ]
  },
  {
   "cell_type": "code",
   "execution_count": 73,
   "metadata": {},
   "outputs": [
    {
     "name": "stdout",
     "output_type": "stream",
     "text": [
      "\n",
      "Hit Rate SVD:  0.06885245901639345\n",
      "\n",
      "Hit Rate KNN:  0.003278688524590164\n"
     ]
    }
   ],
   "source": [
    "print(\"\\nHit Rate SVD: \", HitRate(topNPredictedSVD, leftOutPredictionsSVD))\n",
    "print(\"\\nHit Rate KNN: \", HitRate(topNPredictedKNN, leftOutPredictionsKNN))"
   ]
  },
  {
   "cell_type": "code",
   "execution_count": 74,
   "metadata": {},
   "outputs": [],
   "source": [
    "def RatingHitRate(topNPredicted, leftOutPredictions):\n",
    "    hits = defaultdict(float)\n",
    "    total = defaultdict(float)\n",
    "    # For each left-out rating\n",
    "    for userID, leftOutMovieID, actualRating, estimatedRating, _ in leftOutPredictions:\n",
    "        # Is it in the predicted top N for this user?\n",
    "        hit = False\n",
    "        for movieID, predictedRating in topNPredicted[int(userID)]:\n",
    "            if (int(leftOutMovieID) == movieID):\n",
    "                hit = True\n",
    "                break\n",
    "        if (hit) :\n",
    "            hits[actualRating] += 1\n",
    "        total[actualRating] += 1\n",
    "\n",
    "    # Compute overall precision\n",
    "    for rating in sorted(hits.keys()):\n",
    "        print(rating, hits[rating] / total[rating])"
   ]
  },
  {
   "cell_type": "code",
   "execution_count": 75,
   "metadata": {},
   "outputs": [
    {
     "name": "stdout",
     "output_type": "stream",
     "text": [
      "Hit Rate by Rating value SVD: \n",
      "3.0 0.017391304347826087\n",
      "3.5 0.020833333333333332\n",
      "4.0 0.06111111111111111\n",
      "4.5 0.18867924528301888\n",
      "5.0 0.14634146341463414\n"
     ]
    }
   ],
   "source": [
    "print(\"Hit Rate by Rating value SVD: \")\n",
    "RatingHitRate(topNPredictedSVD, leftOutPredictionsSVD)"
   ]
  },
  {
   "cell_type": "code",
   "execution_count": 76,
   "metadata": {},
   "outputs": [
    {
     "name": "stdout",
     "output_type": "stream",
     "text": [
      "Hit Rate by Rating value KNN: \n",
      "4.0 0.005555555555555556\n",
      "5.0 0.008130081300813009\n"
     ]
    }
   ],
   "source": [
    "print(\"Hit Rate by Rating value KNN: \")\n",
    "RatingHitRate(topNPredictedKNN, leftOutPredictionsKNN)"
   ]
  },
  {
   "cell_type": "code",
   "execution_count": 77,
   "metadata": {},
   "outputs": [],
   "source": [
    "def CumulativeHitRate(topNPredicted, leftOutPredictions, ratingCutoff=0):\n",
    "    hits = 0\n",
    "    total = 0\n",
    "    # For each left-out rating\n",
    "    for userID, leftOutMovieID, actualRating, estimatedRating, _ in leftOutPredictions:\n",
    "        # Only look at ability to recommend things the users actually liked...\n",
    "        if (actualRating >= ratingCutoff):\n",
    "            # Is it in the predicted top 10 for this user?\n",
    "            hit = False\n",
    "            for movieID, predictedRating in topNPredicted[int(userID)]:\n",
    "                if (int(leftOutMovieID) == movieID):\n",
    "                    hit = True\n",
    "                    break\n",
    "            if (hit) :\n",
    "                hits += 1\n",
    "            total += 1\n",
    "\n",
    "        # Compute overall precision\n",
    "    return hits/total"
   ]
  },
  {
   "cell_type": "code",
   "execution_count": 78,
   "metadata": {},
   "outputs": [
    {
     "name": "stdout",
     "output_type": "stream",
     "text": [
      "Cumulative Hit Rate SVD (rating >= 4):  0.10955056179775281\n",
      "Cumulative Hit Rate KNN(rating >= 4):  0.0056179775280898875\n"
     ]
    }
   ],
   "source": [
    "print(\"Cumulative Hit Rate SVD (rating >= 4): \", CumulativeHitRate(topNPredictedSVD, leftOutPredictionsSVD, 4.0))\n",
    "print(\"Cumulative Hit Rate KNN(rating >= 4): \", CumulativeHitRate(topNPredictedKNN, leftOutPredictionsKNN, 4.0))\n",
    "\n"
   ]
  },
  {
   "cell_type": "code",
   "execution_count": 79,
   "metadata": {},
   "outputs": [],
   "source": [
    "def AverageReciprocalHitRank(topNPredicted, leftOutPredictions):\n",
    "    summation = 0\n",
    "    total = 0\n",
    "        # For each left-out rating\n",
    "    for userID, leftOutMovieID, actualRating, estimatedRating, _ in leftOutPredictions:\n",
    "        # Is it in the predicted top N for this user?\n",
    "        hitRank = 0\n",
    "        rank = 0\n",
    "        for movieID, predictedRating in topNPredicted[int(userID)]:\n",
    "            rank = rank + 1\n",
    "            if (int(leftOutMovieID) == movieID):\n",
    "                hitRank = rank\n",
    "                break\n",
    "        if (hitRank > 0) :\n",
    "                summation += 1.0 / hitRank\n",
    "\n",
    "        total += 1\n",
    "\n",
    "    return summation / total"
   ]
  },
  {
   "cell_type": "code",
   "execution_count": 80,
   "metadata": {},
   "outputs": [
    {
     "name": "stdout",
     "output_type": "stream",
     "text": [
      "Average Reciprocal Hit Rank SVD:  0.015151888059751708\n",
      "Average Reciprocal Hit Rank KNN:  0.00017041000647558026\n"
     ]
    }
   ],
   "source": [
    "print(\"Average Reciprocal Hit Rank SVD: \", AverageReciprocalHitRank(topNPredictedSVD, leftOutPredictionsKNN))\n",
    "print(\"Average Reciprocal Hit Rank KNN: \", AverageReciprocalHitRank(topNPredictedKNN, leftOutPredictionsKNN))\n"
   ]
  },
  {
   "cell_type": "markdown",
   "metadata": {},
   "source": [
    "Its pretty clear that the SVD model is outperforming the KNN model here. It was slightly better using RMSE and is significantly better using a hit rate method."
   ]
  },
  {
   "cell_type": "code",
   "execution_count": null,
   "metadata": {},
   "outputs": [],
   "source": []
  },
  {
   "cell_type": "markdown",
   "metadata": {},
   "source": [
    "## Content-Based Filtering"
   ]
  },
  {
   "cell_type": "markdown",
   "metadata": {},
   "source": [
    "In the resulting dataframe after running multiple API calls, we are able to get the plot of each movie. This section aims to build an accurate model that makes recommendation based on plot similarities."
   ]
  },
  {
   "cell_type": "markdown",
   "metadata": {},
   "source": [
    "### Bag of Words"
   ]
  },
  {
   "cell_type": "code",
   "execution_count": 81,
   "metadata": {},
   "outputs": [
    {
     "name": "stderr",
     "output_type": "stream",
     "text": [
      "[nltk_data] Downloading package punkt to /Users/Bryan/nltk_data...\n",
      "[nltk_data]   Package punkt is already up-to-date!\n"
     ]
    },
    {
     "data": {
      "text/plain": [
       "True"
      ]
     },
     "execution_count": 81,
     "metadata": {},
     "output_type": "execute_result"
    }
   ],
   "source": [
    "nltk.download('punkt')"
   ]
  },
  {
   "cell_type": "code",
   "execution_count": 82,
   "metadata": {},
   "outputs": [
    {
     "name": "stderr",
     "output_type": "stream",
     "text": [
      "[nltk_data] Downloading package wordnet to /Users/Bryan/nltk_data...\n",
      "[nltk_data]   Package wordnet is already up-to-date!\n"
     ]
    },
    {
     "data": {
      "text/plain": [
       "True"
      ]
     },
     "execution_count": 82,
     "metadata": {},
     "output_type": "execute_result"
    }
   ],
   "source": [
    "nltk.download('wordnet')"
   ]
  },
  {
   "cell_type": "code",
   "execution_count": 83,
   "metadata": {},
   "outputs": [],
   "source": [
    "stop_words_ = set(stopwords.words('english'))\n",
    "wn = WordNetLemmatizer()\n"
   ]
  },
  {
   "cell_type": "code",
   "execution_count": 84,
   "metadata": {},
   "outputs": [],
   "source": [
    "def black_txt(token):\n",
    "    return  token not in stop_words_ and token not in list(string.punctuation)  and len(token)>2   \n",
    "  \n",
    "def clean_txt(text):\n",
    "  clean_text = []\n",
    "  clean_text2 = []\n",
    "  text = re.sub(\"'\", \"\",text)\n",
    "  text=re.sub(\"(\\\\d|\\\\W)+\",\" \",text) \n",
    "  text = text.replace(\"nbsp\", \"\")\n",
    "  clean_text = [ wn.lemmatize(word, pos=\"v\") for word in word_tokenize(text.lower()) if black_txt(word)]\n",
    "  clean_text2 = [word for word in clean_text if black_txt(word)]\n",
    "  return \" \".join(clean_text2)"
   ]
  },
  {
   "cell_type": "code",
   "execution_count": 85,
   "metadata": {},
   "outputs": [],
   "source": [
    "nlp_df['plot'] = nlp_df['plot'].astype(str)\n",
    "nlp_df['plot'] = nlp_df['plot'].apply(clean_txt)"
   ]
  },
  {
   "cell_type": "code",
   "execution_count": 86,
   "metadata": {},
   "outputs": [
    {
     "data": {
      "text/html": [
       "<div>\n",
       "<style scoped>\n",
       "    .dataframe tbody tr th:only-of-type {\n",
       "        vertical-align: middle;\n",
       "    }\n",
       "\n",
       "    .dataframe tbody tr th {\n",
       "        vertical-align: top;\n",
       "    }\n",
       "\n",
       "    .dataframe thead th {\n",
       "        text-align: right;\n",
       "    }\n",
       "</style>\n",
       "<table border=\"1\" class=\"dataframe\">\n",
       "  <thead>\n",
       "    <tr style=\"text-align: right;\">\n",
       "      <th></th>\n",
       "      <th>movieId</th>\n",
       "      <th>title</th>\n",
       "      <th>genres</th>\n",
       "      <th>imdbId</th>\n",
       "      <th>tmdbId</th>\n",
       "      <th>plot</th>\n",
       "    </tr>\n",
       "  </thead>\n",
       "  <tbody>\n",
       "    <tr>\n",
       "      <td>0</td>\n",
       "      <td>1</td>\n",
       "      <td>Toy Story (1995)</td>\n",
       "      <td>Adventure|Animation|Children|Comedy|Fantasy</td>\n",
       "      <td>114709</td>\n",
       "      <td>862.0</td>\n",
       "      <td>lead woody andys toy live happily room andys b...</td>\n",
       "    </tr>\n",
       "    <tr>\n",
       "      <td>1</td>\n",
       "      <td>2</td>\n",
       "      <td>Jumanji (1995)</td>\n",
       "      <td>Adventure|Children|Fantasy</td>\n",
       "      <td>113497</td>\n",
       "      <td>8844.0</td>\n",
       "      <td>siblings judy peter discover enchant board gam...</td>\n",
       "    </tr>\n",
       "    <tr>\n",
       "      <td>3</td>\n",
       "      <td>3</td>\n",
       "      <td>Grumpier Old Men (1995)</td>\n",
       "      <td>Comedy|Romance</td>\n",
       "      <td>113228</td>\n",
       "      <td>15602.0</td>\n",
       "      <td>family wed reignite ancient feud next door nei...</td>\n",
       "    </tr>\n",
       "    <tr>\n",
       "      <td>5</td>\n",
       "      <td>4</td>\n",
       "      <td>Waiting to Exhale (1995)</td>\n",
       "      <td>Comedy|Drama|Romance</td>\n",
       "      <td>114885</td>\n",
       "      <td>31357.0</td>\n",
       "      <td>cheat mistreat step women hold breath wait elu...</td>\n",
       "    </tr>\n",
       "    <tr>\n",
       "      <td>7</td>\n",
       "      <td>5</td>\n",
       "      <td>Father of the Bride Part II (1995)</td>\n",
       "      <td>Comedy</td>\n",
       "      <td>113041</td>\n",
       "      <td>11862.0</td>\n",
       "      <td>george bank recover daughters wed receive news...</td>\n",
       "    </tr>\n",
       "  </tbody>\n",
       "</table>\n",
       "</div>"
      ],
      "text/plain": [
       "   movieId                               title  \\\n",
       "0        1                    Toy Story (1995)   \n",
       "1        2                      Jumanji (1995)   \n",
       "3        3             Grumpier Old Men (1995)   \n",
       "5        4            Waiting to Exhale (1995)   \n",
       "7        5  Father of the Bride Part II (1995)   \n",
       "\n",
       "                                        genres  imdbId   tmdbId  \\\n",
       "0  Adventure|Animation|Children|Comedy|Fantasy  114709    862.0   \n",
       "1                   Adventure|Children|Fantasy  113497   8844.0   \n",
       "3                               Comedy|Romance  113228  15602.0   \n",
       "5                         Comedy|Drama|Romance  114885  31357.0   \n",
       "7                                       Comedy  113041  11862.0   \n",
       "\n",
       "                                                plot  \n",
       "0  lead woody andys toy live happily room andys b...  \n",
       "1  siblings judy peter discover enchant board gam...  \n",
       "3  family wed reignite ancient feud next door nei...  \n",
       "5  cheat mistreat step women hold breath wait elu...  \n",
       "7  george bank recover daughters wed receive news...  "
      ]
     },
     "execution_count": 86,
     "metadata": {},
     "output_type": "execute_result"
    }
   ],
   "source": [
    "nlp_df.head()"
   ]
  },
  {
   "cell_type": "code",
   "execution_count": 87,
   "metadata": {},
   "outputs": [],
   "source": [
    "nlp_df['plot'] = nlp_df['plot'].fillna(\"not applicable\")"
   ]
  },
  {
   "cell_type": "code",
   "execution_count": 88,
   "metadata": {},
   "outputs": [
    {
     "name": "stdout",
     "output_type": "stream",
     "text": [
      "[[1.         0.04222003 0.         ... 0.         0.02401461 0.        ]\n",
      " [0.04222003 1.         0.04767313 ... 0.         0.02585438 0.02132007]\n",
      " [0.         0.04767313 1.         ... 0.05270463 0.         0.04472136]\n",
      " ...\n",
      " [0.         0.         0.05270463 ... 1.         0.         0.        ]\n",
      " [0.02401461 0.02585438 0.         ... 0.         1.         0.02425356]\n",
      " [0.         0.02132007 0.04472136 ... 0.         0.02425356 1.        ]]\n"
     ]
    }
   ],
   "source": [
    "count = CountVectorizer()\n",
    "count_matrix = count.fit_transform(nlp_df['plot'])\n",
    "cosine_sim = cosine_similarity(count_matrix, count_matrix)\n",
    "print(cosine_sim)"
   ]
  },
  {
   "cell_type": "code",
   "execution_count": 89,
   "metadata": {},
   "outputs": [
    {
     "data": {
      "text/plain": [
       "(9742, 25579)"
      ]
     },
     "execution_count": 89,
     "metadata": {},
     "output_type": "execute_result"
    }
   ],
   "source": [
    "count_matrix.shape"
   ]
  },
  {
   "cell_type": "code",
   "execution_count": 90,
   "metadata": {},
   "outputs": [],
   "source": [
    "indices = pd.Series(nlp_df['title'])"
   ]
  },
  {
   "cell_type": "code",
   "execution_count": 91,
   "metadata": {},
   "outputs": [],
   "source": [
    "def recommend(title, cosine_sim = cosine_sim):\n",
    "    recommended_movies = []\n",
    "    idx = indices[indices == title].index[0]\n",
    "    score_series = pd.Series(cosine_sim[idx]).sort_values(ascending = False)\n",
    "    top_10_indices = list(score_series.iloc[1:11].index)\n",
    "    \n",
    "    for i in top_10_indices:\n",
    "        recommended_movies.append(list(nlp_df['title'])[i])\n",
    "        \n",
    "    return recommended_movies"
   ]
  },
  {
   "cell_type": "code",
   "execution_count": 92,
   "metadata": {},
   "outputs": [
    {
     "data": {
      "text/plain": [
       "['Crossfire (1947)',\n",
       " 'Munich (2005)',\n",
       " 'Blow-Out (La grande bouffe) (1973)',\n",
       " 'Hills Have Eyes II, The (2007)',\n",
       " 'Ski School (1991)',\n",
       " 'Great Silence, The (Grande silenzio, Il) (1969)',\n",
       " 'Femme Nikita, La (Nikita) (1990)',\n",
       " 'To Sir with Love (1967)',\n",
       " 'Speechless (1994)',\n",
       " 'Dream Team, The (1989)']"
      ]
     },
     "execution_count": 92,
     "metadata": {},
     "output_type": "execute_result"
    }
   ],
   "source": [
    "recommend('Batman (1989)')"
   ]
  },
  {
   "cell_type": "markdown",
   "metadata": {},
   "source": [
    "### TF-IDF Models\n",
    "In this section we will calculate TF_IDF and then use various models to see whether we can accurately classify movies into their potental ratings bucket."
   ]
  },
  {
   "cell_type": "code",
   "execution_count": 93,
   "metadata": {},
   "outputs": [],
   "source": [
    "from os import path\n",
    "from PIL import Image\n",
    "from wordcloud import WordCloud, STOPWORDS, ImageColorGenerator"
   ]
  },
  {
   "cell_type": "markdown",
   "metadata": {},
   "source": [
    "Now lets make some wordclouds from the plot of the movies for 4 star or higher, average films, and below 2.75 star ratings!"
   ]
  },
  {
   "cell_type": "code",
   "execution_count": 94,
   "metadata": {},
   "outputs": [],
   "source": [
    "df=nlp_df.merge(ratings_df.groupby('movieId')['rating'].mean(),how='left',on='movieId')"
   ]
  },
  {
   "cell_type": "code",
   "execution_count": 95,
   "metadata": {},
   "outputs": [
    {
     "data": {
      "text/html": [
       "<div>\n",
       "<style scoped>\n",
       "    .dataframe tbody tr th:only-of-type {\n",
       "        vertical-align: middle;\n",
       "    }\n",
       "\n",
       "    .dataframe tbody tr th {\n",
       "        vertical-align: top;\n",
       "    }\n",
       "\n",
       "    .dataframe thead th {\n",
       "        text-align: right;\n",
       "    }\n",
       "</style>\n",
       "<table border=\"1\" class=\"dataframe\">\n",
       "  <thead>\n",
       "    <tr style=\"text-align: right;\">\n",
       "      <th></th>\n",
       "      <th>movieId</th>\n",
       "      <th>title</th>\n",
       "      <th>genres</th>\n",
       "      <th>imdbId</th>\n",
       "      <th>tmdbId</th>\n",
       "      <th>plot</th>\n",
       "      <th>rating</th>\n",
       "    </tr>\n",
       "  </thead>\n",
       "  <tbody>\n",
       "    <tr>\n",
       "      <td>0</td>\n",
       "      <td>1</td>\n",
       "      <td>Toy Story (1995)</td>\n",
       "      <td>Adventure|Animation|Children|Comedy|Fantasy</td>\n",
       "      <td>114709</td>\n",
       "      <td>862.0</td>\n",
       "      <td>lead woody andys toy live happily room andys b...</td>\n",
       "      <td>3.920930</td>\n",
       "    </tr>\n",
       "    <tr>\n",
       "      <td>1</td>\n",
       "      <td>2</td>\n",
       "      <td>Jumanji (1995)</td>\n",
       "      <td>Adventure|Children|Fantasy</td>\n",
       "      <td>113497</td>\n",
       "      <td>8844.0</td>\n",
       "      <td>siblings judy peter discover enchant board gam...</td>\n",
       "      <td>3.431818</td>\n",
       "    </tr>\n",
       "    <tr>\n",
       "      <td>2</td>\n",
       "      <td>3</td>\n",
       "      <td>Grumpier Old Men (1995)</td>\n",
       "      <td>Comedy|Romance</td>\n",
       "      <td>113228</td>\n",
       "      <td>15602.0</td>\n",
       "      <td>family wed reignite ancient feud next door nei...</td>\n",
       "      <td>3.259615</td>\n",
       "    </tr>\n",
       "    <tr>\n",
       "      <td>3</td>\n",
       "      <td>4</td>\n",
       "      <td>Waiting to Exhale (1995)</td>\n",
       "      <td>Comedy|Drama|Romance</td>\n",
       "      <td>114885</td>\n",
       "      <td>31357.0</td>\n",
       "      <td>cheat mistreat step women hold breath wait elu...</td>\n",
       "      <td>2.357143</td>\n",
       "    </tr>\n",
       "    <tr>\n",
       "      <td>4</td>\n",
       "      <td>5</td>\n",
       "      <td>Father of the Bride Part II (1995)</td>\n",
       "      <td>Comedy</td>\n",
       "      <td>113041</td>\n",
       "      <td>11862.0</td>\n",
       "      <td>george bank recover daughters wed receive news...</td>\n",
       "      <td>3.071429</td>\n",
       "    </tr>\n",
       "  </tbody>\n",
       "</table>\n",
       "</div>"
      ],
      "text/plain": [
       "   movieId                               title  \\\n",
       "0        1                    Toy Story (1995)   \n",
       "1        2                      Jumanji (1995)   \n",
       "2        3             Grumpier Old Men (1995)   \n",
       "3        4            Waiting to Exhale (1995)   \n",
       "4        5  Father of the Bride Part II (1995)   \n",
       "\n",
       "                                        genres  imdbId   tmdbId  \\\n",
       "0  Adventure|Animation|Children|Comedy|Fantasy  114709    862.0   \n",
       "1                   Adventure|Children|Fantasy  113497   8844.0   \n",
       "2                               Comedy|Romance  113228  15602.0   \n",
       "3                         Comedy|Drama|Romance  114885  31357.0   \n",
       "4                                       Comedy  113041  11862.0   \n",
       "\n",
       "                                                plot    rating  \n",
       "0  lead woody andys toy live happily room andys b...  3.920930  \n",
       "1  siblings judy peter discover enchant board gam...  3.431818  \n",
       "2  family wed reignite ancient feud next door nei...  3.259615  \n",
       "3  cheat mistreat step women hold breath wait elu...  2.357143  \n",
       "4  george bank recover daughters wed receive news...  3.071429  "
      ]
     },
     "execution_count": 95,
     "metadata": {},
     "output_type": "execute_result"
    }
   ],
   "source": [
    "df.head()"
   ]
  },
  {
   "cell_type": "code",
   "execution_count": 96,
   "metadata": {},
   "outputs": [],
   "source": [
    "#Splitting the dataframes into top movies with a ranking of 4.5 or higher\n",
    "#low rated movies with average rating 2.5 or lower and average movies\n",
    "\n",
    "low_df = df[df['rating'] <= 2.75]\n",
    "top_df = df[df['rating'] >= 4]\n",
    "avg_df =df[df['rating']>2.75]\n",
    "avg_df =avg_df[avg_df['rating'] < 4]\n",
    "low = \" \".join(plot for plot in low_df['plot'])\n",
    "top = \" \".join(plot for plot in top_df['plot'])\n",
    "avg = \" \".join(plot for plot in avg_df['plot'])"
   ]
  },
  {
   "cell_type": "markdown",
   "metadata": {},
   "source": [
    "Checking the sizes of the rankings bucket"
   ]
  },
  {
   "cell_type": "code",
   "execution_count": 97,
   "metadata": {},
   "outputs": [
    {
     "name": "stdout",
     "output_type": "stream",
     "text": [
      "There are 2270 top films\n",
      "There are 2391 low rated films\n",
      "There are 5063 average films\n"
     ]
    }
   ],
   "source": [
    "print('There are', top_df.shape[0], 'top films')\n",
    "print('There are', low_df.shape[0], 'low rated films')\n",
    "print('There are', avg_df.shape[0], 'average films')"
   ]
  },
  {
   "cell_type": "code",
   "execution_count": 98,
   "metadata": {},
   "outputs": [],
   "source": [
    "def generate_wordcloud(data):\n",
    "    wordcloud = WordCloud( background_color=\"grey\").generate(data)\n",
    "\n",
    "    plt.imshow(wordcloud, interpolation='bilinear')\n",
    "    plt.axis(\"off\")\n",
    "    plt.show()"
   ]
  },
  {
   "cell_type": "code",
   "execution_count": 99,
   "metadata": {},
   "outputs": [
    {
     "data": {
      "image/png": "[encoded data removed]",
      "text/plain": [
       "<Figure size 432x288 with 1 Axes>"
      ]
     },
     "metadata": {},
     "output_type": "display_data"
    }
   ],
   "source": [
    "#Low rated wordcloud\n",
    "generate_wordcloud(low)\n"
   ]
  },
  {
   "cell_type": "code",
   "execution_count": 100,
   "metadata": {},
   "outputs": [
    {
     "data": {
      "image/png": "[encoded data removed]",
      "text/plain": [
       "<Figure size 432x288 with 1 Axes>"
      ]
     },
     "metadata": {},
     "output_type": "display_data"
    }
   ],
   "source": [
    "#Top rated wordcloud\n",
    "generate_wordcloud(top)\n"
   ]
  },
  {
   "cell_type": "code",
   "execution_count": 101,
   "metadata": {},
   "outputs": [
    {
     "data": {
      "image/png": "[encoded data removed]",
      "text/plain": [
       "<Figure size 432x288 with 1 Axes>"
      ]
     },
     "metadata": {},
     "output_type": "display_data"
    }
   ],
   "source": [
    "#Average rated wordcloud\n",
    "generate_wordcloud(avg)"
   ]
  },
  {
   "cell_type": "markdown",
   "metadata": {},
   "source": [
    "Looking at the wordclouds it seems like many of the words are the same across the ratings buckets. It is likely that our classification models will do a poor job if the words are similar."
   ]
  },
  {
   "cell_type": "markdown",
   "metadata": {},
   "source": [
    "Now we will build some classification models to see if they can group the ratings into the top, low, and average categories"
   ]
  },
  {
   "cell_type": "code",
   "execution_count": 102,
   "metadata": {},
   "outputs": [],
   "source": [
    "#convert into categories\n",
    "df['category'] = df['rating'].apply(lambda x: 'top' if x>=4.5 else ('low' if x<=2.5 else 'avg'))\n",
    "\n",
    "\n"
   ]
  },
  {
   "cell_type": "code",
   "execution_count": 103,
   "metadata": {},
   "outputs": [
    {
     "data": {
      "text/html": [
       "<div>\n",
       "<style scoped>\n",
       "    .dataframe tbody tr th:only-of-type {\n",
       "        vertical-align: middle;\n",
       "    }\n",
       "\n",
       "    .dataframe tbody tr th {\n",
       "        vertical-align: top;\n",
       "    }\n",
       "\n",
       "    .dataframe thead th {\n",
       "        text-align: right;\n",
       "    }\n",
       "</style>\n",
       "<table border=\"1\" class=\"dataframe\">\n",
       "  <thead>\n",
       "    <tr style=\"text-align: right;\">\n",
       "      <th></th>\n",
       "      <th>movieId</th>\n",
       "      <th>title</th>\n",
       "      <th>genres</th>\n",
       "      <th>imdbId</th>\n",
       "      <th>tmdbId</th>\n",
       "      <th>plot</th>\n",
       "      <th>rating</th>\n",
       "      <th>category</th>\n",
       "    </tr>\n",
       "  </thead>\n",
       "  <tbody>\n",
       "    <tr>\n",
       "      <td>0</td>\n",
       "      <td>1</td>\n",
       "      <td>Toy Story (1995)</td>\n",
       "      <td>Adventure|Animation|Children|Comedy|Fantasy</td>\n",
       "      <td>114709</td>\n",
       "      <td>862.0</td>\n",
       "      <td>lead woody andys toy live happily room andys b...</td>\n",
       "      <td>3.920930</td>\n",
       "      <td>avg</td>\n",
       "    </tr>\n",
       "    <tr>\n",
       "      <td>1</td>\n",
       "      <td>2</td>\n",
       "      <td>Jumanji (1995)</td>\n",
       "      <td>Adventure|Children|Fantasy</td>\n",
       "      <td>113497</td>\n",
       "      <td>8844.0</td>\n",
       "      <td>siblings judy peter discover enchant board gam...</td>\n",
       "      <td>3.431818</td>\n",
       "      <td>avg</td>\n",
       "    </tr>\n",
       "    <tr>\n",
       "      <td>2</td>\n",
       "      <td>3</td>\n",
       "      <td>Grumpier Old Men (1995)</td>\n",
       "      <td>Comedy|Romance</td>\n",
       "      <td>113228</td>\n",
       "      <td>15602.0</td>\n",
       "      <td>family wed reignite ancient feud next door nei...</td>\n",
       "      <td>3.259615</td>\n",
       "      <td>avg</td>\n",
       "    </tr>\n",
       "    <tr>\n",
       "      <td>3</td>\n",
       "      <td>4</td>\n",
       "      <td>Waiting to Exhale (1995)</td>\n",
       "      <td>Comedy|Drama|Romance</td>\n",
       "      <td>114885</td>\n",
       "      <td>31357.0</td>\n",
       "      <td>cheat mistreat step women hold breath wait elu...</td>\n",
       "      <td>2.357143</td>\n",
       "      <td>low</td>\n",
       "    </tr>\n",
       "    <tr>\n",
       "      <td>4</td>\n",
       "      <td>5</td>\n",
       "      <td>Father of the Bride Part II (1995)</td>\n",
       "      <td>Comedy</td>\n",
       "      <td>113041</td>\n",
       "      <td>11862.0</td>\n",
       "      <td>george bank recover daughters wed receive news...</td>\n",
       "      <td>3.071429</td>\n",
       "      <td>avg</td>\n",
       "    </tr>\n",
       "  </tbody>\n",
       "</table>\n",
       "</div>"
      ],
      "text/plain": [
       "   movieId                               title  \\\n",
       "0        1                    Toy Story (1995)   \n",
       "1        2                      Jumanji (1995)   \n",
       "2        3             Grumpier Old Men (1995)   \n",
       "3        4            Waiting to Exhale (1995)   \n",
       "4        5  Father of the Bride Part II (1995)   \n",
       "\n",
       "                                        genres  imdbId   tmdbId  \\\n",
       "0  Adventure|Animation|Children|Comedy|Fantasy  114709    862.0   \n",
       "1                   Adventure|Children|Fantasy  113497   8844.0   \n",
       "2                               Comedy|Romance  113228  15602.0   \n",
       "3                         Comedy|Drama|Romance  114885  31357.0   \n",
       "4                                       Comedy  113041  11862.0   \n",
       "\n",
       "                                                plot    rating category  \n",
       "0  lead woody andys toy live happily room andys b...  3.920930      avg  \n",
       "1  siblings judy peter discover enchant board gam...  3.431818      avg  \n",
       "2  family wed reignite ancient feud next door nei...  3.259615      avg  \n",
       "3  cheat mistreat step women hold breath wait elu...  2.357143      low  \n",
       "4  george bank recover daughters wed receive news...  3.071429      avg  "
      ]
     },
     "execution_count": 103,
     "metadata": {},
     "output_type": "execute_result"
    }
   ],
   "source": [
    "df.head()"
   ]
  },
  {
   "cell_type": "code",
   "execution_count": 104,
   "metadata": {},
   "outputs": [],
   "source": [
    "#use plot as the features, category as the output\n",
    "X = df['plot']\n",
    "y = df['category']\n",
    "\n",
    "\n",
    "X_train, X_test, y_train, y_test = train_test_split(X, y, test_size=0.2, random_state = 13)\n",
    "\n",
    "categories = ['top', 'avg', 'low']\n"
   ]
  },
  {
   "cell_type": "code",
   "execution_count": null,
   "metadata": {},
   "outputs": [],
   "source": []
  },
  {
   "cell_type": "markdown",
   "metadata": {},
   "source": [
    "First we will make a naive bayes classifier"
   ]
  },
  {
   "cell_type": "code",
   "execution_count": 105,
   "metadata": {},
   "outputs": [
    {
     "name": "stdout",
     "output_type": "stream",
     "text": [
      "accuracy 0.7152385838891739\n",
      "              precision    recall  f1-score   support\n",
      "\n",
      "         top       0.72      1.00      0.83      1394\n",
      "         avg       0.00      0.00      0.00       403\n",
      "         low       0.00      0.00      0.00       152\n",
      "\n",
      "    accuracy                           0.72      1949\n",
      "   macro avg       0.24      0.33      0.28      1949\n",
      "weighted avg       0.51      0.72      0.60      1949\n",
      "\n",
      "avg    1949\n",
      "dtype: int64\n"
     ]
    }
   ],
   "source": [
    "nb = Pipeline([('vect', CountVectorizer()),\n",
    "               ('tfidf', TfidfTransformer()),\n",
    "               ('clf', MultinomialNB()),\n",
    "              ])\n",
    "nb.fit(X_train, y_train)\n",
    "\n",
    "y_pred = nb.predict(X_test)\n",
    "\n",
    "print('accuracy %s' % accuracy_score(y_pred, y_test))\n",
    "print(classification_report(y_test, y_pred,target_names=categories))\n",
    "print(pd.Series(y_pred).value_counts())"
   ]
  },
  {
   "cell_type": "code",
   "execution_count": 106,
   "metadata": {},
   "outputs": [
    {
     "data": {
      "text/plain": [
       "array([[   0,  152,    0],\n",
       "       [   0, 1394,    0],\n",
       "       [   0,  403,    0]])"
      ]
     },
     "execution_count": 106,
     "metadata": {},
     "output_type": "execute_result"
    }
   ],
   "source": [
    "confusion_matrix(y_test, y_pred, labels=categories)"
   ]
  },
  {
   "cell_type": "markdown",
   "metadata": {},
   "source": [
    "The naive bayes classifier simply labeled everything as average. Not a good outcome. Next we'll try a logistic regression classifier."
   ]
  },
  {
   "cell_type": "code",
   "execution_count": 107,
   "metadata": {},
   "outputs": [
    {
     "name": "stdout",
     "output_type": "stream",
     "text": [
      "accuracy 0.6305797845048743\n",
      "              precision    recall  f1-score   support\n",
      "\n",
      "         top       0.73      0.81      0.77      1394\n",
      "         avg       0.25      0.21      0.23       403\n",
      "         low       0.19      0.09      0.12       152\n",
      "\n",
      "    accuracy                           0.63      1949\n",
      "   macro avg       0.39      0.37      0.37      1949\n",
      "weighted avg       0.59      0.63      0.61      1949\n",
      "\n",
      "avg    1546\n",
      "low     336\n",
      "top      67\n",
      "dtype: int64\n"
     ]
    }
   ],
   "source": [
    "\n",
    "logreg = Pipeline([('vect', CountVectorizer()),\n",
    "                ('tfidf', TfidfTransformer()),\n",
    "                ('clf', LogisticRegression(C=1e5)),\n",
    "               ])\n",
    "logreg.fit(X_train, y_train)\n",
    "\n",
    "\n",
    "y_pred = logreg.predict(X_test)\n",
    "\n",
    "print('accuracy %s' % accuracy_score(y_pred, y_test))\n",
    "print(classification_report(y_test, y_pred,target_names=categories))\n",
    "print(pd.Series(y_pred).value_counts())"
   ]
  },
  {
   "cell_type": "code",
   "execution_count": 108,
   "metadata": {},
   "outputs": [
    {
     "data": {
      "text/plain": [
       "array([[  13,  115,   24],\n",
       "       [  34, 1132,  228],\n",
       "       [  20,  299,   84]])"
      ]
     },
     "execution_count": 108,
     "metadata": {},
     "output_type": "execute_result"
    }
   ],
   "source": [
    "confusion_matrix(y_test, y_pred, labels=categories)"
   ]
  },
  {
   "cell_type": "markdown",
   "metadata": {},
   "source": [
    "The logistic had a the highest overall accuracy by a small amount and it did classify into each of the ratings buckets! Finally, we'll look at a SGD classifier."
   ]
  },
  {
   "cell_type": "code",
   "execution_count": 109,
   "metadata": {},
   "outputs": [
    {
     "name": "stdout",
     "output_type": "stream",
     "text": [
      "accuracy 0.7152385838891739\n",
      "              precision    recall  f1-score   support\n",
      "\n",
      "         top       0.72      1.00      0.83      1394\n",
      "         avg       0.00      0.00      0.00       403\n",
      "         low       0.00      0.00      0.00       152\n",
      "\n",
      "    accuracy                           0.72      1949\n",
      "   macro avg       0.24      0.33      0.28      1949\n",
      "weighted avg       0.51      0.72      0.60      1949\n",
      "\n",
      "avg    1949\n",
      "dtype: int64\n"
     ]
    }
   ],
   "source": [
    "#SVG with SGD\n",
    "sgd = Pipeline([('vect', CountVectorizer()),\n",
    "                ('tfidf', TfidfTransformer()),\n",
    "                ('clf', SGDClassifier(loss='log', penalty='l2',alpha=.001, random_state=13, max_iter=1000)),\n",
    "               ])\n",
    "sgd.fit(X_train, y_train)\n",
    "\n",
    "y_pred = sgd.predict(X_test)\n",
    "\n",
    "print('accuracy %s' % accuracy_score(y_pred, y_test))\n",
    "print(classification_report(y_test, y_pred,target_names=categories))\n",
    "print(pd.Series(y_pred).value_counts())"
   ]
  },
  {
   "cell_type": "code",
   "execution_count": 110,
   "metadata": {},
   "outputs": [
    {
     "data": {
      "text/plain": [
       "array([[   0,  152,    0],\n",
       "       [   0, 1394,    0],\n",
       "       [   0,  403,    0]])"
      ]
     },
     "execution_count": 110,
     "metadata": {},
     "output_type": "execute_result"
    }
   ],
   "source": [
    "confusion_matrix(y_test, y_pred, labels=categories)"
   ]
  },
  {
   "cell_type": "markdown",
   "metadata": {},
   "source": [
    "We can see that the SVD and Naive Bayes models both simply classified everything as an average rating. The Logistic model performed better but still not great. It seems that using plot alone to differentiate the rating is not particularly helpful. Next we will look at a simple neural net model for classification into categories.\n",
    "\n",
    "\n"
   ]
  },
  {
   "cell_type": "code",
   "execution_count": null,
   "metadata": {},
   "outputs": [],
   "source": []
  },
  {
   "cell_type": "code",
   "execution_count": 111,
   "metadata": {},
   "outputs": [
    {
     "data": {
      "text/html": [
       "<div>\n",
       "<style scoped>\n",
       "    .dataframe tbody tr th:only-of-type {\n",
       "        vertical-align: middle;\n",
       "    }\n",
       "\n",
       "    .dataframe tbody tr th {\n",
       "        vertical-align: top;\n",
       "    }\n",
       "\n",
       "    .dataframe thead th {\n",
       "        text-align: right;\n",
       "    }\n",
       "</style>\n",
       "<table border=\"1\" class=\"dataframe\">\n",
       "  <thead>\n",
       "    <tr style=\"text-align: right;\">\n",
       "      <th></th>\n",
       "      <th>movieId</th>\n",
       "      <th>title</th>\n",
       "      <th>plot</th>\n",
       "      <th>userId</th>\n",
       "      <th>rating</th>\n",
       "    </tr>\n",
       "  </thead>\n",
       "  <tbody>\n",
       "    <tr>\n",
       "      <td>0</td>\n",
       "      <td>1</td>\n",
       "      <td>Toy Story (1995)</td>\n",
       "      <td>lead woody andys toy live happily room andys b...</td>\n",
       "      <td>1</td>\n",
       "      <td>4.0</td>\n",
       "    </tr>\n",
       "    <tr>\n",
       "      <td>1</td>\n",
       "      <td>1</td>\n",
       "      <td>Toy Story (1995)</td>\n",
       "      <td>lead woody andys toy live happily room andys b...</td>\n",
       "      <td>5</td>\n",
       "      <td>4.0</td>\n",
       "    </tr>\n",
       "    <tr>\n",
       "      <td>2</td>\n",
       "      <td>1</td>\n",
       "      <td>Toy Story (1995)</td>\n",
       "      <td>lead woody andys toy live happily room andys b...</td>\n",
       "      <td>7</td>\n",
       "      <td>4.5</td>\n",
       "    </tr>\n",
       "    <tr>\n",
       "      <td>3</td>\n",
       "      <td>1</td>\n",
       "      <td>Toy Story (1995)</td>\n",
       "      <td>lead woody andys toy live happily room andys b...</td>\n",
       "      <td>15</td>\n",
       "      <td>2.5</td>\n",
       "    </tr>\n",
       "    <tr>\n",
       "      <td>4</td>\n",
       "      <td>1</td>\n",
       "      <td>Toy Story (1995)</td>\n",
       "      <td>lead woody andys toy live happily room andys b...</td>\n",
       "      <td>17</td>\n",
       "      <td>4.5</td>\n",
       "    </tr>\n",
       "  </tbody>\n",
       "</table>\n",
       "</div>"
      ],
      "text/plain": [
       "   movieId             title  \\\n",
       "0        1  Toy Story (1995)   \n",
       "1        1  Toy Story (1995)   \n",
       "2        1  Toy Story (1995)   \n",
       "3        1  Toy Story (1995)   \n",
       "4        1  Toy Story (1995)   \n",
       "\n",
       "                                                plot  userId  rating  \n",
       "0  lead woody andys toy live happily room andys b...       1     4.0  \n",
       "1  lead woody andys toy live happily room andys b...       5     4.0  \n",
       "2  lead woody andys toy live happily room andys b...       7     4.5  \n",
       "3  lead woody andys toy live happily room andys b...      15     2.5  \n",
       "4  lead woody andys toy live happily room andys b...      17     4.5  "
      ]
     },
     "execution_count": 111,
     "metadata": {},
     "output_type": "execute_result"
    }
   ],
   "source": [
    "nn_df = nlp_df.merge(ratings_df)\n",
    "nn_df.drop(columns=['imdbId','tmdbId','genres'],inplace=True)\n",
    "nn_df.head()"
   ]
  },
  {
   "cell_type": "code",
   "execution_count": 112,
   "metadata": {},
   "outputs": [
    {
     "name": "stdout",
     "output_type": "stream",
     "text": [
      "sequences type: <class 'list'>\n",
      "one_hot_results type: <class 'numpy.ndarray'>\n",
      "Found 25574 unique tokens.\n",
      "Dimensions of our coded results: (9742, 20000)\n"
     ]
    }
   ],
   "source": [
    "\n",
    "# Raw text complaints\n",
    "plot = df['plot'] \n",
    "\n",
    "# Initialize a tokenizer \n",
    "tokenizer = Tokenizer(num_words=20000) \n",
    "\n",
    "# Fit it to the complaints\n",
    "tokenizer.fit_on_texts(plot) \n",
    "\n",
    "# Generate sequences\n",
    "sequences = tokenizer.texts_to_sequences(plot) \n",
    "print('sequences type:', type(sequences))\n",
    "\n",
    "# Similar to sequences, but returns a numpy array\n",
    "one_hot_results= tokenizer.texts_to_matrix(plot, mode='binary') \n",
    "print('one_hot_results type:', type(one_hot_results))\n",
    "\n",
    "# Useful if we wish to decode (more explanation below)\n",
    "word_index = tokenizer.word_index \n",
    "\n",
    "# Tokens are the number of unique words across the corpus\n",
    "print('Found %s unique tokens.' % len(word_index)) \n",
    "\n",
    "# Our coded data\n",
    "print('Dimensions of our coded results:', np.shape(one_hot_results)) "
   ]
  },
  {
   "cell_type": "code",
   "execution_count": 113,
   "metadata": {},
   "outputs": [],
   "source": [
    "reverse_index = dict([(value, key) for (key, value) in word_index.items()])"
   ]
  },
  {
   "cell_type": "code",
   "execution_count": 114,
   "metadata": {},
   "outputs": [
    {
     "name": "stdout",
     "output_type": "stream",
     "text": [
      "Original class labels:\n",
      "['avg', 'low', 'top']\n",
      "\n",
      "\n",
      "New rating labels:\n",
      "[0 0 0 ... 0 0 0]\n",
      "\n",
      "\n",
      "One hot labels; 3 class columns, one for each of the categories.\n",
      "[[1. 0. 0.]\n",
      " [1. 0. 0.]\n",
      " [1. 0. 0.]\n",
      " ...\n",
      " [1. 0. 0.]\n",
      " [1. 0. 0.]\n",
      " [1. 0. 0.]]\n",
      "\n",
      "\n",
      "One hot labels shape:\n",
      "(9742, 3)\n"
     ]
    }
   ],
   "source": [
    "rating = df['category']\n",
    "\n",
    "# Initialize\n",
    "le = preprocessing.LabelEncoder() \n",
    "le.fit(rating)\n",
    "print('Original class labels:')\n",
    "print(list(le.classes_))\n",
    "print('\\n')\n",
    "rating_cat = le.transform(rating)  \n",
    "\n",
    "# If you wish to retrieve the original descriptive labels post production\n",
    "# list(le.inverse_transform([0, 1, 3, 3, 0, 6, 4])) \n",
    "\n",
    "print('New rating labels:')\n",
    "print(rating_cat)\n",
    "print('\\n')\n",
    "\n",
    "# Each row will be all zeros except for the category for that observation \n",
    "print('One hot labels; 3 class columns, one for each of the categories.') \n",
    "rating_onehot = to_categorical(rating_cat)\n",
    "print(rating_onehot)\n",
    "print('\\n')\n",
    "\n",
    "print('One hot labels shape:')\n",
    "print(np.shape(rating_onehot))"
   ]
  },
  {
   "cell_type": "code",
   "execution_count": 115,
   "metadata": {},
   "outputs": [
    {
     "name": "stdout",
     "output_type": "stream",
     "text": [
      "Test label shape: (1500, 3)\n",
      "Train label shape: (8242, 3)\n",
      "Test shape: (1500, 20000)\n",
      "Train shape: (8242, 20000)\n"
     ]
    }
   ],
   "source": [
    "random.seed(13)\n",
    "test_index = random.sample(range(1,9742), 1500)\n",
    "\n",
    "test = one_hot_results[test_index]\n",
    "train = np.delete(one_hot_results, test_index, 0)\n",
    "\n",
    "label_test = rating_onehot[test_index]\n",
    "label_train = np.delete(rating_onehot, test_index, 0)\n",
    "\n",
    "print('Test label shape:', np.shape(label_test))\n",
    "print('Train label shape:', np.shape(label_train))\n",
    "print('Test shape:', np.shape(test))\n",
    "print('Train shape:', np.shape(train))"
   ]
  },
  {
   "cell_type": "code",
   "execution_count": 116,
   "metadata": {},
   "outputs": [],
   "source": [
    "# Initialize a sequential model\n",
    "model = models.Sequential()\n",
    "\n",
    "# Two layers with relu activation\n",
    "model.add(layers.Dense(50, activation='relu', input_shape=(20000,)))\n",
    "model.add(layers.Dense(25, activation='relu'))\n",
    "\n",
    "# One layer with softmax activation \n",
    "model.add(layers.Dense(3, activation='softmax'))\n",
    "# Compile the model\n",
    "model.compile(optimizer='SGD',\n",
    "              loss='categorical_crossentropy',\n",
    "              metrics=['accuracy'])"
   ]
  },
  {
   "cell_type": "code",
   "execution_count": 117,
   "metadata": {},
   "outputs": [
    {
     "name": "stdout",
     "output_type": "stream",
     "text": [
      "Epoch 1/20\n",
      "8242/8242 [==============================] - 1s 160us/step - loss: 1.0170 - accuracy: 0.6902\n",
      "Epoch 2/20\n",
      "8242/8242 [==============================] - 1s 135us/step - loss: 0.9067 - accuracy: 0.7236\n",
      "Epoch 3/20\n",
      "8242/8242 [==============================] - 1s 133us/step - loss: 0.8341 - accuracy: 0.7236\n",
      "Epoch 4/20\n",
      "8242/8242 [==============================] - 1s 155us/step - loss: 0.7916 - accuracy: 0.7236\n",
      "Epoch 5/20\n",
      "8242/8242 [==============================] - 1s 127us/step - loss: 0.7700 - accuracy: 0.7236\n",
      "Epoch 6/20\n",
      "8242/8242 [==============================] - 1s 120us/step - loss: 0.7592 - accuracy: 0.7236\n",
      "Epoch 7/20\n",
      "8242/8242 [==============================] - 1s 119us/step - loss: 0.7537 - accuracy: 0.7236\n",
      "Epoch 8/20\n",
      "8242/8242 [==============================] - 1s 119us/step - loss: 0.7508 - accuracy: 0.7236\n",
      "Epoch 9/20\n",
      "8242/8242 [==============================] - 1s 119us/step - loss: 0.7489 - accuracy: 0.7236\n",
      "Epoch 10/20\n",
      "8242/8242 [==============================] - 1s 121us/step - loss: 0.7477 - accuracy: 0.7236\n",
      "Epoch 11/20\n",
      "8242/8242 [==============================] - 1s 127us/step - loss: 0.7467 - accuracy: 0.7236\n",
      "Epoch 12/20\n",
      "8242/8242 [==============================] - 1s 124us/step - loss: 0.7459 - accuracy: 0.7236\n",
      "Epoch 13/20\n",
      "8242/8242 [==============================] - 1s 122us/step - loss: 0.7451 - accuracy: 0.7236\n",
      "Epoch 14/20\n",
      "8242/8242 [==============================] - 1s 121us/step - loss: 0.7445 - accuracy: 0.7236\n",
      "Epoch 15/20\n",
      "8242/8242 [==============================] - 1s 119us/step - loss: 0.7438 - accuracy: 0.7236\n",
      "Epoch 16/20\n",
      "8242/8242 [==============================] - 1s 120us/step - loss: 0.7431 - accuracy: 0.7236\n",
      "Epoch 17/20\n",
      "8242/8242 [==============================] - 1s 122us/step - loss: 0.7425 - accuracy: 0.7236\n",
      "Epoch 18/20\n",
      "8242/8242 [==============================] - 1s 121us/step - loss: 0.7418 - accuracy: 0.7236\n",
      "Epoch 19/20\n",
      "8242/8242 [==============================] - 1s 121us/step - loss: 0.7412 - accuracy: 0.7236\n",
      "Epoch 20/20\n",
      "8242/8242 [==============================] - 1s 126us/step - loss: 0.7405 - accuracy: 0.7236\n"
     ]
    }
   ],
   "source": [
    "# Train the model \n",
    "history = model.fit(train,\n",
    "                    label_train,\n",
    "                    epochs=20,\n",
    "                    batch_size=256)"
   ]
  },
  {
   "cell_type": "code",
   "execution_count": 118,
   "metadata": {},
   "outputs": [
    {
     "data": {
      "image/png": "[encoded data removed]",
      "text/plain": [
       "<Figure size 432x288 with 1 Axes>"
      ]
     },
     "metadata": {},
     "output_type": "display_data"
    }
   ],
   "source": [
    "history_dict = history.history\n",
    "loss_values = history_dict['loss']\n",
    "\n",
    "epochs = range(1, len(loss_values) + 1)\n",
    "plt.plot(epochs, loss_values, 'g', label='Training loss')\n",
    "\n",
    "plt.title('Training loss')\n",
    "plt.xlabel('Epochs')\n",
    "plt.ylabel('Loss')\n",
    "plt.legend()\n",
    "plt.show()"
   ]
  },
  {
   "cell_type": "code",
   "execution_count": 119,
   "metadata": {},
   "outputs": [
    {
     "data": {
      "image/png": "[encoded data removed]",
      "text/plain": [
       "<Figure size 432x288 with 1 Axes>"
      ]
     },
     "metadata": {},
     "output_type": "display_data"
    }
   ],
   "source": [
    "# Plot the training accuracy vs the number of epochs\n",
    "\n",
    "acc_values = history_dict['accuracy'] \n",
    "\n",
    "plt.plot(epochs, acc_values, 'r', label='Training acc')\n",
    "plt.title('Training accuracy')\n",
    "plt.xlabel('Epochs')\n",
    "plt.ylabel('Loss')\n",
    "plt.legend()\n",
    "plt.show()"
   ]
  },
  {
   "cell_type": "code",
   "execution_count": 120,
   "metadata": {},
   "outputs": [
    {
     "name": "stdout",
     "output_type": "stream",
     "text": [
      "8242/8242 [==============================] - 1s 101us/step\n"
     ]
    },
    {
     "data": {
      "text/plain": [
       "[0.7399423698781908, 0.7236107587814331]"
      ]
     },
     "execution_count": 120,
     "metadata": {},
     "output_type": "execute_result"
    }
   ],
   "source": [
    "# Output (probability) predictions for the test set \n",
    "y_pred = model.predict(test) \n",
    "y_labels = model.predict_classes(test)\n",
    "# Print the loss and accuracy for the training set \n",
    "results_train = model.evaluate(train, label_train)\n",
    "results_train"
   ]
  },
  {
   "cell_type": "code",
   "execution_count": 121,
   "metadata": {},
   "outputs": [
    {
     "name": "stdout",
     "output_type": "stream",
     "text": [
      "1500/1500 [==============================] - 0s 73us/step\n"
     ]
    },
    {
     "data": {
      "text/plain": [
       "[0.7723511670430502, 0.7080000042915344]"
      ]
     },
     "execution_count": 121,
     "metadata": {},
     "output_type": "execute_result"
    }
   ],
   "source": [
    "# Print the loss and accuracy for the test set \n",
    "results_test = model.evaluate(test, label_test)\n",
    "results_test"
   ]
  },
  {
   "cell_type": "code",
   "execution_count": 122,
   "metadata": {},
   "outputs": [
    {
     "data": {
      "text/plain": [
       "array([[0.7080575 , 0.20859694, 0.08334554],\n",
       "       [0.7146528 , 0.21028475, 0.07506247],\n",
       "       [0.72560126, 0.20580502, 0.06859373],\n",
       "       ...,\n",
       "       [0.7498055 , 0.18213047, 0.06806403],\n",
       "       [0.7075056 , 0.21704152, 0.07545283],\n",
       "       [0.7202962 , 0.19683605, 0.08286776]], dtype=float32)"
      ]
     },
     "execution_count": 122,
     "metadata": {},
     "output_type": "execute_result"
    }
   ],
   "source": [
    "y_pred"
   ]
  },
  {
   "cell_type": "code",
   "execution_count": 123,
   "metadata": {},
   "outputs": [
    {
     "data": {
      "text/plain": [
       "array([0, 0, 0, ..., 0, 0, 0])"
      ]
     },
     "execution_count": 123,
     "metadata": {},
     "output_type": "execute_result"
    }
   ],
   "source": [
    "y_labels"
   ]
  },
  {
   "cell_type": "markdown",
   "metadata": {},
   "source": [
    "We can see that this neural net model classified every film into the average category which is the same output as the Naive Bayes and SDG. I think we can definitely say that the plot is not a useful feature for predicting movie rating. We can still use plot as a similarity but it is not useful for prediciting the movie rating."
   ]
  },
  {
   "cell_type": "markdown",
   "metadata": {},
   "source": [
    "### Content-Based recommendations based on plot similiarity using TF-IDF"
   ]
  },
  {
   "cell_type": "code",
   "execution_count": 124,
   "metadata": {},
   "outputs": [],
   "source": [
    "#Create a tf-idf vectorizer using unigrams and bi-grams\n",
    "#As we have already cleaned the data we don't need stop works here\n",
    "tf = TfidfVectorizer(analyzer='word', ngram_range=(1, 2))\n",
    "tfidf_matrix = tf.fit_transform(df['plot'])"
   ]
  },
  {
   "cell_type": "code",
   "execution_count": 125,
   "metadata": {},
   "outputs": [],
   "source": [
    "#We get the cosine similarity matrix using the sklearn linear_kernal module\n",
    "cosine_sim = cosine_similarity(tfidf_matrix, tfidf_matrix)\n",
    "content_matrix = cosine_sim"
   ]
  },
  {
   "cell_type": "code",
   "execution_count": 126,
   "metadata": {},
   "outputs": [
    {
     "data": {
      "text/plain": [
       "(9742, 243934)"
      ]
     },
     "execution_count": 126,
     "metadata": {},
     "output_type": "execute_result"
    }
   ],
   "source": [
    "tfidf_matrix.shape"
   ]
  },
  {
   "cell_type": "code",
   "execution_count": 127,
   "metadata": {},
   "outputs": [
    {
     "data": {
      "text/plain": [
       "(9742, 9742)"
      ]
     },
     "execution_count": 127,
     "metadata": {},
     "output_type": "execute_result"
    }
   ],
   "source": [
    "cosine_sim.shape"
   ]
  },
  {
   "cell_type": "code",
   "execution_count": 128,
   "metadata": {},
   "outputs": [
    {
     "data": {
      "text/html": [
       "<div>\n",
       "<style scoped>\n",
       "    .dataframe tbody tr th:only-of-type {\n",
       "        vertical-align: middle;\n",
       "    }\n",
       "\n",
       "    .dataframe tbody tr th {\n",
       "        vertical-align: top;\n",
       "    }\n",
       "\n",
       "    .dataframe thead th {\n",
       "        text-align: right;\n",
       "    }\n",
       "</style>\n",
       "<table border=\"1\" class=\"dataframe\">\n",
       "  <thead>\n",
       "    <tr style=\"text-align: right;\">\n",
       "      <th></th>\n",
       "      <th>movieId</th>\n",
       "      <th>title</th>\n",
       "      <th>genres</th>\n",
       "      <th>imdbId</th>\n",
       "      <th>tmdbId</th>\n",
       "      <th>plot</th>\n",
       "      <th>rating</th>\n",
       "      <th>category</th>\n",
       "    </tr>\n",
       "  </thead>\n",
       "  <tbody>\n",
       "    <tr>\n",
       "      <td>0</td>\n",
       "      <td>1</td>\n",
       "      <td>Toy Story (1995)</td>\n",
       "      <td>Adventure|Animation|Children|Comedy|Fantasy</td>\n",
       "      <td>114709</td>\n",
       "      <td>862.0</td>\n",
       "      <td>lead woody andys toy live happily room andys b...</td>\n",
       "      <td>3.920930</td>\n",
       "      <td>avg</td>\n",
       "    </tr>\n",
       "    <tr>\n",
       "      <td>1</td>\n",
       "      <td>2</td>\n",
       "      <td>Jumanji (1995)</td>\n",
       "      <td>Adventure|Children|Fantasy</td>\n",
       "      <td>113497</td>\n",
       "      <td>8844.0</td>\n",
       "      <td>siblings judy peter discover enchant board gam...</td>\n",
       "      <td>3.431818</td>\n",
       "      <td>avg</td>\n",
       "    </tr>\n",
       "    <tr>\n",
       "      <td>2</td>\n",
       "      <td>3</td>\n",
       "      <td>Grumpier Old Men (1995)</td>\n",
       "      <td>Comedy|Romance</td>\n",
       "      <td>113228</td>\n",
       "      <td>15602.0</td>\n",
       "      <td>family wed reignite ancient feud next door nei...</td>\n",
       "      <td>3.259615</td>\n",
       "      <td>avg</td>\n",
       "    </tr>\n",
       "    <tr>\n",
       "      <td>3</td>\n",
       "      <td>4</td>\n",
       "      <td>Waiting to Exhale (1995)</td>\n",
       "      <td>Comedy|Drama|Romance</td>\n",
       "      <td>114885</td>\n",
       "      <td>31357.0</td>\n",
       "      <td>cheat mistreat step women hold breath wait elu...</td>\n",
       "      <td>2.357143</td>\n",
       "      <td>low</td>\n",
       "    </tr>\n",
       "    <tr>\n",
       "      <td>4</td>\n",
       "      <td>5</td>\n",
       "      <td>Father of the Bride Part II (1995)</td>\n",
       "      <td>Comedy</td>\n",
       "      <td>113041</td>\n",
       "      <td>11862.0</td>\n",
       "      <td>george bank recover daughters wed receive news...</td>\n",
       "      <td>3.071429</td>\n",
       "      <td>avg</td>\n",
       "    </tr>\n",
       "  </tbody>\n",
       "</table>\n",
       "</div>"
      ],
      "text/plain": [
       "   movieId                               title  \\\n",
       "0        1                    Toy Story (1995)   \n",
       "1        2                      Jumanji (1995)   \n",
       "2        3             Grumpier Old Men (1995)   \n",
       "3        4            Waiting to Exhale (1995)   \n",
       "4        5  Father of the Bride Part II (1995)   \n",
       "\n",
       "                                        genres  imdbId   tmdbId  \\\n",
       "0  Adventure|Animation|Children|Comedy|Fantasy  114709    862.0   \n",
       "1                   Adventure|Children|Fantasy  113497   8844.0   \n",
       "2                               Comedy|Romance  113228  15602.0   \n",
       "3                         Comedy|Drama|Romance  114885  31357.0   \n",
       "4                                       Comedy  113041  11862.0   \n",
       "\n",
       "                                                plot    rating category  \n",
       "0  lead woody andys toy live happily room andys b...  3.920930      avg  \n",
       "1  siblings judy peter discover enchant board gam...  3.431818      avg  \n",
       "2  family wed reignite ancient feud next door nei...  3.259615      avg  \n",
       "3  cheat mistreat step women hold breath wait elu...  2.357143      low  \n",
       "4  george bank recover daughters wed receive news...  3.071429      avg  "
      ]
     },
     "execution_count": 128,
     "metadata": {},
     "output_type": "execute_result"
    }
   ],
   "source": [
    "df.head()"
   ]
  },
  {
   "cell_type": "code",
   "execution_count": 129,
   "metadata": {},
   "outputs": [],
   "source": [
    "#using just the items we care about here\n",
    "titles = df[['title','genres', 'plot', 'rating']]\n",
    "indices = pd.Series(df.index, index=df['title'])"
   ]
  },
  {
   "cell_type": "markdown",
   "metadata": {},
   "source": [
    "### Content Rec"
   ]
  },
  {
   "cell_type": "code",
   "execution_count": 130,
   "metadata": {},
   "outputs": [],
   "source": [
    "def content_recommendations(title,n):\n",
    "    '''This function takes in a title and a number of recs and outputs\n",
    "    the number of closests films based on plot similarity'''\n",
    "    idx = indices[title]\n",
    "    sim_scores = list(enumerate(cosine_sim[idx]))\n",
    "    sim_scores = sorted(sim_scores, key=lambda x: x[1], reverse=True)\n",
    "    sim_scores = sim_scores[1:n+1]\n",
    "    movies = [i[0] for i in sim_scores]\n",
    "    return titles.iloc[movies].sort_values('rating', ascending=False)"
   ]
  },
  {
   "cell_type": "code",
   "execution_count": 131,
   "metadata": {},
   "outputs": [
    {
     "data": {
      "text/html": [
       "<div>\n",
       "<style scoped>\n",
       "    .dataframe tbody tr th:only-of-type {\n",
       "        vertical-align: middle;\n",
       "    }\n",
       "\n",
       "    .dataframe tbody tr th {\n",
       "        vertical-align: top;\n",
       "    }\n",
       "\n",
       "    .dataframe thead th {\n",
       "        text-align: right;\n",
       "    }\n",
       "</style>\n",
       "<table border=\"1\" class=\"dataframe\">\n",
       "  <thead>\n",
       "    <tr style=\"text-align: right;\">\n",
       "      <th></th>\n",
       "      <th>title</th>\n",
       "      <th>genres</th>\n",
       "      <th>plot</th>\n",
       "      <th>rating</th>\n",
       "    </tr>\n",
       "  </thead>\n",
       "  <tbody>\n",
       "    <tr>\n",
       "      <td>5604</td>\n",
       "      <td>Nirvana (1997)</td>\n",
       "      <td>Action|Sci-Fi</td>\n",
       "      <td>jimi computer game designer find latest produc...</td>\n",
       "      <td>4.500000</td>\n",
       "    </tr>\n",
       "    <tr>\n",
       "      <td>5133</td>\n",
       "      <td>Night of the Living Dead (1990)</td>\n",
       "      <td>Horror</td>\n",
       "      <td>remake original classic film group people trap...</td>\n",
       "      <td>4.000000</td>\n",
       "    </tr>\n",
       "    <tr>\n",
       "      <td>1961</td>\n",
       "      <td>eXistenZ (1999)</td>\n",
       "      <td>Action|Sci-Fi|Thriller</td>\n",
       "      <td>game designer run assassins must play latest v...</td>\n",
       "      <td>3.863636</td>\n",
       "    </tr>\n",
       "    <tr>\n",
       "      <td>4247</td>\n",
       "      <td>Poolhall Junkies (2002)</td>\n",
       "      <td>Comedy|Drama|Thriller</td>\n",
       "      <td>retire pool hustler force pick stick brother s...</td>\n",
       "      <td>3.833333</td>\n",
       "    </tr>\n",
       "    <tr>\n",
       "      <td>9145</td>\n",
       "      <td>Doctor Who: Last Christmas (2014)</td>\n",
       "      <td>Adventure|Drama|Fantasy|Sci-Fi</td>\n",
       "      <td>doctor clara face last christmas trap arctic b...</td>\n",
       "      <td>3.750000</td>\n",
       "    </tr>\n",
       "    <tr>\n",
       "      <td>8022</td>\n",
       "      <td>Wreck-It Ralph (2012)</td>\n",
       "      <td>Animation|Comedy</td>\n",
       "      <td>wreck ralph foot tall pound villain arcade vid...</td>\n",
       "      <td>3.750000</td>\n",
       "    </tr>\n",
       "    <tr>\n",
       "      <td>1550</td>\n",
       "      <td>Peter Pan (1953)</td>\n",
       "      <td>Animation|Children|Fantasy|Musical</td>\n",
       "      <td>leave safety nursery behind wendy michael john...</td>\n",
       "      <td>3.573171</td>\n",
       "    </tr>\n",
       "    <tr>\n",
       "      <td>5259</td>\n",
       "      <td>Last Starfighter, The (1984)</td>\n",
       "      <td>Action|Adventure|Comedy|Sci-Fi</td>\n",
       "      <td>video game expert alex rogan find transport an...</td>\n",
       "      <td>3.571429</td>\n",
       "    </tr>\n",
       "    <tr>\n",
       "      <td>7132</td>\n",
       "      <td>Gamer (2009)</td>\n",
       "      <td>Action|Sci-Fi|Thriller</td>\n",
       "      <td>mind control technology take society storm mul...</td>\n",
       "      <td>3.428571</td>\n",
       "    </tr>\n",
       "    <tr>\n",
       "      <td>8031</td>\n",
       "      <td>Indie Game: The Movie (2012)</td>\n",
       "      <td>Documentary</td>\n",
       "      <td>follow dramatic journey video game developers ...</td>\n",
       "      <td>3.000000</td>\n",
       "    </tr>\n",
       "    <tr>\n",
       "      <td>9617</td>\n",
       "      <td>Sword Art Online The Movie: Ordinal Scale (2017)</td>\n",
       "      <td>Action|Adventure|Animation|Fantasy|Sci-Fi</td>\n",
       "      <td>four years infamous sword art online incident ...</td>\n",
       "      <td>3.000000</td>\n",
       "    </tr>\n",
       "    <tr>\n",
       "      <td>8905</td>\n",
       "      <td>Pixels (2015)</td>\n",
       "      <td>Action|Comedy|Sci-Fi</td>\n",
       "      <td>video game experts recruit military fight era ...</td>\n",
       "      <td>2.583333</td>\n",
       "    </tr>\n",
       "    <tr>\n",
       "      <td>8663</td>\n",
       "      <td>The Hungover Games (2014)</td>\n",
       "      <td>Comedy</td>\n",
       "      <td>movie hungover guy get lose death match game y...</td>\n",
       "      <td>2.500000</td>\n",
       "    </tr>\n",
       "    <tr>\n",
       "      <td>6174</td>\n",
       "      <td>Stay Alive (2006)</td>\n",
       "      <td>Horror|Sci-Fi|Thriller</td>\n",
       "      <td>mysterious brutal death old friend group teena...</td>\n",
       "      <td>1.333333</td>\n",
       "    </tr>\n",
       "    <tr>\n",
       "      <td>3821</td>\n",
       "      <td>Giant Spider Invasion, The (1975)</td>\n",
       "      <td>Horror|Sci-Fi</td>\n",
       "      <td>black hole hit north wisconsin open door dimen...</td>\n",
       "      <td>0.500000</td>\n",
       "    </tr>\n",
       "  </tbody>\n",
       "</table>\n",
       "</div>"
      ],
      "text/plain": [
       "                                                 title  \\\n",
       "5604                                    Nirvana (1997)   \n",
       "5133                   Night of the Living Dead (1990)   \n",
       "1961                                   eXistenZ (1999)   \n",
       "4247                           Poolhall Junkies (2002)   \n",
       "9145                 Doctor Who: Last Christmas (2014)   \n",
       "8022                             Wreck-It Ralph (2012)   \n",
       "1550                                  Peter Pan (1953)   \n",
       "5259                      Last Starfighter, The (1984)   \n",
       "7132                                      Gamer (2009)   \n",
       "8031                      Indie Game: The Movie (2012)   \n",
       "9617  Sword Art Online The Movie: Ordinal Scale (2017)   \n",
       "8905                                     Pixels (2015)   \n",
       "8663                         The Hungover Games (2014)   \n",
       "6174                                 Stay Alive (2006)   \n",
       "3821                 Giant Spider Invasion, The (1975)   \n",
       "\n",
       "                                         genres  \\\n",
       "5604                              Action|Sci-Fi   \n",
       "5133                                     Horror   \n",
       "1961                     Action|Sci-Fi|Thriller   \n",
       "4247                      Comedy|Drama|Thriller   \n",
       "9145             Adventure|Drama|Fantasy|Sci-Fi   \n",
       "8022                           Animation|Comedy   \n",
       "1550         Animation|Children|Fantasy|Musical   \n",
       "5259             Action|Adventure|Comedy|Sci-Fi   \n",
       "7132                     Action|Sci-Fi|Thriller   \n",
       "8031                                Documentary   \n",
       "9617  Action|Adventure|Animation|Fantasy|Sci-Fi   \n",
       "8905                       Action|Comedy|Sci-Fi   \n",
       "8663                                     Comedy   \n",
       "6174                     Horror|Sci-Fi|Thriller   \n",
       "3821                              Horror|Sci-Fi   \n",
       "\n",
       "                                                   plot    rating  \n",
       "5604  jimi computer game designer find latest produc...  4.500000  \n",
       "5133  remake original classic film group people trap...  4.000000  \n",
       "1961  game designer run assassins must play latest v...  3.863636  \n",
       "4247  retire pool hustler force pick stick brother s...  3.833333  \n",
       "9145  doctor clara face last christmas trap arctic b...  3.750000  \n",
       "8022  wreck ralph foot tall pound villain arcade vid...  3.750000  \n",
       "1550  leave safety nursery behind wendy michael john...  3.573171  \n",
       "5259  video game expert alex rogan find transport an...  3.571429  \n",
       "7132  mind control technology take society storm mul...  3.428571  \n",
       "8031  follow dramatic journey video game developers ...  3.000000  \n",
       "9617  four years infamous sword art online incident ...  3.000000  \n",
       "8905  video game experts recruit military fight era ...  2.583333  \n",
       "8663  movie hungover guy get lose death match game y...  2.500000  \n",
       "6174  mysterious brutal death old friend group teena...  1.333333  \n",
       "3821  black hole hit north wisconsin open door dimen...  0.500000  "
      ]
     },
     "execution_count": 131,
     "metadata": {},
     "output_type": "execute_result"
    }
   ],
   "source": [
    "content_recommendations('Jumanji (1995)',15)"
   ]
  },
  {
   "cell_type": "code",
   "execution_count": 192,
   "metadata": {},
   "outputs": [
    {
     "ename": "AttributeError",
     "evalue": "'numpy.ndarray' object has no attribute 'to_dict'",
     "output_type": "error",
     "traceback": [
      "\u001b[0;31m---------------------------------------------------------------------------\u001b[0m",
      "\u001b[0;31mAttributeError\u001b[0m                            Traceback (most recent call last)",
      "\u001b[0;32m<ipython-input-192-7a7f6003451f>\u001b[0m in \u001b[0;36m<module>\u001b[0;34m\u001b[0m\n\u001b[0;32m----> 1\u001b[0;31m \u001b[0mtest_dict\u001b[0m \u001b[0;34m=\u001b[0m \u001b[0mcosine_sim\u001b[0m\u001b[0;34m.\u001b[0m\u001b[0mto_dict\u001b[0m\u001b[0;34m(\u001b[0m\u001b[0;34m)\u001b[0m\u001b[0;34m\u001b[0m\u001b[0;34m\u001b[0m\u001b[0m\n\u001b[0m",
      "\u001b[0;31mAttributeError\u001b[0m: 'numpy.ndarray' object has no attribute 'to_dict'"
     ]
    }
   ],
   "source": [
    "test_dict = cosine_sim.to_dict()"
   ]
  },
  {
   "cell_type": "markdown",
   "metadata": {},
   "source": [
    "## Hybrid Models"
   ]
  },
  {
   "cell_type": "markdown",
   "metadata": {},
   "source": [
    "We opted to build several Hybrid Models that combines Collaborative and Content-Based approach in order for us to address two main issues:\n",
    "1. Cold Start\n",
    "2. Sparsity\n",
    "\n",
    "Cold Start happens when there is new users or items so there is not enough data to make recommendations. Sparsity because the number of movies is extremely large and it is almost impossible for most users to review all of the movies. "
   ]
  },
  {
   "cell_type": "markdown",
   "metadata": {},
   "source": [
    "### Hybrid Model 1"
   ]
  },
  {
   "cell_type": "markdown",
   "metadata": {},
   "source": [
    "Our Hybrid Model 1 works as follows:\n",
    "- Our model will recommend 10 movies based on the plot of the movies\n",
    "- Then our best-performing collaborative-filtering model will predict the ratings of the 10 movies and sort them accordingly"
   ]
  },
  {
   "cell_type": "markdown",
   "metadata": {},
   "source": [
    "We need to inputs to get recommendations. First is his/her user id then a movie he/she really likes."
   ]
  },
  {
   "cell_type": "code",
   "execution_count": 132,
   "metadata": {},
   "outputs": [],
   "source": [
    "# rec_user_id = 150\n",
    "# rec_fave_movie = \"Gone with the Wind (1939)\""
   ]
  },
  {
   "cell_type": "code",
   "execution_count": 133,
   "metadata": {},
   "outputs": [],
   "source": [
    "def hybrid_rec(userid, favemovie):\n",
    "    rec_hybrid = content_recommendations(favemovie,10)\n",
    "    svd = SVD(n_factors=50, reg_all= 0.05)\n",
    "    trainset = data.build_full_trainset()\n",
    "    svd.fit(trainset)\n",
    "    \n",
    "    for index, row in rec_hybrid.iterrows():    \n",
    "        pred = svd.predict(userid, index)\n",
    "        rec_hybrid.at[index, 'score'] = pred.est\n",
    "    rec_hybrid = rec_hybrid.sort_values('score', ascending=False)\n",
    "    return rec_hybrid"
   ]
  },
  {
   "cell_type": "code",
   "execution_count": 134,
   "metadata": {},
   "outputs": [
    {
     "data": {
      "text/html": [
       "<div>\n",
       "<style scoped>\n",
       "    .dataframe tbody tr th:only-of-type {\n",
       "        vertical-align: middle;\n",
       "    }\n",
       "\n",
       "    .dataframe tbody tr th {\n",
       "        vertical-align: top;\n",
       "    }\n",
       "\n",
       "    .dataframe thead th {\n",
       "        text-align: right;\n",
       "    }\n",
       "</style>\n",
       "<table border=\"1\" class=\"dataframe\">\n",
       "  <thead>\n",
       "    <tr style=\"text-align: right;\">\n",
       "      <th></th>\n",
       "      <th>title</th>\n",
       "      <th>genres</th>\n",
       "      <th>plot</th>\n",
       "      <th>rating</th>\n",
       "      <th>score</th>\n",
       "    </tr>\n",
       "  </thead>\n",
       "  <tbody>\n",
       "    <tr>\n",
       "      <td>922</td>\n",
       "      <td>Godfather: Part II, The (1974)</td>\n",
       "      <td>Crime|Drama</td>\n",
       "      <td>continue saga corleone crime family young vito...</td>\n",
       "      <td>4.259690</td>\n",
       "      <td>4.215277</td>\n",
       "    </tr>\n",
       "    <tr>\n",
       "      <td>9541</td>\n",
       "      <td>The Godfather Trilogy: 1972-1990 (1992)</td>\n",
       "      <td>(no genres listed)</td>\n",
       "      <td>multigenerational saga rise fall corleone crim...</td>\n",
       "      <td>4.750000</td>\n",
       "      <td>3.579748</td>\n",
       "    </tr>\n",
       "    <tr>\n",
       "      <td>614</td>\n",
       "      <td>'Til There Was You (1997)</td>\n",
       "      <td>Drama|Romance</td>\n",
       "      <td>two strangers whose paths always cross finally...</td>\n",
       "      <td>4.000000</td>\n",
       "      <td>3.579748</td>\n",
       "    </tr>\n",
       "    <tr>\n",
       "      <td>2030</td>\n",
       "      <td>Summer of Sam (1999)</td>\n",
       "      <td>Drama</td>\n",
       "      <td>spike lees take son sam murder new york city s...</td>\n",
       "      <td>3.400000</td>\n",
       "      <td>3.579748</td>\n",
       "    </tr>\n",
       "    <tr>\n",
       "      <td>3292</td>\n",
       "      <td>Made (2001)</td>\n",
       "      <td>Comedy</td>\n",
       "      <td>two aspire boxers lifelong friends get involve...</td>\n",
       "      <td>2.666667</td>\n",
       "      <td>3.579748</td>\n",
       "    </tr>\n",
       "    <tr>\n",
       "      <td>8793</td>\n",
       "      <td>Run All Night (2015)</td>\n",
       "      <td>Action|Crime|Drama|Thriller</td>\n",
       "      <td>brooklyn mobster prolific hit man jimmy conlon...</td>\n",
       "      <td>2.166667</td>\n",
       "      <td>3.579748</td>\n",
       "    </tr>\n",
       "    <tr>\n",
       "      <td>4606</td>\n",
       "      <td>Mobsters (1991)</td>\n",
       "      <td>Crime|Drama</td>\n",
       "      <td>story group friends turn century new york earl...</td>\n",
       "      <td>2.000000</td>\n",
       "      <td>3.579748</td>\n",
       "    </tr>\n",
       "    <tr>\n",
       "      <td>3479</td>\n",
       "      <td>3 Ninjas (1992)</td>\n",
       "      <td>Action|Children|Comedy</td>\n",
       "      <td>year three brothers samuel jeffrey michael dou...</td>\n",
       "      <td>2.083333</td>\n",
       "      <td>3.547944</td>\n",
       "    </tr>\n",
       "    <tr>\n",
       "      <td>3980</td>\n",
       "      <td>8 Women (2002)</td>\n",
       "      <td>Comedy|Crime|Musical|Mystery</td>\n",
       "      <td>eight women gather celebrate christmas snowbou...</td>\n",
       "      <td>3.833333</td>\n",
       "      <td>3.514705</td>\n",
       "    </tr>\n",
       "    <tr>\n",
       "      <td>1498</td>\n",
       "      <td>Godfather: Part III, The (1990)</td>\n",
       "      <td>Crime|Drama|Mystery|Thriller</td>\n",
       "      <td>midst try legitimize business deal new york it...</td>\n",
       "      <td>3.355556</td>\n",
       "      <td>3.440467</td>\n",
       "    </tr>\n",
       "  </tbody>\n",
       "</table>\n",
       "</div>"
      ],
      "text/plain": [
       "                                        title                        genres  \\\n",
       "922            Godfather: Part II, The (1974)                   Crime|Drama   \n",
       "9541  The Godfather Trilogy: 1972-1990 (1992)            (no genres listed)   \n",
       "614                 'Til There Was You (1997)                 Drama|Romance   \n",
       "2030                     Summer of Sam (1999)                         Drama   \n",
       "3292                              Made (2001)                        Comedy   \n",
       "8793                     Run All Night (2015)   Action|Crime|Drama|Thriller   \n",
       "4606                          Mobsters (1991)                   Crime|Drama   \n",
       "3479                          3 Ninjas (1992)        Action|Children|Comedy   \n",
       "3980                           8 Women (2002)  Comedy|Crime|Musical|Mystery   \n",
       "1498          Godfather: Part III, The (1990)  Crime|Drama|Mystery|Thriller   \n",
       "\n",
       "                                                   plot    rating     score  \n",
       "922   continue saga corleone crime family young vito...  4.259690  4.215277  \n",
       "9541  multigenerational saga rise fall corleone crim...  4.750000  3.579748  \n",
       "614   two strangers whose paths always cross finally...  4.000000  3.579748  \n",
       "2030  spike lees take son sam murder new york city s...  3.400000  3.579748  \n",
       "3292  two aspire boxers lifelong friends get involve...  2.666667  3.579748  \n",
       "8793  brooklyn mobster prolific hit man jimmy conlon...  2.166667  3.579748  \n",
       "4606  story group friends turn century new york earl...  2.000000  3.579748  \n",
       "3479  year three brothers samuel jeffrey michael dou...  2.083333  3.547944  \n",
       "3980  eight women gather celebrate christmas snowbou...  3.833333  3.514705  \n",
       "1498  midst try legitimize business deal new york it...  3.355556  3.440467  "
      ]
     },
     "execution_count": 134,
     "metadata": {},
     "output_type": "execute_result"
    }
   ],
   "source": [
    "hybrid_rec(150, \"Godfather, The (1972)\")"
   ]
  },
  {
   "cell_type": "markdown",
   "metadata": {},
   "source": [
    "### Hybrid Model 2"
   ]
  },
  {
   "cell_type": "markdown",
   "metadata": {},
   "source": [
    "Our Hybrid Model 2 works as follows:\n",
    "\n",
    "- We have bucketed our movie list into four categories depending on its popularity \n",
    "- Popularity is calculated based on the number of reviews made on it\n",
    "- Then we will aggregate cosine similarity scores of our content-based model (based on movie plot) and the best-performing collaborative-filtering model\n",
    "- The aggregation of the similarity scores will depend on the popularity:\n",
    "    - If very popular, 15% collaborative-filtering + 85% content-based\n",
    "    - If popular, 25% collaborative-filtering + 75% content-based\n",
    "    - If moderate, 35% collaborative-filtering + 65% content-based\n",
    "    - If low, 50-50"
   ]
  },
  {
   "cell_type": "code",
   "execution_count": 135,
   "metadata": {},
   "outputs": [],
   "source": [
    "pop_df = pd.merge(ratings_df,movies_df, on='movieId', how='left')"
   ]
  },
  {
   "cell_type": "code",
   "execution_count": 136,
   "metadata": {},
   "outputs": [],
   "source": [
    "pop_df = pop_df.groupby('title', as_index=False).agg({'rating': ['mean','count']})\n",
    "pop_df.columns = pop_df.columns.droplevel(0)"
   ]
  },
  {
   "cell_type": "code",
   "execution_count": 137,
   "metadata": {},
   "outputs": [],
   "source": [
    "pop_df.columns = ['Movie', 'Mean', 'Count']\n",
    "pop_df = pop_df.sort_values('Count', ascending=False)"
   ]
  },
  {
   "cell_type": "code",
   "execution_count": 138,
   "metadata": {},
   "outputs": [
    {
     "data": {
      "text/html": [
       "<div>\n",
       "<style scoped>\n",
       "    .dataframe tbody tr th:only-of-type {\n",
       "        vertical-align: middle;\n",
       "    }\n",
       "\n",
       "    .dataframe tbody tr th {\n",
       "        vertical-align: top;\n",
       "    }\n",
       "\n",
       "    .dataframe thead th {\n",
       "        text-align: right;\n",
       "    }\n",
       "</style>\n",
       "<table border=\"1\" class=\"dataframe\">\n",
       "  <thead>\n",
       "    <tr style=\"text-align: right;\">\n",
       "      <th></th>\n",
       "      <th>Mean</th>\n",
       "      <th>Count</th>\n",
       "    </tr>\n",
       "  </thead>\n",
       "  <tbody>\n",
       "    <tr>\n",
       "      <td>count</td>\n",
       "      <td>9719.000000</td>\n",
       "      <td>9719.000000</td>\n",
       "    </tr>\n",
       "    <tr>\n",
       "      <td>mean</td>\n",
       "      <td>3.262388</td>\n",
       "      <td>10.375141</td>\n",
       "    </tr>\n",
       "    <tr>\n",
       "      <td>std</td>\n",
       "      <td>0.870004</td>\n",
       "      <td>22.406220</td>\n",
       "    </tr>\n",
       "    <tr>\n",
       "      <td>min</td>\n",
       "      <td>0.500000</td>\n",
       "      <td>1.000000</td>\n",
       "    </tr>\n",
       "    <tr>\n",
       "      <td>25%</td>\n",
       "      <td>2.800000</td>\n",
       "      <td>1.000000</td>\n",
       "    </tr>\n",
       "    <tr>\n",
       "      <td>50%</td>\n",
       "      <td>3.416667</td>\n",
       "      <td>3.000000</td>\n",
       "    </tr>\n",
       "    <tr>\n",
       "      <td>75%</td>\n",
       "      <td>3.910357</td>\n",
       "      <td>9.000000</td>\n",
       "    </tr>\n",
       "    <tr>\n",
       "      <td>max</td>\n",
       "      <td>5.000000</td>\n",
       "      <td>329.000000</td>\n",
       "    </tr>\n",
       "  </tbody>\n",
       "</table>\n",
       "</div>"
      ],
      "text/plain": [
       "              Mean        Count\n",
       "count  9719.000000  9719.000000\n",
       "mean      3.262388    10.375141\n",
       "std       0.870004    22.406220\n",
       "min       0.500000     1.000000\n",
       "25%       2.800000     1.000000\n",
       "50%       3.416667     3.000000\n",
       "75%       3.910357     9.000000\n",
       "max       5.000000   329.000000"
      ]
     },
     "execution_count": 138,
     "metadata": {},
     "output_type": "execute_result"
    }
   ],
   "source": [
    "pop_df.describe()"
   ]
  },
  {
   "cell_type": "code",
   "execution_count": 139,
   "metadata": {},
   "outputs": [],
   "source": [
    "for index, row in pop_df.iterrows():\n",
    "    if (row['Count'] >= 100):\n",
    "        pop_df.at[index, 'Popularity'] = 4\n",
    "    elif (row['Count'] >= 50):\n",
    "        pop_df.at[index, 'Popularity'] = 3\n",
    "    elif (row['Count'] >= 10):\n",
    "        pop_df.at[index, 'Popularity'] = 2\n",
    "    else:\n",
    "        pop_df.at[index, 'Popularity'] = 1"
   ]
  },
  {
   "cell_type": "code",
   "execution_count": 140,
   "metadata": {},
   "outputs": [
    {
     "data": {
      "text/html": [
       "<div>\n",
       "<style scoped>\n",
       "    .dataframe tbody tr th:only-of-type {\n",
       "        vertical-align: middle;\n",
       "    }\n",
       "\n",
       "    .dataframe tbody tr th {\n",
       "        vertical-align: top;\n",
       "    }\n",
       "\n",
       "    .dataframe thead th {\n",
       "        text-align: right;\n",
       "    }\n",
       "</style>\n",
       "<table border=\"1\" class=\"dataframe\">\n",
       "  <thead>\n",
       "    <tr style=\"text-align: right;\">\n",
       "      <th></th>\n",
       "      <th>Movie</th>\n",
       "      <th>Mean</th>\n",
       "      <th>Count</th>\n",
       "      <th>Popularity</th>\n",
       "    </tr>\n",
       "  </thead>\n",
       "  <tbody>\n",
       "    <tr>\n",
       "      <td>3158</td>\n",
       "      <td>Forrest Gump (1994)</td>\n",
       "      <td>4.164134</td>\n",
       "      <td>329</td>\n",
       "      <td>4.0</td>\n",
       "    </tr>\n",
       "    <tr>\n",
       "      <td>7593</td>\n",
       "      <td>Shawshank Redemption, The (1994)</td>\n",
       "      <td>4.429022</td>\n",
       "      <td>317</td>\n",
       "      <td>4.0</td>\n",
       "    </tr>\n",
       "    <tr>\n",
       "      <td>6865</td>\n",
       "      <td>Pulp Fiction (1994)</td>\n",
       "      <td>4.197068</td>\n",
       "      <td>307</td>\n",
       "      <td>4.0</td>\n",
       "    </tr>\n",
       "    <tr>\n",
       "      <td>7680</td>\n",
       "      <td>Silence of the Lambs, The (1991)</td>\n",
       "      <td>4.161290</td>\n",
       "      <td>279</td>\n",
       "      <td>4.0</td>\n",
       "    </tr>\n",
       "    <tr>\n",
       "      <td>5512</td>\n",
       "      <td>Matrix, The (1999)</td>\n",
       "      <td>4.192446</td>\n",
       "      <td>278</td>\n",
       "      <td>4.0</td>\n",
       "    </tr>\n",
       "  </tbody>\n",
       "</table>\n",
       "</div>"
      ],
      "text/plain": [
       "                                 Movie      Mean  Count  Popularity\n",
       "3158               Forrest Gump (1994)  4.164134    329         4.0\n",
       "7593  Shawshank Redemption, The (1994)  4.429022    317         4.0\n",
       "6865               Pulp Fiction (1994)  4.197068    307         4.0\n",
       "7680  Silence of the Lambs, The (1991)  4.161290    279         4.0\n",
       "5512                Matrix, The (1999)  4.192446    278         4.0"
      ]
     },
     "execution_count": 140,
     "metadata": {},
     "output_type": "execute_result"
    }
   ],
   "source": [
    "pop_df.head(5)"
   ]
  },
  {
   "cell_type": "code",
   "execution_count": 141,
   "metadata": {},
   "outputs": [
    {
     "data": {
      "text/plain": [
       "(9742, 9742)"
      ]
     },
     "execution_count": 141,
     "metadata": {},
     "output_type": "execute_result"
    }
   ],
   "source": [
    "content_matrix.shape"
   ]
  },
  {
   "cell_type": "code",
   "execution_count": 142,
   "metadata": {},
   "outputs": [
    {
     "data": {
      "text/plain": [
       "(9724, 9724)"
      ]
     },
     "execution_count": 142,
     "metadata": {},
     "output_type": "execute_result"
    }
   ],
   "source": [
    "collab_matrix.shape"
   ]
  },
  {
   "cell_type": "code",
   "execution_count": 143,
   "metadata": {},
   "outputs": [],
   "source": [
    "raw_matrix = np.zeros((9724,9724))"
   ]
  },
  {
   "cell_type": "code",
   "execution_count": 144,
   "metadata": {},
   "outputs": [
    {
     "data": {
      "application/vnd.jupyter.widget-view+json": {
       "model_id": "7ba325e145c9432b937e8d3286c98774",
       "version_major": 2,
       "version_minor": 0
      },
      "text/plain": [
       "HBox(children=(IntProgress(value=0, max=9724), HTML(value='')))"
      ]
     },
     "metadata": {},
     "output_type": "display_data"
    },
    {
     "name": "stdout",
     "output_type": "stream",
     "text": [
      "\n"
     ]
    },
    {
     "ename": "KeyError",
     "evalue": "0",
     "output_type": "error",
     "traceback": [
      "\u001b[0;31m---------------------------------------------------------------------------\u001b[0m",
      "\u001b[0;31mKeyError\u001b[0m                                  Traceback (most recent call last)",
      "\u001b[0;32m~/opt/anaconda3/lib/python3.7/site-packages/pandas/core/indexes/base.py\u001b[0m in \u001b[0;36mget_loc\u001b[0;34m(self, key, method, tolerance)\u001b[0m\n\u001b[1;32m   2896\u001b[0m             \u001b[0;32mtry\u001b[0m\u001b[0;34m:\u001b[0m\u001b[0;34m\u001b[0m\u001b[0;34m\u001b[0m\u001b[0m\n\u001b[0;32m-> 2897\u001b[0;31m                 \u001b[0;32mreturn\u001b[0m \u001b[0mself\u001b[0m\u001b[0;34m.\u001b[0m\u001b[0m_engine\u001b[0m\u001b[0;34m.\u001b[0m\u001b[0mget_loc\u001b[0m\u001b[0;34m(\u001b[0m\u001b[0mkey\u001b[0m\u001b[0;34m)\u001b[0m\u001b[0;34m\u001b[0m\u001b[0;34m\u001b[0m\u001b[0m\n\u001b[0m\u001b[1;32m   2898\u001b[0m             \u001b[0;32mexcept\u001b[0m \u001b[0mKeyError\u001b[0m\u001b[0;34m:\u001b[0m\u001b[0;34m\u001b[0m\u001b[0;34m\u001b[0m\u001b[0m\n",
      "\u001b[0;32mpandas/_libs/index.pyx\u001b[0m in \u001b[0;36mpandas._libs.index.IndexEngine.get_loc\u001b[0;34m()\u001b[0m\n",
      "\u001b[0;32mpandas/_libs/index.pyx\u001b[0m in \u001b[0;36mpandas._libs.index.IndexEngine.get_loc\u001b[0;34m()\u001b[0m\n",
      "\u001b[0;32mpandas/_libs/index.pyx\u001b[0m in \u001b[0;36mpandas._libs.index.IndexEngine._get_loc_duplicates\u001b[0;34m()\u001b[0m\n",
      "\u001b[0;32mpandas/_libs/index.pyx\u001b[0m in \u001b[0;36mpandas._libs.index.IndexEngine._maybe_get_bool_indexer\u001b[0;34m()\u001b[0m\n",
      "\u001b[0;31mKeyError\u001b[0m: 0",
      "\nDuring handling of the above exception, another exception occurred:\n",
      "\u001b[0;31mKeyError\u001b[0m                                  Traceback (most recent call last)",
      "\u001b[0;32m<ipython-input-144-061ee41f2359>\u001b[0m in \u001b[0;36m<module>\u001b[0;34m\u001b[0m\n\u001b[1;32m      4\u001b[0m \u001b[0;32mfor\u001b[0m \u001b[0mrow\u001b[0m \u001b[0;32min\u001b[0m \u001b[0mtqdm\u001b[0m\u001b[0;34m(\u001b[0m\u001b[0mrange\u001b[0m\u001b[0;34m(\u001b[0m\u001b[0;36m9724\u001b[0m\u001b[0;34m)\u001b[0m\u001b[0;34m)\u001b[0m\u001b[0;34m:\u001b[0m\u001b[0;34m\u001b[0m\u001b[0;34m\u001b[0m\u001b[0m\n\u001b[1;32m      5\u001b[0m     \u001b[0;32mfor\u001b[0m \u001b[0mcolumn\u001b[0m \u001b[0;32min\u001b[0m \u001b[0;34m(\u001b[0m\u001b[0mrange\u001b[0m\u001b[0;34m(\u001b[0m\u001b[0;36m9724\u001b[0m\u001b[0;34m)\u001b[0m\u001b[0;34m)\u001b[0m\u001b[0;34m:\u001b[0m\u001b[0;34m\u001b[0m\u001b[0;34m\u001b[0m\u001b[0m\n\u001b[0;32m----> 6\u001b[0;31m         \u001b[0mraw_matrix\u001b[0m\u001b[0;34m[\u001b[0m\u001b[0mrow\u001b[0m\u001b[0;34m]\u001b[0m\u001b[0;34m[\u001b[0m\u001b[0mcolumn\u001b[0m\u001b[0;34m]\u001b[0m \u001b[0;34m=\u001b[0m \u001b[0;34m(\u001b[0m\u001b[0mcontent_matrix\u001b[0m\u001b[0;34m[\u001b[0m\u001b[0mrow\u001b[0m\u001b[0;34m]\u001b[0m\u001b[0;34m[\u001b[0m\u001b[0mcolumn\u001b[0m\u001b[0;34m]\u001b[0m\u001b[0;34m+\u001b[0m\u001b[0mcollab_matrix\u001b[0m\u001b[0;34m[\u001b[0m\u001b[0mrow\u001b[0m\u001b[0;34m]\u001b[0m\u001b[0;34m[\u001b[0m\u001b[0mcolumn\u001b[0m\u001b[0;34m]\u001b[0m\u001b[0;34m)\u001b[0m\u001b[0;34m/\u001b[0m\u001b[0;36m2\u001b[0m\u001b[0;34m\u001b[0m\u001b[0;34m\u001b[0m\u001b[0m\n\u001b[0m\u001b[1;32m      7\u001b[0m \u001b[0;34m\u001b[0m\u001b[0m\n",
      "\u001b[0;32m~/opt/anaconda3/lib/python3.7/site-packages/pandas/core/frame.py\u001b[0m in \u001b[0;36m__getitem__\u001b[0;34m(self, key)\u001b[0m\n\u001b[1;32m   2978\u001b[0m             \u001b[0;32mif\u001b[0m \u001b[0mself\u001b[0m\u001b[0;34m.\u001b[0m\u001b[0mcolumns\u001b[0m\u001b[0;34m.\u001b[0m\u001b[0mnlevels\u001b[0m \u001b[0;34m>\u001b[0m \u001b[0;36m1\u001b[0m\u001b[0;34m:\u001b[0m\u001b[0;34m\u001b[0m\u001b[0;34m\u001b[0m\u001b[0m\n\u001b[1;32m   2979\u001b[0m                 \u001b[0;32mreturn\u001b[0m \u001b[0mself\u001b[0m\u001b[0;34m.\u001b[0m\u001b[0m_getitem_multilevel\u001b[0m\u001b[0;34m(\u001b[0m\u001b[0mkey\u001b[0m\u001b[0;34m)\u001b[0m\u001b[0;34m\u001b[0m\u001b[0;34m\u001b[0m\u001b[0m\n\u001b[0;32m-> 2980\u001b[0;31m             \u001b[0mindexer\u001b[0m \u001b[0;34m=\u001b[0m \u001b[0mself\u001b[0m\u001b[0;34m.\u001b[0m\u001b[0mcolumns\u001b[0m\u001b[0;34m.\u001b[0m\u001b[0mget_loc\u001b[0m\u001b[0;34m(\u001b[0m\u001b[0mkey\u001b[0m\u001b[0;34m)\u001b[0m\u001b[0;34m\u001b[0m\u001b[0;34m\u001b[0m\u001b[0m\n\u001b[0m\u001b[1;32m   2981\u001b[0m             \u001b[0;32mif\u001b[0m \u001b[0mis_integer\u001b[0m\u001b[0;34m(\u001b[0m\u001b[0mindexer\u001b[0m\u001b[0;34m)\u001b[0m\u001b[0;34m:\u001b[0m\u001b[0;34m\u001b[0m\u001b[0;34m\u001b[0m\u001b[0m\n\u001b[1;32m   2982\u001b[0m                 \u001b[0mindexer\u001b[0m \u001b[0;34m=\u001b[0m \u001b[0;34m[\u001b[0m\u001b[0mindexer\u001b[0m\u001b[0;34m]\u001b[0m\u001b[0;34m\u001b[0m\u001b[0;34m\u001b[0m\u001b[0m\n",
      "\u001b[0;32m~/opt/anaconda3/lib/python3.7/site-packages/pandas/core/indexes/base.py\u001b[0m in \u001b[0;36mget_loc\u001b[0;34m(self, key, method, tolerance)\u001b[0m\n\u001b[1;32m   2897\u001b[0m                 \u001b[0;32mreturn\u001b[0m \u001b[0mself\u001b[0m\u001b[0;34m.\u001b[0m\u001b[0m_engine\u001b[0m\u001b[0;34m.\u001b[0m\u001b[0mget_loc\u001b[0m\u001b[0;34m(\u001b[0m\u001b[0mkey\u001b[0m\u001b[0;34m)\u001b[0m\u001b[0;34m\u001b[0m\u001b[0;34m\u001b[0m\u001b[0m\n\u001b[1;32m   2898\u001b[0m             \u001b[0;32mexcept\u001b[0m \u001b[0mKeyError\u001b[0m\u001b[0;34m:\u001b[0m\u001b[0;34m\u001b[0m\u001b[0;34m\u001b[0m\u001b[0m\n\u001b[0;32m-> 2899\u001b[0;31m                 \u001b[0;32mreturn\u001b[0m \u001b[0mself\u001b[0m\u001b[0;34m.\u001b[0m\u001b[0m_engine\u001b[0m\u001b[0;34m.\u001b[0m\u001b[0mget_loc\u001b[0m\u001b[0;34m(\u001b[0m\u001b[0mself\u001b[0m\u001b[0;34m.\u001b[0m\u001b[0m_maybe_cast_indexer\u001b[0m\u001b[0;34m(\u001b[0m\u001b[0mkey\u001b[0m\u001b[0;34m)\u001b[0m\u001b[0;34m)\u001b[0m\u001b[0;34m\u001b[0m\u001b[0;34m\u001b[0m\u001b[0m\n\u001b[0m\u001b[1;32m   2900\u001b[0m         \u001b[0mindexer\u001b[0m \u001b[0;34m=\u001b[0m \u001b[0mself\u001b[0m\u001b[0;34m.\u001b[0m\u001b[0mget_indexer\u001b[0m\u001b[0;34m(\u001b[0m\u001b[0;34m[\u001b[0m\u001b[0mkey\u001b[0m\u001b[0;34m]\u001b[0m\u001b[0;34m,\u001b[0m \u001b[0mmethod\u001b[0m\u001b[0;34m=\u001b[0m\u001b[0mmethod\u001b[0m\u001b[0;34m,\u001b[0m \u001b[0mtolerance\u001b[0m\u001b[0;34m=\u001b[0m\u001b[0mtolerance\u001b[0m\u001b[0;34m)\u001b[0m\u001b[0;34m\u001b[0m\u001b[0;34m\u001b[0m\u001b[0m\n\u001b[1;32m   2901\u001b[0m         \u001b[0;32mif\u001b[0m \u001b[0mindexer\u001b[0m\u001b[0;34m.\u001b[0m\u001b[0mndim\u001b[0m \u001b[0;34m>\u001b[0m \u001b[0;36m1\u001b[0m \u001b[0;32mor\u001b[0m \u001b[0mindexer\u001b[0m\u001b[0;34m.\u001b[0m\u001b[0msize\u001b[0m \u001b[0;34m>\u001b[0m \u001b[0;36m1\u001b[0m\u001b[0;34m:\u001b[0m\u001b[0;34m\u001b[0m\u001b[0;34m\u001b[0m\u001b[0m\n",
      "\u001b[0;32mpandas/_libs/index.pyx\u001b[0m in \u001b[0;36mpandas._libs.index.IndexEngine.get_loc\u001b[0;34m()\u001b[0m\n",
      "\u001b[0;32mpandas/_libs/index.pyx\u001b[0m in \u001b[0;36mpandas._libs.index.IndexEngine.get_loc\u001b[0;34m()\u001b[0m\n",
      "\u001b[0;32mpandas/_libs/index.pyx\u001b[0m in \u001b[0;36mpandas._libs.index.IndexEngine._get_loc_duplicates\u001b[0;34m()\u001b[0m\n",
      "\u001b[0;32mpandas/_libs/index.pyx\u001b[0m in \u001b[0;36mpandas._libs.index.IndexEngine._maybe_get_bool_indexer\u001b[0;34m()\u001b[0m\n",
      "\u001b[0;31mKeyError\u001b[0m: 0"
     ]
    }
   ],
   "source": [
    "row = 0\n",
    "column = 0\n",
    "\n",
    "for row in tqdm(range(9724)):\n",
    "    for column in (range(9724)):\n",
    "        raw_matrix[row][column] = (content_matrix[row][column]+collab_matrix[row][column])/2\n",
    "        "
   ]
  },
  {
   "cell_type": "code",
   "execution_count": 193,
   "metadata": {},
   "outputs": [
    {
     "data": {
      "text/plain": [
       "array([[0.00000000e+00, 5.00000000e-01, 4.66452368e-01, ...,\n",
       "        2.59153237e-02, 1.79772702e-02, 1.16524411e-01],\n",
       "       [1.00000000e+00, 4.66452368e-01, 5.00000000e-01, ...,\n",
       "        2.03467424e-02, 2.03467424e-02, 1.18541330e-01],\n",
       "       [2.00000000e+00, 4.03836311e-01, 4.05451382e-01, ...,\n",
       "        8.38793126e-03, 8.38793126e-03, 6.17836991e-02],\n",
       "       ...,\n",
       "       [9.72100000e+03, 2.59153237e-02, 2.03467424e-02, ...,\n",
       "        5.00000000e-01, 4.89151566e-01, 2.25496641e-02],\n",
       "       [9.72200000e+03, 1.79772702e-02, 2.03467424e-02, ...,\n",
       "        4.89151566e-01, 5.00000000e-01, 1.41865546e-02],\n",
       "       [9.72300000e+03, 1.16524411e-01, 1.18541330e-01, ...,\n",
       "        2.25496641e-02, 1.41865546e-02, 5.00000000e-01]])"
      ]
     },
     "execution_count": 193,
     "metadata": {},
     "output_type": "execute_result"
    }
   ],
   "source": [
    "raw_matrix = pd.read_csv(\"raw_matrix.csv\")\n",
    "raw_matrix = raw_matrix.to_numpy()\n",
    "raw_matrix"
   ]
  },
  {
   "cell_type": "code",
   "execution_count": null,
   "metadata": {},
   "outputs": [],
   "source": [
    "#pd.DataFrame(raw_matrix).to_csv(\"raw_matrix.csv\")"
   ]
  },
  {
   "cell_type": "code",
   "execution_count": null,
   "metadata": {},
   "outputs": [],
   "source": [
    "#df.to_csv(\"df.csv\")"
   ]
  },
  {
   "cell_type": "code",
   "execution_count": 146,
   "metadata": {},
   "outputs": [],
   "source": [
    "def content_rec_hybrid_2(title,n):\n",
    "    '''This function takes in a title and a number of recs and outputs\n",
    "    the number of closests films based on plot similarity'''\n",
    "    idx = indices[title]\n",
    "    sim_scores = list(enumerate(raw_matrix[idx]))\n",
    "    sim_scores = sorted(sim_scores, key=lambda x: x[1], reverse=True)\n",
    "    sim_scores = sim_scores[1:n+1]\n",
    "    movies = [i[0] for i in sim_scores]\n",
    "    return titles.iloc[movies].sort_values('rating', ascending=False)"
   ]
  },
  {
   "cell_type": "code",
   "execution_count": 147,
   "metadata": {},
   "outputs": [
    {
     "data": {
      "text/html": [
       "<div>\n",
       "<style scoped>\n",
       "    .dataframe tbody tr th:only-of-type {\n",
       "        vertical-align: middle;\n",
       "    }\n",
       "\n",
       "    .dataframe tbody tr th {\n",
       "        vertical-align: top;\n",
       "    }\n",
       "\n",
       "    .dataframe thead th {\n",
       "        text-align: right;\n",
       "    }\n",
       "</style>\n",
       "<table border=\"1\" class=\"dataframe\">\n",
       "  <thead>\n",
       "    <tr style=\"text-align: right;\">\n",
       "      <th></th>\n",
       "      <th>title</th>\n",
       "      <th>genres</th>\n",
       "      <th>plot</th>\n",
       "      <th>rating</th>\n",
       "    </tr>\n",
       "  </thead>\n",
       "  <tbody>\n",
       "    <tr>\n",
       "      <td>969</td>\n",
       "      <td>Back to the Future (1985)</td>\n",
       "      <td>Adventure|Comedy|Sci-Fi</td>\n",
       "      <td>eighties teenager marty mcfly accidentally sen...</td>\n",
       "      <td>4.038012</td>\n",
       "    </tr>\n",
       "    <tr>\n",
       "      <td>507</td>\n",
       "      <td>Terminator 2: Judgment Day (1991)</td>\n",
       "      <td>Action|Sci-Fi</td>\n",
       "      <td>nearly years pass since sarah connor target te...</td>\n",
       "      <td>3.970982</td>\n",
       "    </tr>\n",
       "    <tr>\n",
       "      <td>1267</td>\n",
       "      <td>Truman Show, The (1998)</td>\n",
       "      <td>Comedy|Drama|Sci-Fi</td>\n",
       "      <td>truman burbank star truman show hour day reali...</td>\n",
       "      <td>3.812000</td>\n",
       "    </tr>\n",
       "    <tr>\n",
       "      <td>2038</td>\n",
       "      <td>Ghostbusters (a.k.a. Ghost Busters) (1984)</td>\n",
       "      <td>Action|Comedy|Sci-Fi</td>\n",
       "      <td>lose academic post prestigious university team...</td>\n",
       "      <td>3.775000</td>\n",
       "    </tr>\n",
       "    <tr>\n",
       "      <td>437</td>\n",
       "      <td>Naked (1993)</td>\n",
       "      <td>Drama</td>\n",
       "      <td>unemployed brit vent rage unsuspecting strange...</td>\n",
       "      <td>3.666667</td>\n",
       "    </tr>\n",
       "    <tr>\n",
       "      <td>303</td>\n",
       "      <td>Adventures of Priscilla, Queen of the Desert, ...</td>\n",
       "      <td>Comedy|Drama</td>\n",
       "      <td>two drag queen transsexual contract perform dr...</td>\n",
       "      <td>3.597222</td>\n",
       "    </tr>\n",
       "    <tr>\n",
       "      <td>616</td>\n",
       "      <td>Stealing Beauty (1996)</td>\n",
       "      <td>Drama</td>\n",
       "      <td>lucy harmon american teenager arrive lush tusc...</td>\n",
       "      <td>3.500000</td>\n",
       "    </tr>\n",
       "    <tr>\n",
       "      <td>326</td>\n",
       "      <td>Maverick (1994)</td>\n",
       "      <td>Adventure|Comedy|Western</td>\n",
       "      <td>maverick gambler would rather con someone figh...</td>\n",
       "      <td>3.500000</td>\n",
       "    </tr>\n",
       "    <tr>\n",
       "      <td>513</td>\n",
       "      <td>Pinocchio (1940)</td>\n",
       "      <td>Animation|Children|Fantasy|Musical</td>\n",
       "      <td>lonely toymaker geppetto wish answer blue fair...</td>\n",
       "      <td>3.450000</td>\n",
       "    </tr>\n",
       "    <tr>\n",
       "      <td>505</td>\n",
       "      <td>Ghost (1990)</td>\n",
       "      <td>Comedy|Drama|Fantasy|Romance|Thriller</td>\n",
       "      <td>sam wheat banker molly jensen artist two madly...</td>\n",
       "      <td>3.434783</td>\n",
       "    </tr>\n",
       "    <tr>\n",
       "      <td>2</td>\n",
       "      <td>Grumpier Old Men (1995)</td>\n",
       "      <td>Comedy|Romance</td>\n",
       "      <td>family wed reignite ancient feud next door nei...</td>\n",
       "      <td>3.259615</td>\n",
       "    </tr>\n",
       "    <tr>\n",
       "      <td>323</td>\n",
       "      <td>Little Buddha (1993)</td>\n",
       "      <td>Drama</td>\n",
       "      <td>little buddha movie life siddhartha star keanu...</td>\n",
       "      <td>3.250000</td>\n",
       "    </tr>\n",
       "    <tr>\n",
       "      <td>419</td>\n",
       "      <td>Kalifornia (1993)</td>\n",
       "      <td>Drama|Thriller</td>\n",
       "      <td>journalist duo tour serial killer murder sit t...</td>\n",
       "      <td>3.157895</td>\n",
       "    </tr>\n",
       "    <tr>\n",
       "      <td>139</td>\n",
       "      <td>Doom Generation, The (1995)</td>\n",
       "      <td>Comedy|Crime|Drama</td>\n",
       "      <td>jordan white amy blue two trouble teens pick a...</td>\n",
       "      <td>2.833333</td>\n",
       "    </tr>\n",
       "    <tr>\n",
       "      <td>335</td>\n",
       "      <td>Speechless (1994)</td>\n",
       "      <td>Comedy|Romance</td>\n",
       "      <td>romantic comedy michael keaton geena davis spe...</td>\n",
       "      <td>2.785714</td>\n",
       "    </tr>\n",
       "  </tbody>\n",
       "</table>\n",
       "</div>"
      ],
      "text/plain": [
       "                                                  title  \\\n",
       "969                           Back to the Future (1985)   \n",
       "507                   Terminator 2: Judgment Day (1991)   \n",
       "1267                            Truman Show, The (1998)   \n",
       "2038         Ghostbusters (a.k.a. Ghost Busters) (1984)   \n",
       "437                                        Naked (1993)   \n",
       "303   Adventures of Priscilla, Queen of the Desert, ...   \n",
       "616                              Stealing Beauty (1996)   \n",
       "326                                     Maverick (1994)   \n",
       "513                                    Pinocchio (1940)   \n",
       "505                                        Ghost (1990)   \n",
       "2                               Grumpier Old Men (1995)   \n",
       "323                                Little Buddha (1993)   \n",
       "419                                   Kalifornia (1993)   \n",
       "139                         Doom Generation, The (1995)   \n",
       "335                                   Speechless (1994)   \n",
       "\n",
       "                                     genres  \\\n",
       "969                 Adventure|Comedy|Sci-Fi   \n",
       "507                           Action|Sci-Fi   \n",
       "1267                    Comedy|Drama|Sci-Fi   \n",
       "2038                   Action|Comedy|Sci-Fi   \n",
       "437                                   Drama   \n",
       "303                            Comedy|Drama   \n",
       "616                                   Drama   \n",
       "326                Adventure|Comedy|Western   \n",
       "513      Animation|Children|Fantasy|Musical   \n",
       "505   Comedy|Drama|Fantasy|Romance|Thriller   \n",
       "2                            Comedy|Romance   \n",
       "323                                   Drama   \n",
       "419                          Drama|Thriller   \n",
       "139                      Comedy|Crime|Drama   \n",
       "335                          Comedy|Romance   \n",
       "\n",
       "                                                   plot    rating  \n",
       "969   eighties teenager marty mcfly accidentally sen...  4.038012  \n",
       "507   nearly years pass since sarah connor target te...  3.970982  \n",
       "1267  truman burbank star truman show hour day reali...  3.812000  \n",
       "2038  lose academic post prestigious university team...  3.775000  \n",
       "437   unemployed brit vent rage unsuspecting strange...  3.666667  \n",
       "303   two drag queen transsexual contract perform dr...  3.597222  \n",
       "616   lucy harmon american teenager arrive lush tusc...  3.500000  \n",
       "326   maverick gambler would rather con someone figh...  3.500000  \n",
       "513   lonely toymaker geppetto wish answer blue fair...  3.450000  \n",
       "505   sam wheat banker molly jensen artist two madly...  3.434783  \n",
       "2     family wed reignite ancient feud next door nei...  3.259615  \n",
       "323   little buddha movie life siddhartha star keanu...  3.250000  \n",
       "419   journalist duo tour serial killer murder sit t...  3.157895  \n",
       "139   jordan white amy blue two trouble teens pick a...  2.833333  \n",
       "335   romantic comedy michael keaton geena davis spe...  2.785714  "
      ]
     },
     "execution_count": 147,
     "metadata": {},
     "output_type": "execute_result"
    }
   ],
   "source": [
    "content_rec_hybrid_2('Jumanji (1995)',15)"
   ]
  },
  {
   "cell_type": "code",
   "execution_count": 148,
   "metadata": {},
   "outputs": [],
   "source": [
    "test = content_rec_hybrid_2('Jumanji (1995)',15)"
   ]
  },
  {
   "cell_type": "code",
   "execution_count": 154,
   "metadata": {},
   "outputs": [
    {
     "data": {
      "text/plain": [
       "'Back to the Future (1985)'"
      ]
     },
     "execution_count": 154,
     "metadata": {},
     "output_type": "execute_result"
    }
   ],
   "source": [
    "test.iloc[0].title"
   ]
  },
  {
   "cell_type": "markdown",
   "metadata": {},
   "source": [
    "### Hybrid Model 3 "
   ]
  },
  {
   "cell_type": "markdown",
   "metadata": {},
   "source": [
    "This model takes advantage of the LightFM python library. LightFM handles cold start problem very well because of its hybrid nature. LightFM uses item and user features for recommendation. When intersection is not found for new users, it will automatically fall back to content or collaborative models depending on the inherent characteristics of the dataset."
   ]
  },
  {
   "cell_type": "code",
   "execution_count": 155,
   "metadata": {},
   "outputs": [
    {
     "data": {
      "text/plain": [
       "(9742, 8)"
      ]
     },
     "execution_count": 155,
     "metadata": {},
     "output_type": "execute_result"
    }
   ],
   "source": [
    "df.shape"
   ]
  },
  {
   "cell_type": "code",
   "execution_count": 156,
   "metadata": {},
   "outputs": [
    {
     "data": {
      "text/plain": [
       "(9724, 610)"
      ]
     },
     "execution_count": 156,
     "metadata": {},
     "output_type": "execute_result"
    }
   ],
   "source": [
    "interaction = ratings_df.pivot_table(index=['movieId'],columns=['userId'],values='rating').reset_index(drop=True)\n",
    "interaction.fillna(0, inplace = True )\n",
    "interaction.shape"
   ]
  },
  {
   "cell_type": "code",
   "execution_count": 157,
   "metadata": {},
   "outputs": [],
   "source": [
    "def create_interaction_matrix(df, user_col, item_col, rating_col, norm= False, threshold = None):\n",
    "    interactions = df.groupby([user_col, item_col])[rating_col].sum().unstack().reset_index().fillna(0).set_index(user_col)\n",
    "    if norm:\n",
    "        interactions = interactions.applymap(lambda x: 1 if x > threshold else 0)\n",
    "    return interactions"
   ]
  },
  {
   "cell_type": "code",
   "execution_count": 161,
   "metadata": {},
   "outputs": [
    {
     "data": {
      "text/plain": [
       "(610, 9724)"
      ]
     },
     "execution_count": 161,
     "metadata": {},
     "output_type": "execute_result"
    }
   ],
   "source": [
    "interaction_matrix = create_interaction_matrix(df=ratings_df, user_col='userId', item_col = 'movieId', rating_col='rating')\n",
    "interaction_matrix.head()\n",
    "x = sparse.csr_matrix(interaction_matrix.values)\n",
    "x.shape"
   ]
  },
  {
   "cell_type": "code",
   "execution_count": 162,
   "metadata": {},
   "outputs": [
    {
     "data": {
      "text/html": [
       "<div>\n",
       "<style scoped>\n",
       "    .dataframe tbody tr th:only-of-type {\n",
       "        vertical-align: middle;\n",
       "    }\n",
       "\n",
       "    .dataframe tbody tr th {\n",
       "        vertical-align: top;\n",
       "    }\n",
       "\n",
       "    .dataframe thead th {\n",
       "        text-align: right;\n",
       "    }\n",
       "</style>\n",
       "<table border=\"1\" class=\"dataframe\">\n",
       "  <thead>\n",
       "    <tr style=\"text-align: right;\">\n",
       "      <th>movieId</th>\n",
       "      <th>1</th>\n",
       "      <th>2</th>\n",
       "      <th>3</th>\n",
       "      <th>4</th>\n",
       "      <th>5</th>\n",
       "      <th>6</th>\n",
       "      <th>7</th>\n",
       "      <th>8</th>\n",
       "      <th>9</th>\n",
       "      <th>10</th>\n",
       "      <th>...</th>\n",
       "      <th>193565</th>\n",
       "      <th>193567</th>\n",
       "      <th>193571</th>\n",
       "      <th>193573</th>\n",
       "      <th>193579</th>\n",
       "      <th>193581</th>\n",
       "      <th>193583</th>\n",
       "      <th>193585</th>\n",
       "      <th>193587</th>\n",
       "      <th>193609</th>\n",
       "    </tr>\n",
       "    <tr>\n",
       "      <th>userId</th>\n",
       "      <th></th>\n",
       "      <th></th>\n",
       "      <th></th>\n",
       "      <th></th>\n",
       "      <th></th>\n",
       "      <th></th>\n",
       "      <th></th>\n",
       "      <th></th>\n",
       "      <th></th>\n",
       "      <th></th>\n",
       "      <th></th>\n",
       "      <th></th>\n",
       "      <th></th>\n",
       "      <th></th>\n",
       "      <th></th>\n",
       "      <th></th>\n",
       "      <th></th>\n",
       "      <th></th>\n",
       "      <th></th>\n",
       "      <th></th>\n",
       "      <th></th>\n",
       "    </tr>\n",
       "  </thead>\n",
       "  <tbody>\n",
       "    <tr>\n",
       "      <td>1</td>\n",
       "      <td>4.0</td>\n",
       "      <td>0.0</td>\n",
       "      <td>4.0</td>\n",
       "      <td>0.0</td>\n",
       "      <td>0.0</td>\n",
       "      <td>4.0</td>\n",
       "      <td>0.0</td>\n",
       "      <td>0.0</td>\n",
       "      <td>0.0</td>\n",
       "      <td>0.0</td>\n",
       "      <td>...</td>\n",
       "      <td>0.0</td>\n",
       "      <td>0.0</td>\n",
       "      <td>0.0</td>\n",
       "      <td>0.0</td>\n",
       "      <td>0.0</td>\n",
       "      <td>0.0</td>\n",
       "      <td>0.0</td>\n",
       "      <td>0.0</td>\n",
       "      <td>0.0</td>\n",
       "      <td>0.0</td>\n",
       "    </tr>\n",
       "    <tr>\n",
       "      <td>2</td>\n",
       "      <td>0.0</td>\n",
       "      <td>0.0</td>\n",
       "      <td>0.0</td>\n",
       "      <td>0.0</td>\n",
       "      <td>0.0</td>\n",
       "      <td>0.0</td>\n",
       "      <td>0.0</td>\n",
       "      <td>0.0</td>\n",
       "      <td>0.0</td>\n",
       "      <td>0.0</td>\n",
       "      <td>...</td>\n",
       "      <td>0.0</td>\n",
       "      <td>0.0</td>\n",
       "      <td>0.0</td>\n",
       "      <td>0.0</td>\n",
       "      <td>0.0</td>\n",
       "      <td>0.0</td>\n",
       "      <td>0.0</td>\n",
       "      <td>0.0</td>\n",
       "      <td>0.0</td>\n",
       "      <td>0.0</td>\n",
       "    </tr>\n",
       "    <tr>\n",
       "      <td>3</td>\n",
       "      <td>0.0</td>\n",
       "      <td>0.0</td>\n",
       "      <td>0.0</td>\n",
       "      <td>0.0</td>\n",
       "      <td>0.0</td>\n",
       "      <td>0.0</td>\n",
       "      <td>0.0</td>\n",
       "      <td>0.0</td>\n",
       "      <td>0.0</td>\n",
       "      <td>0.0</td>\n",
       "      <td>...</td>\n",
       "      <td>0.0</td>\n",
       "      <td>0.0</td>\n",
       "      <td>0.0</td>\n",
       "      <td>0.0</td>\n",
       "      <td>0.0</td>\n",
       "      <td>0.0</td>\n",
       "      <td>0.0</td>\n",
       "      <td>0.0</td>\n",
       "      <td>0.0</td>\n",
       "      <td>0.0</td>\n",
       "    </tr>\n",
       "    <tr>\n",
       "      <td>4</td>\n",
       "      <td>0.0</td>\n",
       "      <td>0.0</td>\n",
       "      <td>0.0</td>\n",
       "      <td>0.0</td>\n",
       "      <td>0.0</td>\n",
       "      <td>0.0</td>\n",
       "      <td>0.0</td>\n",
       "      <td>0.0</td>\n",
       "      <td>0.0</td>\n",
       "      <td>0.0</td>\n",
       "      <td>...</td>\n",
       "      <td>0.0</td>\n",
       "      <td>0.0</td>\n",
       "      <td>0.0</td>\n",
       "      <td>0.0</td>\n",
       "      <td>0.0</td>\n",
       "      <td>0.0</td>\n",
       "      <td>0.0</td>\n",
       "      <td>0.0</td>\n",
       "      <td>0.0</td>\n",
       "      <td>0.0</td>\n",
       "    </tr>\n",
       "    <tr>\n",
       "      <td>5</td>\n",
       "      <td>4.0</td>\n",
       "      <td>0.0</td>\n",
       "      <td>0.0</td>\n",
       "      <td>0.0</td>\n",
       "      <td>0.0</td>\n",
       "      <td>0.0</td>\n",
       "      <td>0.0</td>\n",
       "      <td>0.0</td>\n",
       "      <td>0.0</td>\n",
       "      <td>0.0</td>\n",
       "      <td>...</td>\n",
       "      <td>0.0</td>\n",
       "      <td>0.0</td>\n",
       "      <td>0.0</td>\n",
       "      <td>0.0</td>\n",
       "      <td>0.0</td>\n",
       "      <td>0.0</td>\n",
       "      <td>0.0</td>\n",
       "      <td>0.0</td>\n",
       "      <td>0.0</td>\n",
       "      <td>0.0</td>\n",
       "    </tr>\n",
       "    <tr>\n",
       "      <td>...</td>\n",
       "      <td>...</td>\n",
       "      <td>...</td>\n",
       "      <td>...</td>\n",
       "      <td>...</td>\n",
       "      <td>...</td>\n",
       "      <td>...</td>\n",
       "      <td>...</td>\n",
       "      <td>...</td>\n",
       "      <td>...</td>\n",
       "      <td>...</td>\n",
       "      <td>...</td>\n",
       "      <td>...</td>\n",
       "      <td>...</td>\n",
       "      <td>...</td>\n",
       "      <td>...</td>\n",
       "      <td>...</td>\n",
       "      <td>...</td>\n",
       "      <td>...</td>\n",
       "      <td>...</td>\n",
       "      <td>...</td>\n",
       "      <td>...</td>\n",
       "    </tr>\n",
       "    <tr>\n",
       "      <td>606</td>\n",
       "      <td>2.5</td>\n",
       "      <td>0.0</td>\n",
       "      <td>0.0</td>\n",
       "      <td>0.0</td>\n",
       "      <td>0.0</td>\n",
       "      <td>0.0</td>\n",
       "      <td>2.5</td>\n",
       "      <td>0.0</td>\n",
       "      <td>0.0</td>\n",
       "      <td>0.0</td>\n",
       "      <td>...</td>\n",
       "      <td>0.0</td>\n",
       "      <td>0.0</td>\n",
       "      <td>0.0</td>\n",
       "      <td>0.0</td>\n",
       "      <td>0.0</td>\n",
       "      <td>0.0</td>\n",
       "      <td>0.0</td>\n",
       "      <td>0.0</td>\n",
       "      <td>0.0</td>\n",
       "      <td>0.0</td>\n",
       "    </tr>\n",
       "    <tr>\n",
       "      <td>607</td>\n",
       "      <td>4.0</td>\n",
       "      <td>0.0</td>\n",
       "      <td>0.0</td>\n",
       "      <td>0.0</td>\n",
       "      <td>0.0</td>\n",
       "      <td>0.0</td>\n",
       "      <td>0.0</td>\n",
       "      <td>0.0</td>\n",
       "      <td>0.0</td>\n",
       "      <td>0.0</td>\n",
       "      <td>...</td>\n",
       "      <td>0.0</td>\n",
       "      <td>0.0</td>\n",
       "      <td>0.0</td>\n",
       "      <td>0.0</td>\n",
       "      <td>0.0</td>\n",
       "      <td>0.0</td>\n",
       "      <td>0.0</td>\n",
       "      <td>0.0</td>\n",
       "      <td>0.0</td>\n",
       "      <td>0.0</td>\n",
       "    </tr>\n",
       "    <tr>\n",
       "      <td>608</td>\n",
       "      <td>2.5</td>\n",
       "      <td>2.0</td>\n",
       "      <td>2.0</td>\n",
       "      <td>0.0</td>\n",
       "      <td>0.0</td>\n",
       "      <td>0.0</td>\n",
       "      <td>0.0</td>\n",
       "      <td>0.0</td>\n",
       "      <td>0.0</td>\n",
       "      <td>4.0</td>\n",
       "      <td>...</td>\n",
       "      <td>0.0</td>\n",
       "      <td>0.0</td>\n",
       "      <td>0.0</td>\n",
       "      <td>0.0</td>\n",
       "      <td>0.0</td>\n",
       "      <td>0.0</td>\n",
       "      <td>0.0</td>\n",
       "      <td>0.0</td>\n",
       "      <td>0.0</td>\n",
       "      <td>0.0</td>\n",
       "    </tr>\n",
       "    <tr>\n",
       "      <td>609</td>\n",
       "      <td>3.0</td>\n",
       "      <td>0.0</td>\n",
       "      <td>0.0</td>\n",
       "      <td>0.0</td>\n",
       "      <td>0.0</td>\n",
       "      <td>0.0</td>\n",
       "      <td>0.0</td>\n",
       "      <td>0.0</td>\n",
       "      <td>0.0</td>\n",
       "      <td>4.0</td>\n",
       "      <td>...</td>\n",
       "      <td>0.0</td>\n",
       "      <td>0.0</td>\n",
       "      <td>0.0</td>\n",
       "      <td>0.0</td>\n",
       "      <td>0.0</td>\n",
       "      <td>0.0</td>\n",
       "      <td>0.0</td>\n",
       "      <td>0.0</td>\n",
       "      <td>0.0</td>\n",
       "      <td>0.0</td>\n",
       "    </tr>\n",
       "    <tr>\n",
       "      <td>610</td>\n",
       "      <td>5.0</td>\n",
       "      <td>0.0</td>\n",
       "      <td>0.0</td>\n",
       "      <td>0.0</td>\n",
       "      <td>0.0</td>\n",
       "      <td>5.0</td>\n",
       "      <td>0.0</td>\n",
       "      <td>0.0</td>\n",
       "      <td>0.0</td>\n",
       "      <td>0.0</td>\n",
       "      <td>...</td>\n",
       "      <td>0.0</td>\n",
       "      <td>0.0</td>\n",
       "      <td>0.0</td>\n",
       "      <td>0.0</td>\n",
       "      <td>0.0</td>\n",
       "      <td>0.0</td>\n",
       "      <td>0.0</td>\n",
       "      <td>0.0</td>\n",
       "      <td>0.0</td>\n",
       "      <td>0.0</td>\n",
       "    </tr>\n",
       "  </tbody>\n",
       "</table>\n",
       "<p>610 rows × 9724 columns</p>\n",
       "</div>"
      ],
      "text/plain": [
       "movieId  1       2       3       4       5       6       7       8       \\\n",
       "userId                                                                    \n",
       "1           4.0     0.0     4.0     0.0     0.0     4.0     0.0     0.0   \n",
       "2           0.0     0.0     0.0     0.0     0.0     0.0     0.0     0.0   \n",
       "3           0.0     0.0     0.0     0.0     0.0     0.0     0.0     0.0   \n",
       "4           0.0     0.0     0.0     0.0     0.0     0.0     0.0     0.0   \n",
       "5           4.0     0.0     0.0     0.0     0.0     0.0     0.0     0.0   \n",
       "...         ...     ...     ...     ...     ...     ...     ...     ...   \n",
       "606         2.5     0.0     0.0     0.0     0.0     0.0     2.5     0.0   \n",
       "607         4.0     0.0     0.0     0.0     0.0     0.0     0.0     0.0   \n",
       "608         2.5     2.0     2.0     0.0     0.0     0.0     0.0     0.0   \n",
       "609         3.0     0.0     0.0     0.0     0.0     0.0     0.0     0.0   \n",
       "610         5.0     0.0     0.0     0.0     0.0     5.0     0.0     0.0   \n",
       "\n",
       "movieId  9       10      ...  193565  193567  193571  193573  193579  193581  \\\n",
       "userId                   ...                                                   \n",
       "1           0.0     0.0  ...     0.0     0.0     0.0     0.0     0.0     0.0   \n",
       "2           0.0     0.0  ...     0.0     0.0     0.0     0.0     0.0     0.0   \n",
       "3           0.0     0.0  ...     0.0     0.0     0.0     0.0     0.0     0.0   \n",
       "4           0.0     0.0  ...     0.0     0.0     0.0     0.0     0.0     0.0   \n",
       "5           0.0     0.0  ...     0.0     0.0     0.0     0.0     0.0     0.0   \n",
       "...         ...     ...  ...     ...     ...     ...     ...     ...     ...   \n",
       "606         0.0     0.0  ...     0.0     0.0     0.0     0.0     0.0     0.0   \n",
       "607         0.0     0.0  ...     0.0     0.0     0.0     0.0     0.0     0.0   \n",
       "608         0.0     4.0  ...     0.0     0.0     0.0     0.0     0.0     0.0   \n",
       "609         0.0     4.0  ...     0.0     0.0     0.0     0.0     0.0     0.0   \n",
       "610         0.0     0.0  ...     0.0     0.0     0.0     0.0     0.0     0.0   \n",
       "\n",
       "movieId  193583  193585  193587  193609  \n",
       "userId                                   \n",
       "1           0.0     0.0     0.0     0.0  \n",
       "2           0.0     0.0     0.0     0.0  \n",
       "3           0.0     0.0     0.0     0.0  \n",
       "4           0.0     0.0     0.0     0.0  \n",
       "5           0.0     0.0     0.0     0.0  \n",
       "...         ...     ...     ...     ...  \n",
       "606         0.0     0.0     0.0     0.0  \n",
       "607         0.0     0.0     0.0     0.0  \n",
       "608         0.0     0.0     0.0     0.0  \n",
       "609         0.0     0.0     0.0     0.0  \n",
       "610         0.0     0.0     0.0     0.0  \n",
       "\n",
       "[610 rows x 9724 columns]"
      ]
     },
     "execution_count": 162,
     "metadata": {},
     "output_type": "execute_result"
    }
   ],
   "source": [
    "interaction_matrix"
   ]
  },
  {
   "cell_type": "code",
   "execution_count": 179,
   "metadata": {},
   "outputs": [],
   "source": [
    "from lightfm import LightFM\n",
    "from lightfm.evaluation import precision_at_k\n",
    "from lightfm.evaluation import auc_score\n",
    "from recsys import *\n",
    "from lightfm.datasets import fetch_movielens\n",
    "movielens = fetch_movielens()"
   ]
  },
  {
   "cell_type": "code",
   "execution_count": 172,
   "metadata": {},
   "outputs": [],
   "source": [
    "item_features = movielens['item_features']\n",
    "item_features\n",
    "train = movielens['train']\n",
    "test = movielens['test']"
   ]
  },
  {
   "cell_type": "code",
   "execution_count": 173,
   "metadata": {},
   "outputs": [],
   "source": [
    "# Set the number of threads; you can increase this\n",
    "# if you have more physical cores available.\n",
    "NUM_THREADS = 2\n",
    "NUM_COMPONENTS = 30\n",
    "NUM_EPOCHS = 3\n",
    "ITEM_ALPHA = 1e-6"
   ]
  },
  {
   "cell_type": "code",
   "execution_count": 174,
   "metadata": {},
   "outputs": [
    {
     "name": "stdout",
     "output_type": "stream",
     "text": [
      "CPU times: user 1.19 s, sys: 19.6 ms, total: 1.21 s\n",
      "Wall time: 652 ms\n"
     ]
    }
   ],
   "source": [
    "# Let's fit a WARP model: these generally have the best performance.\n",
    "model_collab = LightFM(loss='warp',\n",
    "                item_alpha=ITEM_ALPHA,\n",
    "               no_components=NUM_COMPONENTS)\n",
    "\n",
    "# Run 3 epochs and time it.\n",
    "%time model_collab = model_collab.fit(x, epochs=NUM_EPOCHS, num_threads=NUM_THREADS)"
   ]
  },
  {
   "cell_type": "code",
   "execution_count": 182,
   "metadata": {},
   "outputs": [
    {
     "name": "stdout",
     "output_type": "stream",
     "text": [
      "Collaborative filtering AUC: 0.9447558\n",
      "Train precision: 0.5158\n"
     ]
    }
   ],
   "source": [
    "train_auc = auc_score(model_collab, x, num_threads=4).mean()\n",
    "print('Collaborative filtering AUC: %s' % train_auc)\n",
    "print(\"Train precision: %.4f\" % precision_at_k(model_collab, x, k=15,num_threads=4).mean())"
   ]
  },
  {
   "cell_type": "code",
   "execution_count": 176,
   "metadata": {},
   "outputs": [],
   "source": [
    "movie_similarity = 1 - pairwise_distances( interaction_matrix.as_matrix(), metric=\"cosine\" )\n",
    "np.fill_diagonal( movie_similarity, 0 ) \n",
    "ratings_matrix_items = pd.DataFrame( movie_similarity )\n",
    "y = sparse.csr_matrix(ratings_matrix_items.values)"
   ]
  },
  {
   "cell_type": "code",
   "execution_count": 177,
   "metadata": {},
   "outputs": [],
   "source": [
    "# Define a new model instance\n",
    "model_hybrid = LightFM(loss='warp',\n",
    "                item_alpha=ITEM_ALPHA,\n",
    "                no_components=NUM_COMPONENTS)\n",
    "\n",
    "# Fit the hybrid model. Note that this time, we pass\n",
    "# in the item features matrix.\n",
    "model_hybrid = model_hybrid.fit(y,\n",
    "                item_features=item_features,\n",
    "                epochs=NUM_EPOCHS,\n",
    "                num_threads=NUM_THREADS)"
   ]
  },
  {
   "cell_type": "code",
   "execution_count": 183,
   "metadata": {},
   "outputs": [
    {
     "name": "stdout",
     "output_type": "stream",
     "text": [
      "Hybrid training set AUC: 0.9245934\n"
     ]
    }
   ],
   "source": [
    "# Don't forget the pass in the item features again!\n",
    "train_auc = auc_score(model_hybrid,\n",
    "                      y,\n",
    "                      item_features=item_features,\n",
    "                      num_threads=NUM_THREADS).mean()\n",
    "print('Hybrid training set AUC: %s' % train_auc)"
   ]
  },
  {
   "cell_type": "code",
   "execution_count": 184,
   "metadata": {},
   "outputs": [],
   "source": [
    "def create_user_dict(y):\n",
    "    user_id = list(y.index)\n",
    "    user_dict = {}\n",
    "    counter = 0 \n",
    "    for i in user_id:\n",
    "        user_dict[i] = counter\n",
    "        counter += 1\n",
    "    return user_dict"
   ]
  },
  {
   "cell_type": "code",
   "execution_count": 185,
   "metadata": {},
   "outputs": [],
   "source": [
    "user_dict = create_user_dict(interaction_matrix)"
   ]
  },
  {
   "cell_type": "code",
   "execution_count": 186,
   "metadata": {},
   "outputs": [],
   "source": [
    "def create_item_dict(df, id_col, name_col):\n",
    "    item_dict ={}\n",
    "    for i in df.index:\n",
    "        item_dict[(df.loc[i, id_col])] = df.loc[i, name_col]\n",
    "    return item_dict"
   ]
  },
  {
   "cell_type": "code",
   "execution_count": 187,
   "metadata": {},
   "outputs": [],
   "source": [
    "product_dict = create_item_dict(df = df, id_col = 'movieId', name_col = 'title')"
   ]
  },
  {
   "cell_type": "code",
   "execution_count": 188,
   "metadata": {},
   "outputs": [],
   "source": [
    "def sample_recommendation_user(model, interactions, user_id, user_dict,\n",
    "                               item_dict, threshold = 0, nrec_items = 10, show = True):\n",
    "\n",
    "    n_users, n_items = interactions.shape\n",
    "    user_x = user_dict[user_id]\n",
    "    scores = pd.Series(model.predict(user_x,np.arange(n_items)))\n",
    "    scores.index = interactions.columns\n",
    "    scores = list(pd.Series(scores.sort_values(ascending=False).index))\n",
    "\n",
    "    known_items = list(pd.Series(interactions.loc[user_id,:] \\\n",
    "                                 [interactions.loc[user_id,:] > threshold].index).sort_values(ascending=False))\n",
    "    #print(scores)\n",
    "    scores = [x for x in scores if x not in known_items]\n",
    "    return_score_list = scores[0:nrec_items]\n",
    "    #print(return_score_list)\n",
    "    known_items = list(pd.Series(known_items).apply(lambda x: item_dict[x]))\n",
    "    scores = list(pd.Series(return_score_list).apply(lambda x: item_dict[x]))\n",
    "\n",
    "    if show == True:\n",
    "        print(scores)\n",
    "\n",
    "    return scores "
   ]
  },
  {
   "cell_type": "code",
   "execution_count": 189,
   "metadata": {},
   "outputs": [
    {
     "name": "stdout",
     "output_type": "stream",
     "text": [
      "['Specialist, The (1994)', \"Kid in King Arthur's Court, A (1995)\", 'Miami Rhapsody (1995)', 'Disclosure (1994)', 'Program, The (1993)', 'Beverly Hillbillies, The (1993)', 'Mortal Kombat (1995)', 'Toy Story (1995)', 'Philadelphia (1993)', 'Romeo Is Bleeding (1993)']\n"
     ]
    }
   ],
   "source": [
    "rec_list = sample_recommendation_user(model = model_collab, \n",
    "                                      interactions = interaction, \n",
    "                                      user_id = 129, \n",
    "                                      user_dict = user_dict,\n",
    "                                      item_dict = product_dict, \n",
    "                                      threshold = 4,\n",
    "                                      nrec_items = 10,\n",
    "                                      show = True)"
   ]
  },
  {
   "cell_type": "code",
   "execution_count": null,
   "metadata": {},
   "outputs": [],
   "source": []
  },
  {
   "cell_type": "markdown",
   "metadata": {},
   "source": [
    "## Make recommendations"
   ]
  },
  {
   "cell_type": "code",
   "execution_count": null,
   "metadata": {},
   "outputs": [],
   "source": []
  },
  {
   "cell_type": "code",
   "execution_count": null,
   "metadata": {},
   "outputs": [],
   "source": []
  },
  {
   "cell_type": "code",
   "execution_count": null,
   "metadata": {},
   "outputs": [],
   "source": []
  },
  {
   "cell_type": "code",
   "execution_count": null,
   "metadata": {},
   "outputs": [],
   "source": [
    "def movie_rec(movie_df,n_ratings=4, genre=None,n_recs=5):\n",
    "    '''This function takes in the movies dataframe, number of new ratings, genre choice, and\n",
    "    number of recommendations requested and returns that many reccomendations'''\n",
    "    userID = 1000\n",
    "    rating_list = []\n",
    "    while n_ratings > 0:\n",
    "        if genre:\n",
    "            movie = movie_df[movie_df['genres'].str.contains(genre)].sample(1)\n",
    "        else:\n",
    "            movie = movie_df.sample(1)\n",
    "        print(movie)\n",
    "        rating = input('How do you rate this movie on a scale of 1-5, press n if you have not seen :\\n')\n",
    "        if rating == 'n':\n",
    "            continue\n",
    "        else:\n",
    "            rating_one_movie = {'userId':userID,'movieId':movie['movieId'].values[0],'rating':rating}\n",
    "            rating_list.append(rating_one_movie) \n",
    "            n_ratings -= 1\n",
    "    ratings_df2 = ratings_df.append(rating_list,ignore_index=True)\n",
    "    new_data = Dataset.load_from_df(ratings_df2,reader)\n",
    "    svd_model= SVD(n_factors=50,reg_all=0.05)\n",
    "    svd_model.fit(new_data.build_full_trainset())\n",
    "# make predictions for the user\n",
    "# you'll probably want to create a list of tuples in the format (movie_id, predicted_score)\n",
    "    list_of_movies = []\n",
    "    for m_id in ratings_df2['movieId'].unique():\n",
    "        list_of_movies.append( (m_id,svd_model.predict(1000,m_id)[3]))\n",
    "    \n",
    "# order the predictions from highest to lowest rated\n",
    "    ranked_movies = sorted(list_of_movies, key=lambda x:x[1], reverse=True)\n",
    "    for idx, rec in enumerate(ranked_movies):\n",
    "            title = movies_df.loc[movies_df['movieId'] == int(rec[0])]['title']\n",
    "            print('Recommendation # ', idx+1, ': ', title, '\\n')\n",
    "            n_recs-= 1\n",
    "            if n_recs == 0:\n",
    "                break"
   ]
  },
  {
   "cell_type": "code",
   "execution_count": null,
   "metadata": {},
   "outputs": [],
   "source": [
    "n_ratings=4\n",
    "n_recs=10"
   ]
  },
  {
   "cell_type": "code",
   "execution_count": null,
   "metadata": {},
   "outputs": [],
   "source": [
    "movie_rec(movies_df, n_ratings,'Comedy',n_recs)"
   ]
  },
  {
   "cell_type": "code",
   "execution_count": null,
   "metadata": {},
   "outputs": [],
   "source": []
  },
  {
   "cell_type": "code",
   "execution_count": null,
   "metadata": {},
   "outputs": [],
   "source": [
    "def get_top_n(predictions, n=10):\n",
    "    '''Return the top-N recommendation for each user from a set of predictions.\n",
    "\n",
    "    Args:\n",
    "        predictions(list of Prediction objects): The list of predictions, as\n",
    "            returned by the test method of an algorithm.\n",
    "        n(int): The number of recommendation to output for each user. Default\n",
    "            is 10.\n",
    "\n",
    "    Returns:\n",
    "    A dict where keys are user (raw) ids and values are lists of tuples:\n",
    "        [(raw item id, rating estimation), ...] of size n.\n",
    "    '''\n",
    "\n",
    "    # First map the predictions to each user.\n",
    "    top_n = defaultdict(list)\n",
    "    for uid, iid, true_r, est, _ in predictions:\n",
    "        top_n[uid].append((iid, est))\n",
    "\n",
    "    # Then sort the predictions for each user and retrieve the k highest ones.\n",
    "    for uid, user_ratings in top_n.items():\n",
    "        user_ratings.sort(key=lambda x: x[1], reverse=True)\n",
    "        top_n[uid] = user_ratings[:n]\n",
    "\n",
    "    return top_n"
   ]
  },
  {
   "cell_type": "code",
   "execution_count": null,
   "metadata": {},
   "outputs": [],
   "source": [
    "# First train an SVD algorithm on the movielens dataset.\n",
    "reader = Reader(rating_scale=(1, 5))\n",
    "data = Dataset.load_from_df(ratings_df, reader)\n",
    "trainset = data.build_full_trainset()\n",
    "algo = SVD()\n",
    "algo.fit(trainset)"
   ]
  },
  {
   "cell_type": "code",
   "execution_count": null,
   "metadata": {},
   "outputs": [],
   "source": [
    "# Then predict ratings for all pairs (u, i) that are NOT in the training set.\n",
    "testset = trainset.build_anti_testset()\n",
    "predictions = algo.test(testset)\n",
    "\n",
    "top_n = get_top_n(predictions, n=10)"
   ]
  },
  {
   "cell_type": "code",
   "execution_count": null,
   "metadata": {},
   "outputs": [],
   "source": [
    "# Print the recommended items for each user\n",
    "for uid, user_ratings in top_n.items():\n",
    "    print(uid, [iid for (iid, _) in user_ratings])"
   ]
  },
  {
   "cell_type": "code",
   "execution_count": null,
   "metadata": {},
   "outputs": [],
   "source": [
    "#top_n"
   ]
  },
  {
   "cell_type": "code",
   "execution_count": null,
   "metadata": {},
   "outputs": [],
   "source": []
  }
 ],
 "metadata": {
  "kernelspec": {
   "display_name": "Python 3",
   "language": "python",
   "name": "python3"
  },
  "language_info": {
   "codemirror_mode": {
    "name": "ipython",
    "version": 3
   },
   "file_extension": ".py",
   "mimetype": "text/x-python",
   "name": "python",
   "nbconvert_exporter": "python",
   "pygments_lexer": "ipython3",
   "version": "3.7.4"
  },
  "toc": {
   "base_numbering": 1,
   "nav_menu": {},
   "number_sections": true,
   "sideBar": true,
   "skip_h1_title": false,
   "title_cell": "Table of Contents",
   "title_sidebar": "Contents",
   "toc_cell": false,
   "toc_position": {
    "height": "calc(100% - 180px)",
    "left": "10px",
    "top": "150px",
    "width": "179.432px"
   },
   "toc_section_display": true,
   "toc_window_display": true
  }
 },
 "nbformat": 4,
 "nbformat_minor": 2
}
