{
 "cells": [
  {
   "cell_type": "markdown",
   "metadata": {},
   "source": [
    "# Mod4 Project"
   ]
  },
  {
   "cell_type": "markdown",
   "metadata": {},
   "source": [
    "## Import Libraries"
   ]
  },
  {
   "cell_type": "code",
   "execution_count": 1,
   "metadata": {},
   "outputs": [],
   "source": [
    "from math import log\n",
    "import pandas as pd\n",
    "import numpy as np\n",
    "from scipy import stats\n",
    "import matplotlib.pyplot as plt\n",
    "%matplotlib inline\n",
    "import seaborn as sns\n",
    "from surprise import Reader, Dataset\n",
    "from surprise.model_selection import cross_validate\n",
    "from surprise.prediction_algorithms import SVD\n",
    "from surprise.prediction_algorithms import KNNWithMeans, KNNBasic, KNNBaseline\n",
    "from surprise.model_selection import GridSearchCV\n",
    "from surprise.model_selection import train_test_split\n",
    "from surprise.model_selection import LeaveOneOut\n",
    "from collections import defaultdict\n",
    "import sklearn\n",
    "import sklearn.metrics\n",
    "\n",
    "\n",
    "\n",
    "# pd.set_option(\"display.max_rows\", None, \"display.max_columns\", None)\n",
    "\n",
    "import warnings\n",
    "warnings.filterwarnings(\"ignore\")"
   ]
  },
  {
   "cell_type": "code",
   "execution_count": 2,
   "metadata": {},
   "outputs": [],
   "source": [
    "#Import data files\n",
    "movies_df = pd.read_csv('movies.csv',index_col=False)\n",
    "ratings_df = pd.read_csv('ratings.csv',index_col=False)\n",
    "tags_df = pd.read_csv('tags.csv',index_col=False)"
   ]
  },
  {
   "cell_type": "markdown",
   "metadata": {},
   "source": [
    "First thing is to look at each file to get an idea of what is contained. Then we will merge any relavent data sets and perform some EDA"
   ]
  },
  {
   "cell_type": "code",
   "execution_count": null,
   "metadata": {},
   "outputs": [],
   "source": []
  },
  {
   "cell_type": "code",
   "execution_count": null,
   "metadata": {},
   "outputs": [],
   "source": []
  },
  {
   "cell_type": "code",
   "execution_count": 3,
   "metadata": {},
   "outputs": [
    {
     "data": {
      "text/html": [
       "<div>\n",
       "<style scoped>\n",
       "    .dataframe tbody tr th:only-of-type {\n",
       "        vertical-align: middle;\n",
       "    }\n",
       "\n",
       "    .dataframe tbody tr th {\n",
       "        vertical-align: top;\n",
       "    }\n",
       "\n",
       "    .dataframe thead th {\n",
       "        text-align: right;\n",
       "    }\n",
       "</style>\n",
       "<table border=\"1\" class=\"dataframe\">\n",
       "  <thead>\n",
       "    <tr style=\"text-align: right;\">\n",
       "      <th></th>\n",
       "      <th>movieId</th>\n",
       "      <th>title</th>\n",
       "      <th>genres</th>\n",
       "    </tr>\n",
       "  </thead>\n",
       "  <tbody>\n",
       "    <tr>\n",
       "      <td>0</td>\n",
       "      <td>1</td>\n",
       "      <td>Toy Story (1995)</td>\n",
       "      <td>Adventure|Animation|Children|Comedy|Fantasy</td>\n",
       "    </tr>\n",
       "    <tr>\n",
       "      <td>1</td>\n",
       "      <td>2</td>\n",
       "      <td>Jumanji (1995)</td>\n",
       "      <td>Adventure|Children|Fantasy</td>\n",
       "    </tr>\n",
       "    <tr>\n",
       "      <td>2</td>\n",
       "      <td>3</td>\n",
       "      <td>Grumpier Old Men (1995)</td>\n",
       "      <td>Comedy|Romance</td>\n",
       "    </tr>\n",
       "    <tr>\n",
       "      <td>3</td>\n",
       "      <td>4</td>\n",
       "      <td>Waiting to Exhale (1995)</td>\n",
       "      <td>Comedy|Drama|Romance</td>\n",
       "    </tr>\n",
       "    <tr>\n",
       "      <td>4</td>\n",
       "      <td>5</td>\n",
       "      <td>Father of the Bride Part II (1995)</td>\n",
       "      <td>Comedy</td>\n",
       "    </tr>\n",
       "  </tbody>\n",
       "</table>\n",
       "</div>"
      ],
      "text/plain": [
       "   movieId                               title  \\\n",
       "0        1                    Toy Story (1995)   \n",
       "1        2                      Jumanji (1995)   \n",
       "2        3             Grumpier Old Men (1995)   \n",
       "3        4            Waiting to Exhale (1995)   \n",
       "4        5  Father of the Bride Part II (1995)   \n",
       "\n",
       "                                        genres  \n",
       "0  Adventure|Animation|Children|Comedy|Fantasy  \n",
       "1                   Adventure|Children|Fantasy  \n",
       "2                               Comedy|Romance  \n",
       "3                         Comedy|Drama|Romance  \n",
       "4                                       Comedy  "
      ]
     },
     "execution_count": 3,
     "metadata": {},
     "output_type": "execute_result"
    }
   ],
   "source": [
    "movies_df.head()"
   ]
  },
  {
   "cell_type": "code",
   "execution_count": 4,
   "metadata": {},
   "outputs": [
    {
     "data": {
      "text/html": [
       "<div>\n",
       "<style scoped>\n",
       "    .dataframe tbody tr th:only-of-type {\n",
       "        vertical-align: middle;\n",
       "    }\n",
       "\n",
       "    .dataframe tbody tr th {\n",
       "        vertical-align: top;\n",
       "    }\n",
       "\n",
       "    .dataframe thead th {\n",
       "        text-align: right;\n",
       "    }\n",
       "</style>\n",
       "<table border=\"1\" class=\"dataframe\">\n",
       "  <thead>\n",
       "    <tr style=\"text-align: right;\">\n",
       "      <th></th>\n",
       "      <th>userId</th>\n",
       "      <th>movieId</th>\n",
       "      <th>rating</th>\n",
       "      <th>timestamp</th>\n",
       "    </tr>\n",
       "  </thead>\n",
       "  <tbody>\n",
       "    <tr>\n",
       "      <td>0</td>\n",
       "      <td>1</td>\n",
       "      <td>1</td>\n",
       "      <td>4.0</td>\n",
       "      <td>964982703</td>\n",
       "    </tr>\n",
       "    <tr>\n",
       "      <td>1</td>\n",
       "      <td>1</td>\n",
       "      <td>3</td>\n",
       "      <td>4.0</td>\n",
       "      <td>964981247</td>\n",
       "    </tr>\n",
       "    <tr>\n",
       "      <td>2</td>\n",
       "      <td>1</td>\n",
       "      <td>6</td>\n",
       "      <td>4.0</td>\n",
       "      <td>964982224</td>\n",
       "    </tr>\n",
       "    <tr>\n",
       "      <td>3</td>\n",
       "      <td>1</td>\n",
       "      <td>47</td>\n",
       "      <td>5.0</td>\n",
       "      <td>964983815</td>\n",
       "    </tr>\n",
       "    <tr>\n",
       "      <td>4</td>\n",
       "      <td>1</td>\n",
       "      <td>50</td>\n",
       "      <td>5.0</td>\n",
       "      <td>964982931</td>\n",
       "    </tr>\n",
       "  </tbody>\n",
       "</table>\n",
       "</div>"
      ],
      "text/plain": [
       "   userId  movieId  rating  timestamp\n",
       "0       1        1     4.0  964982703\n",
       "1       1        3     4.0  964981247\n",
       "2       1        6     4.0  964982224\n",
       "3       1       47     5.0  964983815\n",
       "4       1       50     5.0  964982931"
      ]
     },
     "execution_count": 4,
     "metadata": {},
     "output_type": "execute_result"
    }
   ],
   "source": [
    "ratings_df.head()"
   ]
  },
  {
   "cell_type": "markdown",
   "metadata": {},
   "source": [
    "We're going to drop the timestamp column as it is not useful for our model"
   ]
  },
  {
   "cell_type": "code",
   "execution_count": 5,
   "metadata": {},
   "outputs": [],
   "source": [
    "ratings_df.drop(columns='timestamp',inplace=True)"
   ]
  },
  {
   "cell_type": "code",
   "execution_count": 6,
   "metadata": {},
   "outputs": [
    {
     "data": {
      "text/html": [
       "<div>\n",
       "<style scoped>\n",
       "    .dataframe tbody tr th:only-of-type {\n",
       "        vertical-align: middle;\n",
       "    }\n",
       "\n",
       "    .dataframe tbody tr th {\n",
       "        vertical-align: top;\n",
       "    }\n",
       "\n",
       "    .dataframe thead th {\n",
       "        text-align: right;\n",
       "    }\n",
       "</style>\n",
       "<table border=\"1\" class=\"dataframe\">\n",
       "  <thead>\n",
       "    <tr style=\"text-align: right;\">\n",
       "      <th></th>\n",
       "      <th>userId</th>\n",
       "      <th>movieId</th>\n",
       "      <th>tag</th>\n",
       "      <th>timestamp</th>\n",
       "    </tr>\n",
       "  </thead>\n",
       "  <tbody>\n",
       "    <tr>\n",
       "      <td>0</td>\n",
       "      <td>2</td>\n",
       "      <td>60756</td>\n",
       "      <td>funny</td>\n",
       "      <td>1445714994</td>\n",
       "    </tr>\n",
       "    <tr>\n",
       "      <td>1</td>\n",
       "      <td>2</td>\n",
       "      <td>60756</td>\n",
       "      <td>Highly quotable</td>\n",
       "      <td>1445714996</td>\n",
       "    </tr>\n",
       "    <tr>\n",
       "      <td>2</td>\n",
       "      <td>2</td>\n",
       "      <td>60756</td>\n",
       "      <td>will ferrell</td>\n",
       "      <td>1445714992</td>\n",
       "    </tr>\n",
       "    <tr>\n",
       "      <td>3</td>\n",
       "      <td>2</td>\n",
       "      <td>89774</td>\n",
       "      <td>Boxing story</td>\n",
       "      <td>1445715207</td>\n",
       "    </tr>\n",
       "    <tr>\n",
       "      <td>4</td>\n",
       "      <td>2</td>\n",
       "      <td>89774</td>\n",
       "      <td>MMA</td>\n",
       "      <td>1445715200</td>\n",
       "    </tr>\n",
       "  </tbody>\n",
       "</table>\n",
       "</div>"
      ],
      "text/plain": [
       "   userId  movieId              tag   timestamp\n",
       "0       2    60756            funny  1445714994\n",
       "1       2    60756  Highly quotable  1445714996\n",
       "2       2    60756     will ferrell  1445714992\n",
       "3       2    89774     Boxing story  1445715207\n",
       "4       2    89774              MMA  1445715200"
      ]
     },
     "execution_count": 6,
     "metadata": {},
     "output_type": "execute_result"
    }
   ],
   "source": [
    "tags_df.head()"
   ]
  },
  {
   "cell_type": "code",
   "execution_count": 7,
   "metadata": {},
   "outputs": [
    {
     "data": {
      "text/html": [
       "<div>\n",
       "<style scoped>\n",
       "    .dataframe tbody tr th:only-of-type {\n",
       "        vertical-align: middle;\n",
       "    }\n",
       "\n",
       "    .dataframe tbody tr th {\n",
       "        vertical-align: top;\n",
       "    }\n",
       "\n",
       "    .dataframe thead th {\n",
       "        text-align: right;\n",
       "    }\n",
       "</style>\n",
       "<table border=\"1\" class=\"dataframe\">\n",
       "  <thead>\n",
       "    <tr style=\"text-align: right;\">\n",
       "      <th></th>\n",
       "      <th>title</th>\n",
       "      <th>genres</th>\n",
       "    </tr>\n",
       "    <tr>\n",
       "      <th>movieId</th>\n",
       "      <th></th>\n",
       "      <th></th>\n",
       "    </tr>\n",
       "  </thead>\n",
       "  <tbody>\n",
       "    <tr>\n",
       "      <td>1</td>\n",
       "      <td>Toy Story (1995)</td>\n",
       "      <td>Adventure|Animation|Children|Comedy|Fantasy</td>\n",
       "    </tr>\n",
       "    <tr>\n",
       "      <td>2</td>\n",
       "      <td>Jumanji (1995)</td>\n",
       "      <td>Adventure|Children|Fantasy</td>\n",
       "    </tr>\n",
       "    <tr>\n",
       "      <td>3</td>\n",
       "      <td>Grumpier Old Men (1995)</td>\n",
       "      <td>Comedy|Romance</td>\n",
       "    </tr>\n",
       "    <tr>\n",
       "      <td>4</td>\n",
       "      <td>Waiting to Exhale (1995)</td>\n",
       "      <td>Comedy|Drama|Romance</td>\n",
       "    </tr>\n",
       "    <tr>\n",
       "      <td>5</td>\n",
       "      <td>Father of the Bride Part II (1995)</td>\n",
       "      <td>Comedy</td>\n",
       "    </tr>\n",
       "    <tr>\n",
       "      <td>...</td>\n",
       "      <td>...</td>\n",
       "      <td>...</td>\n",
       "    </tr>\n",
       "    <tr>\n",
       "      <td>193581</td>\n",
       "      <td>Black Butler: Book of the Atlantic (2017)</td>\n",
       "      <td>Action|Animation|Comedy|Fantasy</td>\n",
       "    </tr>\n",
       "    <tr>\n",
       "      <td>193583</td>\n",
       "      <td>No Game No Life: Zero (2017)</td>\n",
       "      <td>Animation|Comedy|Fantasy</td>\n",
       "    </tr>\n",
       "    <tr>\n",
       "      <td>193585</td>\n",
       "      <td>Flint (2017)</td>\n",
       "      <td>Drama</td>\n",
       "    </tr>\n",
       "    <tr>\n",
       "      <td>193587</td>\n",
       "      <td>Bungo Stray Dogs: Dead Apple (2018)</td>\n",
       "      <td>Action|Animation</td>\n",
       "    </tr>\n",
       "    <tr>\n",
       "      <td>193609</td>\n",
       "      <td>Andrew Dice Clay: Dice Rules (1991)</td>\n",
       "      <td>Comedy</td>\n",
       "    </tr>\n",
       "  </tbody>\n",
       "</table>\n",
       "<p>9742 rows × 2 columns</p>\n",
       "</div>"
      ],
      "text/plain": [
       "                                             title  \\\n",
       "movieId                                              \n",
       "1                                 Toy Story (1995)   \n",
       "2                                   Jumanji (1995)   \n",
       "3                          Grumpier Old Men (1995)   \n",
       "4                         Waiting to Exhale (1995)   \n",
       "5               Father of the Bride Part II (1995)   \n",
       "...                                            ...   \n",
       "193581   Black Butler: Book of the Atlantic (2017)   \n",
       "193583                No Game No Life: Zero (2017)   \n",
       "193585                                Flint (2017)   \n",
       "193587         Bungo Stray Dogs: Dead Apple (2018)   \n",
       "193609         Andrew Dice Clay: Dice Rules (1991)   \n",
       "\n",
       "                                              genres  \n",
       "movieId                                               \n",
       "1        Adventure|Animation|Children|Comedy|Fantasy  \n",
       "2                         Adventure|Children|Fantasy  \n",
       "3                                     Comedy|Romance  \n",
       "4                               Comedy|Drama|Romance  \n",
       "5                                             Comedy  \n",
       "...                                              ...  \n",
       "193581               Action|Animation|Comedy|Fantasy  \n",
       "193583                      Animation|Comedy|Fantasy  \n",
       "193585                                         Drama  \n",
       "193587                              Action|Animation  \n",
       "193609                                        Comedy  \n",
       "\n",
       "[9742 rows x 2 columns]"
      ]
     },
     "execution_count": 7,
     "metadata": {},
     "output_type": "execute_result"
    }
   ],
   "source": [
    "\n",
    "movies_df.set_index('movieId')"
   ]
  },
  {
   "cell_type": "code",
   "execution_count": 8,
   "metadata": {},
   "outputs": [],
   "source": [
    "df = pd.merge(movies_df,tags_df, on='movieId', how='left')"
   ]
  },
  {
   "cell_type": "code",
   "execution_count": 9,
   "metadata": {},
   "outputs": [
    {
     "data": {
      "text/plain": [
       "(3683, 4)"
      ]
     },
     "execution_count": 9,
     "metadata": {},
     "output_type": "execute_result"
    }
   ],
   "source": [
    "tags_df.shape"
   ]
  },
  {
   "cell_type": "code",
   "execution_count": 10,
   "metadata": {},
   "outputs": [
    {
     "data": {
      "text/plain": [
       "(100836, 3)"
      ]
     },
     "execution_count": 10,
     "metadata": {},
     "output_type": "execute_result"
    }
   ],
   "source": [
    "ratings_df.shape"
   ]
  },
  {
   "cell_type": "code",
   "execution_count": 11,
   "metadata": {},
   "outputs": [
    {
     "data": {
      "text/html": [
       "<div>\n",
       "<style scoped>\n",
       "    .dataframe tbody tr th:only-of-type {\n",
       "        vertical-align: middle;\n",
       "    }\n",
       "\n",
       "    .dataframe tbody tr th {\n",
       "        vertical-align: top;\n",
       "    }\n",
       "\n",
       "    .dataframe thead th {\n",
       "        text-align: right;\n",
       "    }\n",
       "</style>\n",
       "<table border=\"1\" class=\"dataframe\">\n",
       "  <thead>\n",
       "    <tr style=\"text-align: right;\">\n",
       "      <th></th>\n",
       "      <th>movieId</th>\n",
       "      <th>title</th>\n",
       "      <th>genres</th>\n",
       "      <th>userId</th>\n",
       "      <th>tag</th>\n",
       "      <th>timestamp</th>\n",
       "    </tr>\n",
       "  </thead>\n",
       "  <tbody>\n",
       "    <tr>\n",
       "      <td>0</td>\n",
       "      <td>1</td>\n",
       "      <td>Toy Story (1995)</td>\n",
       "      <td>Adventure|Animation|Children|Comedy|Fantasy</td>\n",
       "      <td>336.0</td>\n",
       "      <td>pixar</td>\n",
       "      <td>1.139046e+09</td>\n",
       "    </tr>\n",
       "    <tr>\n",
       "      <td>1</td>\n",
       "      <td>1</td>\n",
       "      <td>Toy Story (1995)</td>\n",
       "      <td>Adventure|Animation|Children|Comedy|Fantasy</td>\n",
       "      <td>474.0</td>\n",
       "      <td>pixar</td>\n",
       "      <td>1.137207e+09</td>\n",
       "    </tr>\n",
       "    <tr>\n",
       "      <td>2</td>\n",
       "      <td>1</td>\n",
       "      <td>Toy Story (1995)</td>\n",
       "      <td>Adventure|Animation|Children|Comedy|Fantasy</td>\n",
       "      <td>567.0</td>\n",
       "      <td>fun</td>\n",
       "      <td>1.525286e+09</td>\n",
       "    </tr>\n",
       "    <tr>\n",
       "      <td>3</td>\n",
       "      <td>2</td>\n",
       "      <td>Jumanji (1995)</td>\n",
       "      <td>Adventure|Children|Fantasy</td>\n",
       "      <td>62.0</td>\n",
       "      <td>fantasy</td>\n",
       "      <td>1.528844e+09</td>\n",
       "    </tr>\n",
       "    <tr>\n",
       "      <td>4</td>\n",
       "      <td>2</td>\n",
       "      <td>Jumanji (1995)</td>\n",
       "      <td>Adventure|Children|Fantasy</td>\n",
       "      <td>62.0</td>\n",
       "      <td>magic board game</td>\n",
       "      <td>1.528844e+09</td>\n",
       "    </tr>\n",
       "  </tbody>\n",
       "</table>\n",
       "</div>"
      ],
      "text/plain": [
       "   movieId             title                                       genres  \\\n",
       "0        1  Toy Story (1995)  Adventure|Animation|Children|Comedy|Fantasy   \n",
       "1        1  Toy Story (1995)  Adventure|Animation|Children|Comedy|Fantasy   \n",
       "2        1  Toy Story (1995)  Adventure|Animation|Children|Comedy|Fantasy   \n",
       "3        2    Jumanji (1995)                   Adventure|Children|Fantasy   \n",
       "4        2    Jumanji (1995)                   Adventure|Children|Fantasy   \n",
       "\n",
       "   userId               tag     timestamp  \n",
       "0   336.0             pixar  1.139046e+09  \n",
       "1   474.0             pixar  1.137207e+09  \n",
       "2   567.0               fun  1.525286e+09  \n",
       "3    62.0           fantasy  1.528844e+09  \n",
       "4    62.0  magic board game  1.528844e+09  "
      ]
     },
     "execution_count": 11,
     "metadata": {},
     "output_type": "execute_result"
    }
   ],
   "source": [
    "df.head()"
   ]
  },
  {
   "cell_type": "code",
   "execution_count": 12,
   "metadata": {},
   "outputs": [
    {
     "data": {
      "text/plain": [
       "(11853, 6)"
      ]
     },
     "execution_count": 12,
     "metadata": {},
     "output_type": "execute_result"
    }
   ],
   "source": [
    "df.shape"
   ]
  },
  {
   "cell_type": "markdown",
   "metadata": {},
   "source": [
    "## EDA"
   ]
  },
  {
   "cell_type": "markdown",
   "metadata": {},
   "source": [
    "The first data we'll look at is for the collaborative model will just be using the ratings dataframe"
   ]
  },
  {
   "cell_type": "code",
   "execution_count": 13,
   "metadata": {},
   "outputs": [
    {
     "name": "stdout",
     "output_type": "stream",
     "text": [
      "<class 'pandas.core.frame.DataFrame'>\n",
      "RangeIndex: 100836 entries, 0 to 100835\n",
      "Data columns (total 3 columns):\n",
      "userId     100836 non-null int64\n",
      "movieId    100836 non-null int64\n",
      "rating     100836 non-null float64\n",
      "dtypes: float64(1), int64(2)\n",
      "memory usage: 2.3 MB\n"
     ]
    }
   ],
   "source": [
    "#Look at column types\n",
    "ratings_df.info()"
   ]
  },
  {
   "cell_type": "code",
   "execution_count": 14,
   "metadata": {},
   "outputs": [
    {
     "data": {
      "text/plain": [
       "userId     0\n",
       "movieId    0\n",
       "rating     0\n",
       "dtype: int64"
      ]
     },
     "execution_count": 14,
     "metadata": {},
     "output_type": "execute_result"
    }
   ],
   "source": [
    "#Check for null values\n",
    "ratings_df.isnull().sum()"
   ]
  },
  {
   "cell_type": "code",
   "execution_count": 15,
   "metadata": {},
   "outputs": [
    {
     "data": {
      "text/plain": [
       "4.0    26818\n",
       "3.0    20047\n",
       "5.0    13211\n",
       "3.5    13136\n",
       "4.5     8551\n",
       "2.0     7551\n",
       "2.5     5550\n",
       "1.0     2811\n",
       "1.5     1791\n",
       "0.5     1370\n",
       "Name: rating, dtype: int64"
      ]
     },
     "execution_count": 15,
     "metadata": {},
     "output_type": "execute_result"
    }
   ],
   "source": [
    "ratings_df['rating'].value_counts()"
   ]
  },
  {
   "cell_type": "code",
   "execution_count": 16,
   "metadata": {},
   "outputs": [
    {
     "data": {
      "image/png": "[encoded data removed]",
      "text/plain": [
       "<Figure size 432x288 with 1 Axes>"
      ]
     },
     "metadata": {
      "needs_background": "light"
     },
     "output_type": "display_data"
    }
   ],
   "source": [
    "\n",
    "fig, ax = plt.subplots()\n",
    "ax = ratings_df['rating'].value_counts().plot(kind='bar')\n",
    "ax.set_xlabel('Rating Value')  # Add an x-label to the axes.\n",
    "ax.set_ylabel('Ratings Count')  # Add a y-label to the axes.\n",
    "ax.set_title(\"Count of Ratings by Value\")  # Add a title to the axes.\n",
    "plt.show()"
   ]
  },
  {
   "cell_type": "markdown",
   "metadata": {},
   "source": [
    "## Collaborative Model"
   ]
  },
  {
   "cell_type": "markdown",
   "metadata": {},
   "source": [
    "The first thing we are going to do is build some baseline Collaborative Recommendation models. We will begin with Surprise and loading in our data. We'll first look at RMSE for evaluation but then expand to other metrics."
   ]
  },
  {
   "cell_type": "code",
   "execution_count": 17,
   "metadata": {},
   "outputs": [],
   "source": [
    "\n",
    "reader = Reader(rating_scale=(1, 5))\n",
    "data = Dataset.load_from_df(ratings_df, reader)"
   ]
  },
  {
   "cell_type": "markdown",
   "metadata": {},
   "source": [
    "Let's look at how many users and items we have in our dataset. If using neighborhood-based methods, this will help us determine whether or not we should perform user-user or item-item similarity"
   ]
  },
  {
   "cell_type": "code",
   "execution_count": 18,
   "metadata": {},
   "outputs": [
    {
     "name": "stdout",
     "output_type": "stream",
     "text": [
      "Number of users:  610 \n",
      "\n",
      "Number of items:  9724\n"
     ]
    }
   ],
   "source": [
    "dataset = data.build_full_trainset()\n",
    "print('Number of users: ', dataset.n_users, '\\n')\n",
    "print('Number of items: ', dataset.n_items)"
   ]
  },
  {
   "cell_type": "code",
   "execution_count": 19,
   "metadata": {},
   "outputs": [
    {
     "name": "stdout",
     "output_type": "stream",
     "text": [
      "{'rmse': 0.8694818921687506, 'mae': 0.6683445129127895}\n",
      "{'rmse': {'n_factors': 100, 'reg_all': 0.05}, 'mae': {'n_factors': 100, 'reg_all': 0.05}}\n"
     ]
    }
   ],
   "source": [
    "#Creating SVD Model and showing RMSE\n",
    "params = {'n_factors': [20, 50, 100],\n",
    "         'reg_all': [0.02, 0.05, 0.1]}\n",
    "g_s_svd = GridSearchCV(SVD,param_grid=params,n_jobs=-1)\n",
    "g_s_svd.fit(data)\n",
    "print(g_s_svd.best_score)\n",
    "print(g_s_svd.best_params)"
   ]
  },
  {
   "cell_type": "code",
   "execution_count": 20,
   "metadata": {},
   "outputs": [
    {
     "name": "stdout",
     "output_type": "stream",
     "text": [
      "Similarity Metric =  pearson --- test_rmse =  0.9731327088934169 \n",
      "\n",
      "Similarity Metric =  MSD --- test_rmse =  0.9477889432315022 \n",
      "\n",
      "Similarity Metric =  cosine --- test_rmse =  0.9711473637678887 \n",
      "\n",
      "Similarity Metric =  pearson_baseline --- test_rmse =  0.9717477677389436 \n",
      "\n"
     ]
    }
   ],
   "source": [
    "sim_metrics = ['pearson','MSD','cosine','pearson_baseline']\n",
    "#Creating Basic KNN Model and showing RMSE, checking all distance metrics\n",
    "for metric in sim_metrics:\n",
    "    knn_basic = KNNBasic(sim_options={'name': metric, 'user_based':True})\n",
    "    cv_knn_basic = cross_validate(knn_basic, data, n_jobs=-1)\n",
    "    print('Similarity Metric = ', metric,'---', 'test_rmse = ', np.mean(cv_knn_basic['test_rmse']),'\\n')\n",
    "    \n",
    "    "
   ]
  },
  {
   "cell_type": "code",
   "execution_count": 21,
   "metadata": {},
   "outputs": [
    {
     "name": "stdout",
     "output_type": "stream",
     "text": [
      "Estimating biases using als...\n",
      "Computing the pearson similarity matrix...\n",
      "Done computing similarity matrix.\n",
      "Estimating biases using als...\n",
      "Computing the pearson similarity matrix...\n",
      "Done computing similarity matrix.\n",
      "Estimating biases using als...\n",
      "Computing the pearson similarity matrix...\n",
      "Done computing similarity matrix.\n",
      "Estimating biases using als...\n",
      "Computing the pearson similarity matrix...\n",
      "Done computing similarity matrix.\n",
      "Estimating biases using als...\n",
      "Computing the pearson similarity matrix...\n",
      "Done computing similarity matrix.\n",
      "Similarity Metric =  pearson --- test_rmse =  0.8771035453844339 \n",
      "\n",
      "Estimating biases using als...\n",
      "Computing the pearson similarity matrix...\n",
      "Done computing similarity matrix.\n",
      "Estimating biases using als...\n",
      "Computing the pearson similarity matrix...\n",
      "Done computing similarity matrix.\n",
      "Estimating biases using als...\n",
      "Computing the pearson similarity matrix...\n",
      "Done computing similarity matrix.\n",
      "Estimating biases using als...\n",
      "Computing the pearson similarity matrix...\n",
      "Done computing similarity matrix.\n",
      "Estimating biases using als...\n",
      "Computing the pearson similarity matrix...\n",
      "Done computing similarity matrix.\n",
      "Similarity Metric =  MSD --- test_rmse =  0.8775863274552229 \n",
      "\n",
      "Estimating biases using als...\n",
      "Computing the pearson similarity matrix...\n",
      "Done computing similarity matrix.\n",
      "Estimating biases using als...\n",
      "Computing the pearson similarity matrix...\n",
      "Done computing similarity matrix.\n",
      "Estimating biases using als...\n",
      "Computing the pearson similarity matrix...\n",
      "Done computing similarity matrix.\n",
      "Estimating biases using als...\n",
      "Computing the pearson similarity matrix...\n",
      "Done computing similarity matrix.\n",
      "Estimating biases using als...\n",
      "Computing the pearson similarity matrix...\n",
      "Done computing similarity matrix.\n",
      "Similarity Metric =  cosine --- test_rmse =  0.8762923053263802 \n",
      "\n",
      "Estimating biases using als...\n",
      "Computing the pearson similarity matrix...\n",
      "Done computing similarity matrix.\n",
      "Estimating biases using als...\n",
      "Computing the pearson similarity matrix...\n",
      "Done computing similarity matrix.\n",
      "Estimating biases using als...\n",
      "Computing the pearson similarity matrix...\n",
      "Done computing similarity matrix.\n",
      "Estimating biases using als...\n",
      "Computing the pearson similarity matrix...\n",
      "Done computing similarity matrix.\n",
      "Estimating biases using als...\n",
      "Computing the pearson similarity matrix...\n",
      "Done computing similarity matrix.\n",
      "Similarity Metric =  pearson_baseline --- test_rmse =  0.8763316607635652 \n",
      "\n"
     ]
    }
   ],
   "source": [
    "# cross validating with KNNBaseline\n",
    "for metric in sim_metrics:\n",
    "    knn_baseline = KNNBaseline(sim_options={'name':'pearson', 'user_based':True})\n",
    "    cv_knn_baseline = cross_validate(knn_baseline,data)\n",
    "    print('Similarity Metric = ', metric,'---', 'test_rmse = ', np.mean(cv_knn_baseline['test_rmse']),'\\n')"
   ]
  },
  {
   "cell_type": "markdown",
   "metadata": {},
   "source": [
    "### Trying hit rate as an evaluation"
   ]
  },
  {
   "cell_type": "code",
   "execution_count": 22,
   "metadata": {},
   "outputs": [],
   "source": [
    "trainSet, testSet = train_test_split(data, test_size=.25, random_state=0)"
   ]
  },
  {
   "cell_type": "code",
   "execution_count": 23,
   "metadata": {},
   "outputs": [],
   "source": [
    "#Get top 10 predictions for ratings above 4\n",
    "def GetTopN(predictions, n=10, minimumRating=4.0):\n",
    "    topN = defaultdict(list)\n",
    "    for userID, movieID, actualRating, estimatedRating, _ in predictions:\n",
    "        if (estimatedRating >= minimumRating):\n",
    "            topN[int(userID)].append((int(movieID), estimatedRating))\n",
    "\n",
    "    for userID, ratings in topN.items():\n",
    "        ratings.sort(key=lambda x: x[1], reverse=True)\n",
    "        topN[int(userID)] = ratings[:n]\n",
    "\n",
    "    return topN\n",
    "    \n",
    "LOOCV = LeaveOneOut(n_splits=1, random_state=1)\n",
    "\n"
   ]
  },
  {
   "cell_type": "code",
   "execution_count": 69,
   "metadata": {},
   "outputs": [
    {
     "name": "stdout",
     "output_type": "stream",
     "text": [
      "Estimating biases using als...\n",
      "Computing the pearson similarity matrix...\n",
      "Done computing similarity matrix.\n"
     ]
    }
   ],
   "source": [
    "#Get top predictions \n",
    "#When I use n=10 for knn it gets 0 hits, expanding to 50 it got a positive non-zero amount\n",
    "#so I am confident it is working just doing a worse job likely due to sparseness. I expanded\n",
    "#both to 50 for now\n",
    "svd_model= SVD(n_factors=50,reg_all=0.05)\n",
    "KNN_model= KNNBaseline(sim_options={'name':'pearson', 'user_based':True})\n",
    "\n",
    "for trainSet, testSet in LOOCV.split(data):\n",
    "    # Train model without left-out ratings\n",
    "    svd_model.fit(trainSet)\n",
    "    leftOutPredictionsSVD = svd_model.test(testSet)\n",
    "    bigTestSet = trainSet.build_anti_testset()\n",
    "    allPredictionsSVD = svd_model.test(bigTestSet)\n",
    "    \n",
    "    KNN_model.fit(trainSet)\n",
    "    leftOutPredictionsKNN = KNN_model.test(testSet)\n",
    "    bigTestSet = trainSet.build_anti_testset()\n",
    "    allPredictionsKNN = KNN_model.test(bigTestSet)\n",
    "   \n",
    "  \n",
    "    # Compute top 50 recs for each user\n",
    "    topNPredictedSVD = GetTopN(allPredictionsSVD, n=50)\n",
    "    topNPredictedKNN = GetTopN(allPredictionsKNN, n=50)"
   ]
  },
  {
   "cell_type": "code",
   "execution_count": 25,
   "metadata": {},
   "outputs": [],
   "source": [
    "def HitRate(topNPredicted, leftOutPredictions):\n",
    "    hits = 0\n",
    "    total = 0\n",
    "\n",
    " # For each left-out rating\n",
    "    for leftOut in leftOutPredictions:\n",
    "        userID = leftOut[0]\n",
    "        leftOutMovieID = leftOut[1]\n",
    "        # Is it in the predicted top 50 for this user?\n",
    "        hit = False\n",
    "        for movieID, predictedRating in topNPredicted[int(userID)]:\n",
    "            if (int(leftOutMovieID) == int(movieID)):\n",
    "                hit = True\n",
    "                break\n",
    "        if (hit) :\n",
    "            hits += 1\n",
    "\n",
    "        total += 1\n",
    "\n",
    "    # Compute overall precision\n",
    "    return hits/total\n"
   ]
  },
  {
   "cell_type": "code",
   "execution_count": 26,
   "metadata": {},
   "outputs": [
    {
     "name": "stdout",
     "output_type": "stream",
     "text": [
      "\n",
      "Hit Rate SVD:  0.07868852459016394\n",
      "\n",
      "Hit Rate KNN:  0.003278688524590164\n"
     ]
    }
   ],
   "source": [
    "print(\"\\nHit Rate SVD: \", HitRate(topNPredictedSVD, leftOutPredictionsSVD))\n",
    "print(\"\\nHit Rate KNN: \", HitRate(topNPredictedKNN, leftOutPredictionsKNN))"
   ]
  },
  {
   "cell_type": "code",
   "execution_count": 27,
   "metadata": {},
   "outputs": [],
   "source": [
    "def RatingHitRate(topNPredicted, leftOutPredictions):\n",
    "    hits = defaultdict(float)\n",
    "    total = defaultdict(float)\n",
    "    # For each left-out rating\n",
    "    for userID, leftOutMovieID, actualRating, estimatedRating, _ in leftOutPredictions:\n",
    "        # Is it in the predicted top N for this user?\n",
    "        hit = False\n",
    "        for movieID, predictedRating in topNPredicted[int(userID)]:\n",
    "            if (int(leftOutMovieID) == movieID):\n",
    "                hit = True\n",
    "                break\n",
    "        if (hit) :\n",
    "            hits[actualRating] += 1\n",
    "        total[actualRating] += 1\n",
    "\n",
    "    # Compute overall precision\n",
    "    for rating in sorted(hits.keys()):\n",
    "        print(rating, hits[rating] / total[rating])"
   ]
  },
  {
   "cell_type": "code",
   "execution_count": 28,
   "metadata": {},
   "outputs": [
    {
     "name": "stdout",
     "output_type": "stream",
     "text": [
      "Hit Rate by Rating value SVD: \n",
      "2.5 0.06666666666666667\n",
      "3.0 0.02608695652173913\n",
      "3.5 0.041666666666666664\n",
      "4.0 0.07222222222222222\n",
      "4.5 0.22641509433962265\n",
      "5.0 0.13821138211382114\n"
     ]
    }
   ],
   "source": [
    "print(\"Hit Rate by Rating value SVD: \")\n",
    "RatingHitRate(topNPredictedSVD, leftOutPredictionsSVD)"
   ]
  },
  {
   "cell_type": "code",
   "execution_count": 29,
   "metadata": {},
   "outputs": [
    {
     "name": "stdout",
     "output_type": "stream",
     "text": [
      "Hit Rate by Rating value KNN: \n",
      "4.0 0.005555555555555556\n",
      "5.0 0.008130081300813009\n"
     ]
    }
   ],
   "source": [
    "print(\"Hit Rate by Rating value KNN: \")\n",
    "RatingHitRate(topNPredictedKNN, leftOutPredictionsKNN)"
   ]
  },
  {
   "cell_type": "code",
   "execution_count": 30,
   "metadata": {},
   "outputs": [],
   "source": [
    "def CumulativeHitRate(topNPredicted, leftOutPredictions, ratingCutoff=0):\n",
    "    hits = 0\n",
    "    total = 0\n",
    "    # For each left-out rating\n",
    "    for userID, leftOutMovieID, actualRating, estimatedRating, _ in leftOutPredictions:\n",
    "        # Only look at ability to recommend things the users actually liked...\n",
    "        if (actualRating >= ratingCutoff):\n",
    "            # Is it in the predicted top 10 for this user?\n",
    "            hit = False\n",
    "            for movieID, predictedRating in topNPredicted[int(userID)]:\n",
    "                if (int(leftOutMovieID) == movieID):\n",
    "                    hit = True\n",
    "                    break\n",
    "            if (hit) :\n",
    "                hits += 1\n",
    "            total += 1\n",
    "\n",
    "        # Compute overall precision\n",
    "    return hits/total"
   ]
  },
  {
   "cell_type": "code",
   "execution_count": 31,
   "metadata": {},
   "outputs": [
    {
     "name": "stdout",
     "output_type": "stream",
     "text": [
      "Cumulative Hit Rate SVD (rating >= 4):  0.11797752808988764\n"
     ]
    }
   ],
   "source": [
    "print(\"Cumulative Hit Rate SVD (rating >= 4): \", CumulativeHitRate(topNPredictedSVD, leftOutPredictionsSVD, 4.0))\n",
    "print(\"Cumulative Hit Rate KNN(rating >= 4): \", CumulativeHitRate(topNPredictedKNN, leftOutPredictionsKNN, 4.0))\n",
    "\n"
   ]
  },
  {
   "cell_type": "code",
   "execution_count": 33,
   "metadata": {},
   "outputs": [],
   "source": [
    "def AverageReciprocalHitRank(topNPredicted, leftOutPredictions):\n",
    "    summation = 0\n",
    "    total = 0\n",
    "        # For each left-out rating\n",
    "    for userID, leftOutMovieID, actualRating, estimatedRating, _ in leftOutPredictions:\n",
    "        # Is it in the predicted top N for this user?\n",
    "        hitRank = 0\n",
    "        rank = 0\n",
    "        for movieID, predictedRating in topNPredicted[int(userID)]:\n",
    "            rank = rank + 1\n",
    "            if (int(leftOutMovieID) == movieID):\n",
    "                hitRank = rank\n",
    "                break\n",
    "        if (hitRank > 0) :\n",
    "                summation += 1.0 / hitRank\n",
    "\n",
    "        total += 1\n",
    "\n",
    "    return summation / total"
   ]
  },
  {
   "cell_type": "code",
   "execution_count": 75,
   "metadata": {},
   "outputs": [
    {
     "name": "stdout",
     "output_type": "stream",
     "text": [
      "Average Reciprocal Hit Rank SVD:  0.009512677876033595\n",
      "Average Reciprocal Hit Rank KNN:  0.00017041000647558026\n"
     ]
    }
   ],
   "source": [
    "print(\"Average Reciprocal Hit Rank SVD: \", AverageReciprocalHitRank(topNPredictedSVD, leftOutPredictionsKNN))\n",
    "print(\"Average Reciprocal Hit Rank KNN: \", AverageReciprocalHitRank(topNPredictedKNN, leftOutPredictionsKNN))\n"
   ]
  },
  {
   "cell_type": "code",
   "execution_count": 118,
   "metadata": {},
   "outputs": [],
   "source": [
    "def dcg(scores):\n",
    "    assert scores\n",
    "    return scores[0] sum(sc / log(ind, 2) for sc, ind in zip(scores[1:], range(2, len(scores)+1)))\n",
    "\n",
    "def ndcg(predicted_scores, user_scores):\n",
    "    assert len(predicted_scores) == len(user_scores)\n",
    "    idcg = dcg(sorted(user_scores, reverse=True))\n",
    "    return (dcg(predicted_scores) / idcg) if idcg > 0.0 else 0.0"
   ]
  },
  {
   "cell_type": "code",
   "execution_count": 119,
   "metadata": {},
   "outputs": [],
   "source": [
    "testRatings = []\n",
    "for row in testSet:\n",
    "    testRatings.append(row[2])\n",
    "predRatingsSVD = []\n",
    "for row in leftOutPredictionsSVD:\n",
    "    predRatingsSVD.append(row[3])\n",
    "predRatingsKNN = []\n",
    "for row in leftOutPredictionsKNN:\n",
    "    predRatingsKNN.append(row[3])"
   ]
  },
  {
   "cell_type": "code",
   "execution_count": 120,
   "metadata": {},
   "outputs": [
    {
     "name": "stdout",
     "output_type": "stream",
     "text": [
      "NDCG Value SVD: 0.9472480195254469\n",
      "NDCG Value KNN: 0.9537237238490631\n"
     ]
    }
   ],
   "source": [
    "print('NDCG Value SVD:', ndcg(predRatingsSVD,testRatings))\n",
    "print('NDCG Value KNN:', ndcg(predRatingsKNN,testRatings))"
   ]
  },
  {
   "cell_type": "code",
   "execution_count": 121,
   "metadata": {},
   "outputs": [
    {
     "data": {
      "text/plain": [
       "300.99982660453685"
      ]
     },
     "execution_count": 121,
     "metadata": {},
     "output_type": "execute_result"
    }
   ],
   "source": [
    "dcg(testRatings)"
   ]
  },
  {
   "cell_type": "code",
   "execution_count": 99,
   "metadata": {},
   "outputs": [
    {
     "data": {
      "text/plain": [
       "0.1896877077900542"
      ]
     },
     "execution_count": 99,
     "metadata": {},
     "output_type": "execute_result"
    }
   ],
   "source": [
    "diff = []\n",
    "for i in range(0,len(predRatingsSVD)):\n",
    "    diff.append(abs(predRatingsSVD[i]-predRatingsKNN[i]))\n",
    "np.mean(diff)"
   ]
  },
  {
   "cell_type": "code",
   "execution_count": 97,
   "metadata": {},
   "outputs": [
    {
     "data": {
      "text/plain": [
       "[0.1750840525795887,\n",
       " 0.054513872131246366,\n",
       " 0.05523239410818448,\n",
       " 0.18518193709513397,\n",
       " 0.14178900732309074,\n",
       " 0.494313320740134,\n",
       " 0.17733126527442789,\n",
       " 0.27502958883405393,\n",
       " 0.30398183568290627,\n",
       " 0.2195241915276842,\n",
       " 0.1351000940908218,\n",
       " 0.23759918554220327,\n",
       " 0.07076526611147305,\n",
       " 0.018085376885584648,\n",
       " 0.42936393915255744,\n",
       " 0.3158420018973418,\n",
       " 0.23442010344313458,\n",
       " 0.0391962126807468,\n",
       " 0.5639167087775165,\n",
       " 0.09022595247899323,\n",
       " 0.6166016455770063,\n",
       " 0.34285925893864855,\n",
       " 0.016831154907491985,\n",
       " 0.10412557427198799,\n",
       " 0.09223496484715454,\n",
       " 0.22863963817730726,\n",
       " 0.6265471396568745,\n",
       " 0.1812823450883574,\n",
       " 0.3181739298296602,\n",
       " 0.547024238632388,\n",
       " 0.09029607584550581,\n",
       " 0.05613440396230018,\n",
       " 0.11457739406142498,\n",
       " 0.059809562411602624,\n",
       " 0.19072273300487108,\n",
       " 0.14311860673162569,\n",
       " 0.31939295654886424,\n",
       " 0.018974475637761667,\n",
       " 0.10271734995515303,\n",
       " 0.12690501553451483,\n",
       " 0.22961732149179115,\n",
       " 0.22067556272884836,\n",
       " 0.11531022161466842,\n",
       " 0.5734666142640585,\n",
       " 0.052752363276708625,\n",
       " 0.1920253708225017,\n",
       " 0.012340206572436063,\n",
       " 0.03385175518886907,\n",
       " 0.12599986517002115,\n",
       " 0.11082792222501547,\n",
       " 0.23041903690092136,\n",
       " 0.2732471282368065,\n",
       " 0.3142654441674484,\n",
       " 0.3704937859523638,\n",
       " 0.20309043064892363,\n",
       " 0.2343270913567035,\n",
       " 0.09006271689764933,\n",
       " 0.08791345028376663,\n",
       " 0.5343422135105342,\n",
       " 0.021990927279489814,\n",
       " 0.10303420092367777,\n",
       " 0.03568707402094029,\n",
       " 0.4265593196664961,\n",
       " 0.060446733903740224,\n",
       " 0.20119666591804997,\n",
       " 0.06677220217225077,\n",
       " 0.166877941871582,\n",
       " 0.14823342296480035,\n",
       " 0.14315362030507028,\n",
       " 0.11391207705077644,\n",
       " 0.32390204811710444,\n",
       " 0.17216200030753548,\n",
       " 0.023925169594452456,\n",
       " 0.2711539933774052,\n",
       " 0.2348157604715646,\n",
       " 0.04880174626803413,\n",
       " 0.05224339816617807,\n",
       " 0.24354185096810088,\n",
       " 0.028114442546953278,\n",
       " 0.3338221980018252,\n",
       " 0.15150508676640984,\n",
       " 0.1543802650396202,\n",
       " 0.12868220957949017,\n",
       " 0.08808563896670485,\n",
       " 0.12622922461003672,\n",
       " 0.2092142125437162,\n",
       " 0.118186506034752,\n",
       " 0.10396349793931314,\n",
       " 0.25675617181132404,\n",
       " 0.09698289200382115,\n",
       " 0.008520225325745034,\n",
       " 0.15853419912479438,\n",
       " 0.14667512490436785,\n",
       " 0.09692777399397245,\n",
       " 0.013575665449094387,\n",
       " 0.04781041972703415,\n",
       " 0.20839415127684724,\n",
       " 0.007958108338135261,\n",
       " 0.3366813076361157,\n",
       " 0.0588690285712512,\n",
       " 0.01916012330789174,\n",
       " 0.14085831842008956,\n",
       " 0.15066324744971604,\n",
       " 0.24657945614210908,\n",
       " 0.2181894661813124,\n",
       " 0.12513662533918524,\n",
       " 0.021892328302657305,\n",
       " 0.09765405864979426,\n",
       " 0.06845998790105057,\n",
       " 0.25952943274118834,\n",
       " 0.0806731115261714,\n",
       " 0.024498572613790515,\n",
       " 0.1939893096963683,\n",
       " 0.0744697900492648,\n",
       " 0.0001750004312066622,\n",
       " 0.2482700885962288,\n",
       " 0.18469460911924562,\n",
       " 0.1618069316673152,\n",
       " 0.07566094178437766,\n",
       " 0.004244645075878406,\n",
       " 0.08489459695153334,\n",
       " 0.34659964355527073,\n",
       " 0.047790911686666604,\n",
       " 0.007527800347649549,\n",
       " 0.5940501776944762,\n",
       " 0.0630600417598024,\n",
       " 0.11837796043496418,\n",
       " 0.159126731613064,\n",
       " 0.3004955930246327,\n",
       " 0.010161065256111712,\n",
       " 0.3978008600487275,\n",
       " 0.07273799380212287,\n",
       " 0.19273738883828528,\n",
       " 0.012172915089647685,\n",
       " 0.0796330847697253,\n",
       " 0.317863914345891,\n",
       " 0.16019639665061014,\n",
       " 0.20799365698568373,\n",
       " 0.06680633304822203,\n",
       " 0.1695008897267476,\n",
       " 0.10524114276181917,\n",
       " 0.34715552745135225,\n",
       " 0.031687177662965915,\n",
       " 0.13067167374153588,\n",
       " 0.2618587552030158,\n",
       " 0.20338860459973374,\n",
       " 0.1545109603306254,\n",
       " 0.5495400764352456,\n",
       " 0.2683116863729058,\n",
       " 0.15940982555591443,\n",
       " 0.3508150484963979,\n",
       " 0.24444458402703084,\n",
       " 0.034143605933707466,\n",
       " 0.13224712620073653,\n",
       " 0.08117166868377046,\n",
       " 0.0350200966099119,\n",
       " 0.4301101157216016,\n",
       " 0.06303043923485685,\n",
       " 0.5069167646409265,\n",
       " 0.12013915659706997,\n",
       " 0.04977159750566784,\n",
       " 0.2620731155825564,\n",
       " 0.4184174745186131,\n",
       " 0.10168095774695463,\n",
       " 0.10856028228905279,\n",
       " 0.17381064810334035,\n",
       " 0.004682802783256612,\n",
       " 0.40504148042831645,\n",
       " 0.05731950314035483,\n",
       " 0.06983341893949158,\n",
       " 0.28483917987119556,\n",
       " 0.07534034060132644,\n",
       " 0.1824533932214889,\n",
       " 0.2850638100117724,\n",
       " 0.8849026224971452,\n",
       " 0.02560567222791743,\n",
       " 0.2919418527744151,\n",
       " 0.23969815912324055,\n",
       " 0.0016414385932099762,\n",
       " 0.04301161890689853,\n",
       " 0.28539588999047005,\n",
       " 0.20129978341934995,\n",
       " 0.28990870518438294,\n",
       " 0.5330538678021428,\n",
       " 0.3475166729385455,\n",
       " 0.166933416276541,\n",
       " 0.12258057336889916,\n",
       " 0.018489297790862835,\n",
       " 0.01655827344735261,\n",
       " 0.0745019020938642,\n",
       " 0.24241986278446293,\n",
       " 0.36757110834699835,\n",
       " 0.16866288159637133,\n",
       " 0.12185474944248709,\n",
       " 0.10506632053844411,\n",
       " 0.02331766553297765,\n",
       " 0.036640990098045556,\n",
       " 0.16930935005046388,\n",
       " 0.14892971493504437,\n",
       " 0.004772638741681323,\n",
       " 0.024801260088056054,\n",
       " 0.12918053413953867,\n",
       " 0.07983312039177193,\n",
       " 0.1553340188184258,\n",
       " 0.018625089236942838,\n",
       " 0.08411919298715365,\n",
       " 0.02998324486747128,\n",
       " 0.06234959031864351,\n",
       " 0.06506788500355576,\n",
       " 0.06656429654436335,\n",
       " 0.1047999129623971,\n",
       " 0.13884398833694211,\n",
       " 0.030525145696907785,\n",
       " 0.08779964151818653,\n",
       " 0.004002353642889922,\n",
       " 0.44253866514455753,\n",
       " 0.21396452460717885,\n",
       " 0.14037521620907434,\n",
       " 0.12749868957312271,\n",
       " 0.035655444905195566,\n",
       " 0.04009177388681717,\n",
       " 0.38226630868130496,\n",
       " 0.011079518405556765,\n",
       " 0.15256220789578645,\n",
       " 0.22441028358148296,\n",
       " 0.20105489075319927,\n",
       " 0.8662786213449802,\n",
       " 0.05999830709606346,\n",
       " 0.25588557296420333,\n",
       " 0.15920405338623178,\n",
       " 0.34794569444610746,\n",
       " 0.319516293186207,\n",
       " 0.31798776259500183,\n",
       " 0.0926054212953007,\n",
       " 0.200021059416426,\n",
       " 0.1085944853260079,\n",
       " 0.015318019844547504,\n",
       " 0.2685886417876904,\n",
       " 0.11553572760551845,\n",
       " 0.2705196162012893,\n",
       " 0.07129156216366805,\n",
       " 0.09196873096694169,\n",
       " 0.13490714932823433,\n",
       " 0.6855746827810218,\n",
       " 0.1107821383111589,\n",
       " 0.14491607148048047,\n",
       " 0.030156687248786174,\n",
       " 0.3374368688527909,\n",
       " 0.14977795946945527,\n",
       " 0.02244136135740682,\n",
       " 0.2524602654700372,\n",
       " 0.014691958333228783,\n",
       " 0.34812172184983803,\n",
       " 0.03377590831367083,\n",
       " 0.6055155544898678,\n",
       " 0.4143741569798225,\n",
       " 0.1010988192855451,\n",
       " 0.19556953664591514,\n",
       " 0.3809599353204298,\n",
       " 0.35433995380765326,\n",
       " 0.277086120031961,\n",
       " 0.11909371342834563,\n",
       " 0.030921242166540797,\n",
       " 0.22801634420809558,\n",
       " 0.5984342681351134,\n",
       " 0.042598610261835645,\n",
       " 0.06818276231120546,\n",
       " 0.19051684171728311,\n",
       " 0.03315708258324079,\n",
       " 0.1569474841077172,\n",
       " 0.33410065895706076,\n",
       " 0.41752319420498285,\n",
       " 0.004753358398359886,\n",
       " 0.1538158813267132,\n",
       " 0.43938010270667416,\n",
       " 0.5701422770534745,\n",
       " 0.18842877315931084,\n",
       " 0.15644432902221928,\n",
       " 0.10448614943081402,\n",
       " 6.395269793735281e-06,\n",
       " 0.20201244545856456,\n",
       " 0.33471150836746677,\n",
       " 0.08320185335961616,\n",
       " 0.42165394650995314,\n",
       " 0.2597838099871659,\n",
       " 0.045880780534912624,\n",
       " 0.12705380009965772,\n",
       " 0.27541485528513476,\n",
       " 0.01884317046090267,\n",
       " 0.09837343007788046,\n",
       " 0.1225133347027807,\n",
       " 0.44873828112481373,\n",
       " 0.2943364648600779,\n",
       " 0.8516654806566282,\n",
       " 0.11755439633021147,\n",
       " 0.44499277320579766,\n",
       " 0.31857903562806333,\n",
       " 0.25903939133509835,\n",
       " 0.2377437445093622,\n",
       " 0.07673180960981263,\n",
       " 0.2494146915921891,\n",
       " 0.20730790628346796,\n",
       " 0.07882783247401859,\n",
       " 0.02222539075206864,\n",
       " 0.12904580419777556,\n",
       " 0.6715484311194433,\n",
       " 0.28740151286269855,\n",
       " 0.02027861059907954,\n",
       " 0.19637081691150726,\n",
       " 0.003332973307145881,\n",
       " 0.27005654049699457,\n",
       " 0.1912247083418963,\n",
       " 0.030733037289212284,\n",
       " 0.28888625705155935,\n",
       " 0.42089132783973593,\n",
       " 0.21742602738722727,\n",
       " 0.17719963067992728,\n",
       " 0.49363564057656895,\n",
       " 0.11342242789972712,\n",
       " 0.18675743389260768,\n",
       " 0.21119313775884363,\n",
       " 0.045169550408492576,\n",
       " 0.0077798842245906386,\n",
       " 0.40877018772215434,\n",
       " 0.0908974555408606,\n",
       " 0.3351901100147847,\n",
       " 0.13318460193133808,\n",
       " 0.3373243542896418,\n",
       " 0.31450883783059824,\n",
       " 0.2155776467002286,\n",
       " 0.007998215692619048,\n",
       " 0.2584598217283669,\n",
       " 0.21574176285272362,\n",
       " 0.15323384493611814,\n",
       " 0.1139000048910006,\n",
       " 0.14805641628796185,\n",
       " 0.412981485865906,\n",
       " 0.19469149557632104,\n",
       " 0.03680842021523656,\n",
       " 0.2715045722240528,\n",
       " 0.2502679763992237,\n",
       " 0.05869430329069525,\n",
       " 0.2086860586890884,\n",
       " 0.24250727372682235,\n",
       " 0.43384694894474984,\n",
       " 0.11370850182312298,\n",
       " 0.12876900040001704,\n",
       " 0.27590218980361136,\n",
       " 0.00573977887866528,\n",
       " 0.23890968375231658,\n",
       " 0.007388883885599551,\n",
       " 0.015586785444891671,\n",
       " 0.012143227892079445,\n",
       " 0.026443755046956063,\n",
       " 0.24152151120473686,\n",
       " 0.09512362651676787,\n",
       " 0.1141781928487493,\n",
       " 0.13075248032305176,\n",
       " 0.002296065648673018,\n",
       " 0.09924206660616353,\n",
       " 0.5989785854449652,\n",
       " 0.21419037620392167,\n",
       " 0.08715760158432895,\n",
       " 0.1218436645266987,\n",
       " 1.0521114182047802,\n",
       " 0.056764191496245786,\n",
       " 0.12160146266638439,\n",
       " 0.06865813368766194,\n",
       " 0.24892894287882505,\n",
       " 0.13814711391988022,\n",
       " 0.2363060201119751,\n",
       " 0.15775758441862786,\n",
       " 0.22685109999852537,\n",
       " 0.11376480535253108,\n",
       " 0.18910441363904162,\n",
       " 0.11086956301140338,\n",
       " 0.14358374630706905,\n",
       " 0.15781351034082736,\n",
       " 0.03718149106554769,\n",
       " 0.09219918308555464,\n",
       " 0.0031419015132847505,\n",
       " 0.23652561984412168,\n",
       " 0.88563153444822,\n",
       " 0.12396870043823016,\n",
       " 0.6278319166565187,\n",
       " 0.0049920976020074725,\n",
       " 0.046595856827857496,\n",
       " 0.022168812754710387,\n",
       " 0.2182661006688713,\n",
       " 0.3827840414889554,\n",
       " 0.3178305447258989,\n",
       " 0.22857475666593396,\n",
       " 0.11874913077273108,\n",
       " 0.08025934322113981,\n",
       " 0.18823642251107797,\n",
       " 0.5770479002343114,\n",
       " 0.4146534565461355,\n",
       " 0.01967125688521243,\n",
       " 0.1409685695790408,\n",
       " 0.09500646061246965,\n",
       " 0.012675125966061351,\n",
       " 0.04437799256705599,\n",
       " 0.09220604953063827,\n",
       " 0.2250306428685982,\n",
       " 0.10929141982879598,\n",
       " 0.26639279319292,\n",
       " 0.21237047090273098,\n",
       " 0.06503019876274507,\n",
       " 0.03330140171011564,\n",
       " 0.7454379399335416,\n",
       " 0.05593809889871526,\n",
       " 0.06898351642474676,\n",
       " 0.08435851129041971,\n",
       " 0.29040234258375675,\n",
       " 0.2074923221306033,\n",
       " 0.3645269341516677,\n",
       " 0.04965158453172336,\n",
       " 0.12208982174469885,\n",
       " 0.36249150628722404,\n",
       " 0.016207094715031012,\n",
       " 0.13839918836452014,\n",
       " 0.2065977111106636,\n",
       " 0.05921775334791235,\n",
       " 0.04750881906358817,\n",
       " 0.19179293731421065,\n",
       " 0.42945986128019165,\n",
       " 0.21754348155235004,\n",
       " 0.22306834878210946,\n",
       " 0.11421721564145715,\n",
       " 0.08646950992922875,\n",
       " 0.4218286812484475,\n",
       " 0.0360646730948031,\n",
       " 0.17018933323624585,\n",
       " 0.22185798286649439,\n",
       " 0.1211576815803248,\n",
       " 0.16800775559366876,\n",
       " 0.1790109175499497,\n",
       " 0.2583858306766489,\n",
       " 0.03964051197326146,\n",
       " 0.11948435952563052,\n",
       " 0.03277677538677626,\n",
       " 0.685593825571579,\n",
       " 0.047027836612540064,\n",
       " 0.09531032970719489,\n",
       " 0.21396913484106506,\n",
       " 0.023173529940067272,\n",
       " 0.30326328026069005,\n",
       " 0.4600637608940472,\n",
       " 0.14920729438357005,\n",
       " 0.08320356589521438,\n",
       " 0.015600551944569219,\n",
       " 0.005246483422423509,\n",
       " 0.07573771923533323,\n",
       " 0.00622111848929352,\n",
       " 0.004397363123178177,\n",
       " 0.09223487527918861,\n",
       " 0.045980298023406974,\n",
       " 0.07023731589953464,\n",
       " 0.24969745893954087,\n",
       " 0.24044078722009044,\n",
       " 0.43615396193089717,\n",
       " 0.1624905348296788,\n",
       " 0.21855064495087673,\n",
       " 0.4400822199332177,\n",
       " 0.17647704292910227,\n",
       " 0.049084249260737955,\n",
       " 0.08302516162932827,\n",
       " 0.29039043754900895,\n",
       " 0.07010928274647021,\n",
       " 0.039454007433990856,\n",
       " 0.007122968648737071,\n",
       " 0.3197245285955681,\n",
       " 0.21382860226738654,\n",
       " 0.28696454666402893,\n",
       " 0.021287411606444095,\n",
       " 0.07024950277910413,\n",
       " 0.15528919607589975,\n",
       " 0.10353485697141229,\n",
       " 0.013534584441887265,\n",
       " 0.06165097963541388,\n",
       " 0.32873612025014687,\n",
       " 0.09991437037421669,\n",
       " 0.31843310600909236,\n",
       " 0.42722236838169714,\n",
       " 0.176581767694306,\n",
       " 0.04260112811564021,\n",
       " 0.35161429047904535,\n",
       " 0.1374316764480037,\n",
       " 0.6163591627934855,\n",
       " 0.08740897148268001,\n",
       " 0.07273799324971097,\n",
       " 0.09316870585346848,\n",
       " 0.3118969299260521,\n",
       " 0.2337940726315848,\n",
       " 0.3639629452817186,\n",
       " 0.026489016783162622,\n",
       " 0.21115640387003065,\n",
       " 0.24120298224480186,\n",
       " 0.3474273673249515,\n",
       " 0.04251670728056345,\n",
       " 0.22120415203639254,\n",
       " 0.21067376346212807,\n",
       " 0.19793706704290281,\n",
       " 0.019929118533991375,\n",
       " 0.19179269869979976,\n",
       " 0.06736444336964054,\n",
       " 0.0004186425122427728,\n",
       " 0.6144850411154379,\n",
       " 0.006800097383375281,\n",
       " 0.17016326153929917,\n",
       " 0.14880355830593217,\n",
       " 0.04259250295295747,\n",
       " 0.14582872086165288,\n",
       " 0.04701595776831757,\n",
       " 0.5255219430047973,\n",
       " 0.19918901615247453,\n",
       " 0.7428839675592962,\n",
       " 0.2059179252212826,\n",
       " 0.08748175850336892,\n",
       " 0.06216632437257541,\n",
       " 0.18140012989167964,\n",
       " 0.10682212106171196,\n",
       " 0.19303966600770472,\n",
       " 0.06951812360028642,\n",
       " 0.2729703327243387,\n",
       " 0.11636145160406741,\n",
       " 0.11490240862389278,\n",
       " 0.1491643549008379,\n",
       " 0.1465394689996229,\n",
       " 0.0006961097071074285,\n",
       " 0.02660844054748379,\n",
       " 0.05454375227438124,\n",
       " 0.013158720073822572,\n",
       " 0.9950788255557819,\n",
       " 0.2082877439106352,\n",
       " 0.013628025672606014,\n",
       " 0.11054499306824006,\n",
       " 0.07228776595607211,\n",
       " 0.2671669696577337,\n",
       " 1.2714237132959418,\n",
       " 0.10868022021672807,\n",
       " 0.04213258082530613,\n",
       " 0.0316134285980727,\n",
       " 0.2447938820896125,\n",
       " 0.030328530422789157,\n",
       " 0.43873753189296893,\n",
       " 0.03064867459527454,\n",
       " 0.06872777820900566,\n",
       " 0.1421668860673191,\n",
       " 0.07827851688331755,\n",
       " 0.03357029941595613,\n",
       " 0.2533139790442993,\n",
       " 0.17341146724632273,\n",
       " 0.27511999495452066,\n",
       " 0.007078681216019955,\n",
       " 1.1081463725966798,\n",
       " 0.08126618860684465,\n",
       " 0.2796746755083981,\n",
       " 0.2984437947385645,\n",
       " 0.3970610805985202,\n",
       " 0.35884686023320844,\n",
       " 0.747506018923052,\n",
       " 0.006252790646277706,\n",
       " 0.014513456708294736,\n",
       " 0.2202533566115754,\n",
       " 0.08144679962522439,\n",
       " 0.4356090426483661,\n",
       " 0.03641410766523512,\n",
       " 0.3840629356516687,\n",
       " 0.11220570041302924,\n",
       " 0.0095845751025041,\n",
       " 0.3620464603979059,\n",
       " 0.2559592434580349,\n",
       " 0.17881165286366008,\n",
       " 0.5854958559366374,\n",
       " 0.3083434854279252,\n",
       " 0.46405480170497704,\n",
       " 0.10738458140755158,\n",
       " 0.0021665510886657025,\n",
       " 0.012712864773458676,\n",
       " 0.3382082837318645,\n",
       " 0.09888482743532512,\n",
       " 0.10003052332729911,\n",
       " 0.29617346697403235,\n",
       " 0.06048575273215384,\n",
       " 0.17558040375615924,\n",
       " 0.08446554910362547,\n",
       " 0.16720925058246294,\n",
       " 0.02604688271461697,\n",
       " 0.02525115824946056,\n",
       " 0.22591150054747056,\n",
       " 0.1996533901752917,\n",
       " 0.11205986779268295,\n",
       " 0.4469821159373044,\n",
       " 0.3037133003967112,\n",
       " 0.1595764941850737,\n",
       " 0.0094823897947931,\n",
       " 0.01797259838786225,\n",
       " 0.13591535931977905,\n",
       " 0.09764746011517955,\n",
       " 0.07409056020771887,\n",
       " 0.018922899684327366,\n",
       " 0.45571875655532157,\n",
       " 0.12539513309691408,\n",
       " 0.6210487566481047,\n",
       " 0.48210714358235096,\n",
       " 0.1376176448395312,\n",
       " 0.5100069174390747,\n",
       " 0.02649241443066508,\n",
       " 0.005545439463737534]"
      ]
     },
     "execution_count": 97,
     "metadata": {},
     "output_type": "execute_result"
    }
   ],
   "source": []
  },
  {
   "cell_type": "code",
   "execution_count": null,
   "metadata": {},
   "outputs": [],
   "source": []
  },
  {
   "cell_type": "code",
   "execution_count": null,
   "metadata": {},
   "outputs": [],
   "source": []
  },
  {
   "cell_type": "code",
   "execution_count": null,
   "metadata": {},
   "outputs": [],
   "source": []
  },
  {
   "cell_type": "markdown",
   "metadata": {},
   "source": [
    "Its pretty clear that the SVD model is outperforming the KNN model here. It was slightly better using RMSE and is significantly better using a hit rate method."
   ]
  },
  {
   "cell_type": "markdown",
   "metadata": {},
   "source": [
    "## Make recommendations"
   ]
  },
  {
   "cell_type": "code",
   "execution_count": null,
   "metadata": {},
   "outputs": [],
   "source": [
    "def movie_rec(movie_df,n_ratings=4, genre=None,n_recs=5):\n",
    "    '''This function takes in the movies dataframe, number of new ratings, genre choice, and\n",
    "    number of recommendations requested and returns that many reccomendations'''\n",
    "    userID = 1000\n",
    "    rating_list = []\n",
    "    while n_ratings > 0:\n",
    "        if genre:\n",
    "            movie = movie_df[movie_df['genres'].str.contains(genre)].sample(1)\n",
    "        else:\n",
    "            movie = movie_df.sample(1)\n",
    "        print(movie)\n",
    "        rating = input('How do you rate this movie on a scale of 1-5, press n if you have not seen :\\n')\n",
    "        if rating == 'n':\n",
    "            continue\n",
    "        else:\n",
    "            rating_one_movie = {'userId':userID,'movieId':movie['movieId'].values[0],'rating':rating}\n",
    "            rating_list.append(rating_one_movie) \n",
    "            n_ratings -= 1\n",
    "    ratings_df2 = ratings_df.append(rating_list,ignore_index=True)\n",
    "    new_data = Dataset.load_from_df(ratings_df2,reader)\n",
    "    svd_model= SVD(n_factors=50,reg_all=0.05)\n",
    "    svd_model.fit(new_data.build_full_trainset())\n",
    "# make predictions for the user\n",
    "# you'll probably want to create a list of tuples in the format (movie_id, predicted_score)\n",
    "    list_of_movies = []\n",
    "    for m_id in ratings_df2['movieId'].unique():\n",
    "        list_of_movies.append( (m_id,svd_model.predict(1000,m_id)[3]))\n",
    "    \n",
    "# order the predictions from highest to lowest rated\n",
    "    ranked_movies = sorted(list_of_movies, key=lambda x:x[1], reverse=True)\n",
    "    for idx, rec in enumerate(ranked_movies):\n",
    "            title = movies_df.loc[movies_df['movieId'] == int(rec[0])]['title']\n",
    "            print('Recommendation # ', idx+1, ': ', title, '\\n')\n",
    "            n_recs-= 1\n",
    "            if n_recs == 0:\n",
    "                break"
   ]
  },
  {
   "cell_type": "code",
   "execution_count": null,
   "metadata": {},
   "outputs": [],
   "source": [
    "n_ratings=4\n",
    "n_recs=10"
   ]
  },
  {
   "cell_type": "code",
   "execution_count": null,
   "metadata": {},
   "outputs": [],
   "source": [
    "movie_rec(movies_df, n_ratings,'Comedy',n_recs)"
   ]
  },
  {
   "cell_type": "code",
   "execution_count": null,
   "metadata": {},
   "outputs": [],
   "source": []
  },
  {
   "cell_type": "code",
   "execution_count": null,
   "metadata": {},
   "outputs": [],
   "source": []
  },
  {
   "cell_type": "code",
   "execution_count": null,
   "metadata": {},
   "outputs": [],
   "source": []
  },
  {
   "cell_type": "code",
   "execution_count": null,
   "metadata": {},
   "outputs": [],
   "source": []
  }
 ],
 "metadata": {
  "kernelspec": {
   "display_name": "Python 3",
   "language": "python",
   "name": "python3"
  },
  "language_info": {
   "codemirror_mode": {
    "name": "ipython",
    "version": 3
   },
   "file_extension": ".py",
   "mimetype": "text/x-python",
   "name": "python",
   "nbconvert_exporter": "python",
   "pygments_lexer": "ipython3",
   "version": "3.7.4"
  }
 },
 "nbformat": 4,
 "nbformat_minor": 2
}
